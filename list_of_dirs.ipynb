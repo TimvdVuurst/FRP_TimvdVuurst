{
 "cells": [
  {
   "cell_type": "code",
   "execution_count": 1,
   "metadata": {},
   "outputs": [],
   "source": [
    "import numpy as np\n",
    "import os\n",
    "import itertools\n",
    "\n",
    "DATAPATH = r'C:\\Users\\timvd\\Documents\\Uni 2023-2024\\First Research Project\\Data'"
   ]
  },
  {
   "cell_type": "code",
   "execution_count": 2,
   "metadata": {},
   "outputs": [],
   "source": [
    "def flatten_list(nested_list):\n",
    "    return list(itertools.chain(*nested_list))"
   ]
  },
  {
   "cell_type": "code",
   "execution_count": 3,
   "metadata": {},
   "outputs": [],
   "source": [
    "mask = [x.isnumeric() for x in os.listdir(DATAPATH)]\n",
    "datadirs = np.array(os.listdir(DATAPATH))[mask]\n",
    "datadirs2 = [os.path.join(DATAPATH,d) for d in datadirs]\n",
    "\n",
    "ztfnames = [os.listdir(dir) for dir in datadirs2]\n",
    "\n"
   ]
  },
  {
   "cell_type": "code",
   "execution_count": 4,
   "metadata": {},
   "outputs": [],
   "source": [
    "banlist = np.array(os.listdir(DATAPATH))[np.invert(mask)]"
   ]
  },
  {
   "cell_type": "code",
   "execution_count": 19,
   "metadata": {},
   "outputs": [],
   "source": [
    "def walkdatapath(): #only run if the txt file is completely empty else you get duplicates.\n",
    "   files = []\n",
    "   for root, dirs, files in os.walk(DATAPATH, topdown=False):\n",
    "      if np.any([d in root for d in banlist]):\n",
    "         continue\n",
    "      for name in files:\n",
    "         if 'batchfp' not in name:\n",
    "            continue\n",
    "         else:\n",
    "            with open('list_of_dirs.txt','a') as f:\n",
    "               f.write(os.path.join(root, name)+'\\n')\n",
    "walkdatapath()"
   ]
  },
  {
   "cell_type": "code",
   "execution_count": 20,
   "metadata": {},
   "outputs": [],
   "source": [
    "with open('list_of_dirs.txt','r') as f:\n",
    "    lines = f.readlines()\n",
    "\n",
    "assert len(set(lines)) == len(lines), 'There are duplicates.'"
   ]
  },
  {
   "cell_type": "code",
   "execution_count": 21,
   "metadata": {},
   "outputs": [],
   "source": [
    "assert sum(['batchfp' in d for d in lines]) == len(lines), 'Some none batchfp files leaked through.'"
   ]
  }
 ],
 "metadata": {
  "kernelspec": {
   "display_name": "Python 3",
   "language": "python",
   "name": "python3"
  },
  "language_info": {
   "codemirror_mode": {
    "name": "ipython",
    "version": 3
   },
   "file_extension": ".py",
   "mimetype": "text/x-python",
   "name": "python",
   "nbconvert_exporter": "python",
   "pygments_lexer": "ipython3",
   "version": "3.9.2"
  }
 },
 "nbformat": 4,
 "nbformat_minor": 2
}
