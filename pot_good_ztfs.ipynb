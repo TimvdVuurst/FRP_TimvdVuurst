{
 "cells": [
  {
   "cell_type": "code",
   "execution_count": null,
   "metadata": {},
   "outputs": [],
   "source": [
    "import os\n",
    "import numpy as np\n",
    "import pandas as pd\n",
    "from forced_phot import ZTF_forced_phot\n"
   ]
  },
  {
   "cell_type": "code",
   "execution_count": 40,
   "metadata": {},
   "outputs": [
    {
     "name": "stdout",
     "output_type": "stream",
     "text": [
      "782\n",
      "'ZTF_g' 1\n",
      "Each lower bound must be strictly less than each upper bound. 24\n",
      "Optimal parameters not found: The maximum number of function evaluations is exceeded. 72\n",
      "Weights sum to zero 15\n",
      "[Errno 2] No such file or directory 312\n",
      "`x0` is infeasible. 77\n",
      "`ydata` must not be empty! 123\n",
      "cannot do a non-empty take from an empty axes. 158\n"
     ]
    }
   ],
   "source": [
    "errpath = r'C:\\Users\\timvd\\Documents\\Uni 2023-2024\\First Research Project\\Code\\FRP_TimvdVuurst\\runlogs\\error_log.txt'\n",
    "with open(errpath) as errfile:\n",
    "    errs = errfile.readlines()\n",
    "\n",
    "print(len(errs))\n",
    "\n",
    "relevant_errors = [e for e in errs if ('clean' not in e)]\n",
    "\n",
    "pot_good = [e.split(',')[0] for e in errs if 'non-empty' in e]\n",
    "# err_messages = [if 'directory' not in e e.split(',')[1] else  for e in errs]\n",
    "err_messages = []\n",
    "for e in errs:\n",
    "    e = e.split(',')[1].strip()\n",
    "    if 'directory' in e:\n",
    "        e = e.split(':')[0]\n",
    "    err_messages.append(e)\n",
    "    \n",
    "# print(err_messages)\n",
    "uniques,counts = np.unique(err_messages,return_counts=True)\n",
    "for e,n in zip(uniques,counts):\n",
    "    print(e,n)\n",
    "\n",
    "def ztf_dir_finder(ztf: str,datapath: str = r'C:\\Users\\timvd\\Documents\\Uni 2023-2024\\First Research Project\\Data') -> str:\n",
    "    year = ztf[3:5]\n",
    "    dpath = os.path.join(datapath,year,ztf)\n",
    "    return dpath\n",
    "\n",
    "pot_dirs = [ztf_dir_finder(e) for e in pot_good]\n"
   ]
  },
  {
   "cell_type": "code",
   "execution_count": null,
   "metadata": {},
   "outputs": [],
   "source": [
    "goodones = []\n",
    "for ztf,dir in zip(pot_good,pot_dirs):\n",
    "    try:\n",
    "        ztfobj = ZTF_forced_phot(ztf_dir=dir,onefilt_crosscor=False)\n",
    "        ztfobj.fit(plot=False,fit_i=False)\n",
    "        goodones.append(ztf)\n",
    "    except:\n",
    "        # print(f\"{ztf} didn't work\")\n",
    "        continue"
   ]
  },
  {
   "cell_type": "code",
   "execution_count": 22,
   "metadata": {},
   "outputs": [
    {
     "data": {
      "text/plain": [
       "[]"
      ]
     },
     "execution_count": 22,
     "metadata": {},
     "output_type": "execute_result"
    }
   ],
   "source": [
    "goodones"
   ]
  }
 ],
 "metadata": {
  "kernelspec": {
   "display_name": "Python 3",
   "language": "python",
   "name": "python3"
  },
  "language_info": {
   "codemirror_mode": {
    "name": "ipython",
    "version": 3
   },
   "file_extension": ".py",
   "mimetype": "text/x-python",
   "name": "python",
   "nbconvert_exporter": "python",
   "pygments_lexer": "ipython3",
   "version": "3.11.8"
  }
 },
 "nbformat": 4,
 "nbformat_minor": 2
}
