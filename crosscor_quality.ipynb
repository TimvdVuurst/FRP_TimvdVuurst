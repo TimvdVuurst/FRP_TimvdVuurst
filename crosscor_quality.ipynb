{
 "cells": [
  {
   "cell_type": "code",
   "execution_count": 1,
   "metadata": {},
   "outputs": [
    {
     "name": "stdout",
     "output_type": "stream",
     "text": [
      "(13467, 39) (9577, 39)\n"
     ]
    },
    {
     "data": {
      "text/plain": [
       "Index(['Unnamed: 0', 'ZTF_ID', 'F_p', 'F_p_err', 't_0', 't_0_err',\n",
       "       'sigma_rise', 'sigma_rise_err', 'tau_dec', 'tau_dec_err', 'T', 'T_err',\n",
       "       'F_0g', 'F_0g_err', 'F_0r', 'F_0r_err', 'log10_F_p', 'log10_F_p_err',\n",
       "       'log10_sigma_rise', 'log10_sigma_rise_err', 'log10_tau_dec',\n",
       "       'log10_tau_dec_err', 'log10_T', 'log10_T_err', 'nu_0', 't0_cc', 'Fp_cc',\n",
       "       'chi2_dof', 'dmg', 'dmr', 'refmag_g', 'refmag_unc_g', 'refmag_r',\n",
       "       'refmag_unc_r', 'classified', 'fit_quality_good', 'strong',\n",
       "       'in_selection', 'opt_df_over_rms'],\n",
       "      dtype='object')"
      ]
     },
     "execution_count": 1,
     "metadata": {},
     "output_type": "execute_result"
    }
   ],
   "source": [
    "import numpy as np\n",
    "import matplotlib.pyplot as plt\n",
    "import matplotlib.patheffects as PathEffects\n",
    "from sjoert.stellar import flux2mag\n",
    "import pandas as pd\n",
    "import forced_phot as fp #import flux_jy, chi2, gaussian, chi2_peak_finder\n",
    "import os\n",
    "\n",
    "dpath = r'C:\\Users\\timvd\\Documents\\Uni 2023-2024\\First Research Project\\Data'\n",
    "fullcatalogue = pd.read_csv(os.path.join(dpath,'transient_catalogue.txt'))\n",
    "catalogue = fullcatalogue[fullcatalogue['fit_quality_good'].values * fullcatalogue['classified']] #in class info the duplicates are probably kept out\n",
    "print(fullcatalogue.shape,catalogue.shape)\n",
    "ids = catalogue['ZTF_ID'].values\n",
    "catalogue.columns"
   ]
  },
  {
   "cell_type": "code",
   "execution_count": 2,
   "metadata": {},
   "outputs": [
    {
     "data": {
      "text/html": [
       "<div>\n",
       "<style scoped>\n",
       "    .dataframe tbody tr th:only-of-type {\n",
       "        vertical-align: middle;\n",
       "    }\n",
       "\n",
       "    .dataframe tbody tr th {\n",
       "        vertical-align: top;\n",
       "    }\n",
       "\n",
       "    .dataframe thead th {\n",
       "        text-align: right;\n",
       "    }\n",
       "</style>\n",
       "<table border=\"1\" class=\"dataframe\">\n",
       "  <thead>\n",
       "    <tr style=\"text-align: right;\">\n",
       "      <th></th>\n",
       "      <th>Unnamed: 0</th>\n",
       "      <th>ZTF_ID</th>\n",
       "      <th>F_p</th>\n",
       "      <th>F_p_err</th>\n",
       "      <th>t_0</th>\n",
       "      <th>t_0_err</th>\n",
       "      <th>sigma_rise</th>\n",
       "      <th>sigma_rise_err</th>\n",
       "      <th>tau_dec</th>\n",
       "      <th>tau_dec_err</th>\n",
       "      <th>...</th>\n",
       "      <th>dmr</th>\n",
       "      <th>refmag_g</th>\n",
       "      <th>refmag_unc_g</th>\n",
       "      <th>refmag_r</th>\n",
       "      <th>refmag_unc_r</th>\n",
       "      <th>classified</th>\n",
       "      <th>fit_quality_good</th>\n",
       "      <th>strong</th>\n",
       "      <th>in_selection</th>\n",
       "      <th>opt_df_over_rms</th>\n",
       "    </tr>\n",
       "  </thead>\n",
       "  <tbody>\n",
       "    <tr>\n",
       "      <th>4175</th>\n",
       "      <td>4175</td>\n",
       "      <td>ZTF19aaejtoy</td>\n",
       "      <td>893.402505</td>\n",
       "      <td>1.836683</td>\n",
       "      <td>179.937522</td>\n",
       "      <td>0.391709</td>\n",
       "      <td>47.521026</td>\n",
       "      <td>0.320688</td>\n",
       "      <td>271.646817</td>\n",
       "      <td>0.604335</td>\n",
       "      <td>...</td>\n",
       "      <td>1.001027</td>\n",
       "      <td>16.057</td>\n",
       "      <td>0.035</td>\n",
       "      <td>15.434</td>\n",
       "      <td>0.044</td>\n",
       "      <td>True</td>\n",
       "      <td>True</td>\n",
       "      <td>True</td>\n",
       "      <td>True</td>\n",
       "      <td>0.710912</td>\n",
       "    </tr>\n",
       "  </tbody>\n",
       "</table>\n",
       "<p>1 rows × 39 columns</p>\n",
       "</div>"
      ],
      "text/plain": [
       "      Unnamed: 0        ZTF_ID         F_p   F_p_err         t_0   t_0_err  \\\n",
       "4175        4175  ZTF19aaejtoy  893.402505  1.836683  179.937522  0.391709   \n",
       "\n",
       "      sigma_rise  sigma_rise_err     tau_dec  tau_dec_err  ...       dmr  \\\n",
       "4175   47.521026        0.320688  271.646817     0.604335  ...  1.001027   \n",
       "\n",
       "      refmag_g  refmag_unc_g  refmag_r  refmag_unc_r  classified  \\\n",
       "4175    16.057         0.035    15.434         0.044        True   \n",
       "\n",
       "      fit_quality_good  strong  in_selection  opt_df_over_rms  \n",
       "4175              True    True          True         0.710912  \n",
       "\n",
       "[1 rows x 39 columns]"
      ]
     },
     "execution_count": 2,
     "metadata": {},
     "output_type": "execute_result"
    }
   ],
   "source": [
    "all_ztfs = fullcatalogue['ZTF_ID'].values\n",
    "fullcatalogue[fullcatalogue['ZTF_ID'] == 'ZTF19aaejtoy']"
   ]
  },
  {
   "cell_type": "code",
   "execution_count": 3,
   "metadata": {},
   "outputs": [],
   "source": [
    "# sjoertflares = r'C:\\Users\\timvd\\Documents\\Uni 2023-2024\\First Research Project\\Data\\Sjoert_Flares'\n",
    "# sjoertztfs_all = np.array(os.listdir(sjoertflares)[1:])\n",
    "# # # print(sjoertztfs_all)\n",
    "# # sjoertztfs = sjoertztfs_all[np.invert(np.isin(sjoertztfs_all,fullcatalogue['ZTF_ID'].values))]\n",
    "# # print(sjoertztfs)\n",
    "# # sjoertpaths = np.array([os.path.join(sjoertflares,ztf) for ztf in sjoertztfs])\n",
    "# # sjoertztfs_all[np.invert(np.isin(sjoertztfs_all,sjoertztfs))]\n",
    "# for sjoert_flare in sjoertztfs_all:\n",
    "#     print(sjoert_flare,sjoert_flare in all_ztfs)"
   ]
  },
  {
   "cell_type": "code",
   "execution_count": 8,
   "metadata": {},
   "outputs": [
    {
     "name": "stdout",
     "output_type": "stream",
     "text": [
      "32.06141816396988 53.24891321537043 0.5441216479985126 62.156104232030096\n"
     ]
    }
   ],
   "source": [
    "t0_cc = catalogue['t0_cc'].values\n",
    "t0 = catalogue['t_0'].values\n",
    "t0_err = catalogue['t_0_err'].values\n",
    "offset = np.abs(t0 - t0_cc)\n",
    "print(np.mean(offset),np.std(offset),np.std(offset)/np.sqrt(len(t0)),np.sqrt(np.mean(np.square(offset))))"
   ]
  }
 ],
 "metadata": {
  "kernelspec": {
   "display_name": "Python 3",
   "language": "python",
   "name": "python3"
  },
  "language_info": {
   "codemirror_mode": {
    "name": "ipython",
    "version": 3
   },
   "file_extension": ".py",
   "mimetype": "text/x-python",
   "name": "python",
   "nbconvert_exporter": "python",
   "pygments_lexer": "ipython3",
   "version": "3.11.8"
  }
 },
 "nbformat": 4,
 "nbformat_minor": 2
}
