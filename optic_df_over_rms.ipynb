{
 "cells": [
  {
   "cell_type": "code",
   "execution_count": 37,
   "metadata": {},
   "outputs": [],
   "source": [
    "import numpy as np\n",
    "import matplotlib.pyplot as plt\n",
    "from sjoert.stellar import flux2mag,mag2flux\n",
    "import pandas as pd\n",
    "import forced_phot as fp #import flux_jy, chi2, gaussian, chi2_peak_finder\n",
    "import os\n",
    "\n",
    "param_label_dict = {'sigma_rise':r'$\\sigma_{\\text{rise}}$','tau_dec':r'$\\tau_{\\text{dec}}$',\n",
    "                    'log10_sigma_rise':r'$\\sigma_{\\text{rise}}$','log10_tau_dec':r'$\\tau_{\\text{dec}}$',\n",
    "                    'F_p':r'F$_{\\text{peak}}$','peak_g':r'F$_{\\text{p,g}}$','peak_r':r'F$_{\\text{p,r}}$','MBH':r'$\\log_{10}($M$_{\\text{BH}}/M_{\\odot})$',\n",
    "                    'dmg':r'$\\Delta$m$_g$','dmr':r'$\\Delta$m$_r$'}\n",
    "\n",
    "#==\n",
    "#Load in the data\n",
    "dpath = r'C:\\Users\\timvd\\Documents\\Uni 2023-2024\\First Research Project\\Data'\n",
    "fullcatalogue = pd.read_csv(os.path.join(dpath,'transient_catalogue.txt'))\n",
    "# catalogue = fullcatalogue[fullcatalogue['in_selection']].iloc[:,:-2]\n"
   ]
  },
  {
   "cell_type": "code",
   "execution_count": 38,
   "metadata": {},
   "outputs": [],
   "source": [
    "def find_3_sigma_tau(t,t0,sigma,tau):\n",
    "    sigma_thresh = t0 - 3 * sigma\n",
    "    tau__thresh = t0 + 3 * tau\n",
    "    tmask = np.logical_or((t <= sigma_thresh),(t >= tau__thresh))\n",
    "\n",
    "    if tmask.sum() >= 30:\n",
    "        return tmask\n",
    "    else:\n",
    "        return None\n",
    "    \n",
    "def rms(arr):\n",
    "    return np.sqrt(np.mean(np.square(arr)))\n",
    "\n",
    "def optical_df_over_rms(flux,time,t0,sigma,tau,delta_m):\n",
    "    deltaF = mag2flux(delta_m)\n",
    "    mask = find_3_sigma_tau(time,t0,sigma,tau)\n",
    "    if mask is not None:\n",
    "        f_rms = rms(flux[mask])\n",
    "        return deltaF / f_rms\n",
    "    else:\n",
    "        return None\n",
    "\n"
   ]
  },
  {
   "cell_type": "code",
   "execution_count": 53,
   "metadata": {},
   "outputs": [],
   "source": [
    "def gen_paths():\n",
    "    ztf_ids = fullcatalogue['ZTF_ID'].values\n",
    "    datapaths = []\n",
    "    for ztf in ztf_ids:\n",
    "        year = ztf[3:5]\n",
    "        datapaths.append(os.path.join(dpath,year,ztf))\n",
    "    return datapaths\n",
    "datapaths = gen_paths()"
   ]
  },
  {
   "cell_type": "code",
   "execution_count": 55,
   "metadata": {},
   "outputs": [],
   "source": [
    "test = [1,2,4]"
   ]
  },
  {
   "cell_type": "code",
   "execution_count": 56,
   "metadata": {},
   "outputs": [],
   "source": [
    "test_ztf = r'C:\\Users\\timvd\\Documents\\Uni 2023-2024\\First Research Project\\Data\\18\\ZTF18abjjkeo'\n",
    "def run_optical_rms(ztf_dir=test_ztf,ztf_name=None):\n",
    "    if ztf_name == None:\n",
    "        ztf_name = os.path.split(ztf_dir)[-1]\n",
    "\n",
    "    full_data_dir = os.path.join(ztf_dir,ztf_name+'_clean_data.txt')\n",
    "    try:\n",
    "        params = fullcatalogue[fullcatalogue['ZTF_ID'] == ztf_name][['t_0','sigma_rise','tau_dec','dmg']].values[0]\n",
    "    except IndexError: #ZTF ID is not in the full catalogue\n",
    "        return None\n",
    "\n",
    "    clean_data = pd.read_csv(full_data_dir,\n",
    "                                 sep='\\t',comment='#',\n",
    "                                 names=['time','flux','flux_unc','zeropoint','filter'])[['time','flux']]\n",
    "    \n",
    "    return optical_df_over_rms(clean_data['flux'].values,clean_data['time'].values,*params)\n",
    "\n",
    "def run_all():\n",
    "    optical_df_over_rms = []\n",
    "    for dir in datapaths:\n",
    "        optical_df_over_rms.append(run_optical_rms(dir))\n",
    "    \n",
    "    return optical_df_over_rms\n",
    "\n",
    "##Run and save to dataframe, overwritin the previous\n",
    "# optical_df_over_rms = run_all()\n",
    "# fullcatalogue['opt_df_over_rms'] = optical_df_over_rms\n",
    "# fullcatalogue.to_csv(os.path.join(dpath,'transient_catalogue.txt'))"
   ]
  },
  {
   "cell_type": "code",
   "execution_count": null,
   "metadata": {},
   "outputs": [],
   "source": []
  }
 ],
 "metadata": {
  "kernelspec": {
   "display_name": "Python 3",
   "language": "python",
   "name": "python3"
  },
  "language_info": {
   "codemirror_mode": {
    "name": "ipython",
    "version": 3
   },
   "file_extension": ".py",
   "mimetype": "text/x-python",
   "name": "python",
   "nbconvert_exporter": "python",
   "pygments_lexer": "ipython3",
   "version": "3.11.8"
  }
 },
 "nbformat": 4,
 "nbformat_minor": 2
}
