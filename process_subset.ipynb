{
 "cells": [
  {
   "cell_type": "markdown",
   "metadata": {},
   "source": [
    "## Here goes the file which tests creating a subset (use list of dirs or something similar to pick ~1400 random clean files)"
   ]
  },
  {
   "cell_type": "code",
   "execution_count": 1,
   "metadata": {},
   "outputs": [],
   "source": [
    "import numpy as np\n",
    "import os\n",
    "import itertools\n",
    "import shutil\n",
    "import pandas as pd\n",
    "import forced_phot as fp\n",
    "\n",
    "DATAPATH = r'C:\\Users\\timvd\\Documents\\Uni 2023-2024\\First Research Project\\Data'\n",
    "mask = [x.isnumeric() for x in os.listdir(DATAPATH)]\n",
    "datadirs = np.array(os.listdir(DATAPATH))[mask]\n",
    "datadirs2 = [os.path.join(DATAPATH,d) for d in datadirs]\n",
    "ztfnames = [os.listdir(dir) for dir in datadirs2]\n",
    "banlist = np.array(os.listdir(DATAPATH))[np.invert(mask)]"
   ]
  },
  {
   "cell_type": "code",
   "execution_count": 2,
   "metadata": {},
   "outputs": [],
   "source": [
    "# for i,ddir in enumerate(datadirs2):\n",
    "#     for ztfname in ztfnames[i]:\n",
    "#         with open('list_of_dirs.txt','a') as f:\n",
    "#                f.write(os.path.join(ddir, ztfname)+'\\n')\n"
   ]
  },
  {
   "cell_type": "code",
   "execution_count": 3,
   "metadata": {},
   "outputs": [],
   "source": [
    "def flatten_list(nested_list):\n",
    "    return list(itertools.chain(*nested_list))"
   ]
  },
  {
   "cell_type": "code",
   "execution_count": 4,
   "metadata": {},
   "outputs": [
    {
     "data": {
      "text/plain": [
       "14242"
      ]
     },
     "execution_count": 4,
     "metadata": {},
     "output_type": "execute_result"
    }
   ],
   "source": [
    "len(flatten_list(ztfnames))"
   ]
  },
  {
   "cell_type": "code",
   "execution_count": 5,
   "metadata": {},
   "outputs": [],
   "source": [
    "def walkdatapath(): #only run if the txt file is completely empty else you get duplicates.\n",
    "   files = []\n",
    "   for root, dirs, files in os.walk(DATAPATH, topdown=False):\n",
    "      if np.any([d in root for d in banlist]):\n",
    "         continue\n",
    "      for name in files:\n",
    "         if 'clean_data' in name:\n",
    "            # print(os.path.join(root,name))\n",
    "            with open('list_of_clean_dirs.txt','a') as f:\n",
    "               f.write(os.path.join(root, name)+'\\n')\n"
   ]
  },
  {
   "cell_type": "code",
   "execution_count": 6,
   "metadata": {},
   "outputs": [
    {
     "data": {
      "text/plain": [
       "(1424, (1353,))"
      ]
     },
     "execution_count": 6,
     "metadata": {},
     "output_type": "execute_result"
    }
   ],
   "source": [
    "with open('list_of_dirs.txt','r') as f:\n",
    "    lines = f.readlines()\n",
    "\n",
    "lines = np.array([l.strip('\\n') for l in lines],dtype=str)\n",
    "n = len(lines)\n",
    "np.random.seed(42)\n",
    "sample_idx = np.random.randint(0,n-1,n//10)\n",
    "len(sample_idx),np.unique(sample_idx).shape"
   ]
  },
  {
   "cell_type": "code",
   "execution_count": 7,
   "metadata": {},
   "outputs": [],
   "source": [
    "sample = lines[sample_idx]\n",
    "\n",
    "#largely based on\n",
    "#https://stackoverflow.com/questions/1868714/how-do-i-copy-an-entire-directory-of-files-into-an-existing-directory-using-pyth\n",
    "#with own alterations\n",
    "def copytree(src, dst, symlinks=False, ignore=None):\n",
    "    for item in os.listdir(src):\n",
    "        s = os.path.join(src, item)\n",
    "        dst_full = os.path.join(dst,os.path.split(src)[-1])\n",
    "        d = os.path.join(dst_full, item)\n",
    "        if os.path.isdir(dst_full):\n",
    "            shutil.copy2(s, d)\n",
    "        else:\n",
    "            os.mkdir(dst_full)\n",
    "            shutil.copy2(s, d)\n",
    "        \n",
    "\n",
    "\n",
    "# for i,path in enumerate(sample):\n",
    "#     copytree(path,r'C:\\Users\\timvd\\Documents\\Uni 2023-2024\\First Research Project\\Data\\random_subset')\n",
    "\n",
    "\n",
    "# # pd.read_csv(sample[0],sep='\\t',comment='#',names=['time','flux','flux_unc','zeropoint','filter'])"
   ]
  },
  {
   "cell_type": "code",
   "execution_count": 8,
   "metadata": {},
   "outputs": [],
   "source": [
    "sampledir = r'C:\\Users\\timvd\\Documents\\Uni 2023-2024\\First Research Project\\Data\\random_subset'\n"
   ]
  },
  {
   "cell_type": "code",
   "execution_count": 20,
   "metadata": {},
   "outputs": [
    {
     "name": "stdout",
     "output_type": "stream",
     "text": [
      "ZTF18aaaqlci\n",
      "Optimal parameters not found: The maximum number of function evaluations is exceeded.\n",
      "\n",
      "ZTF18aagrhdb\n",
      "Optimal parameters not found: The maximum number of function evaluations is exceeded.\n",
      "\n",
      "ZTF18aajsypz\n",
      "Optimal parameters not found: The maximum number of function evaluations is exceeded.\n",
      "\n",
      "ZTF18aatfefo\n",
      "Optimal parameters not found: The maximum number of function evaluations is exceeded.\n",
      "\n",
      "ZTF18aatybbp\n",
      "Optimal parameters not found: The maximum number of function evaluations is exceeded.\n",
      "\n",
      "ZTF18aazffjy\n",
      "Optimal parameters not found: The maximum number of function evaluations is exceeded.\n",
      "\n",
      "ZTF18abbpwzy\n",
      "Optimal parameters not found: The maximum number of function evaluations is exceeded.\n",
      "\n",
      "ZTF18absbsts\n",
      "`ydata` must not be empty!\n",
      "\n",
      "ZTF18absiecw\n",
      "Optimal parameters not found: The maximum number of function evaluations is exceeded.\n",
      "\n",
      "ZTF18abtclfv\n",
      "Optimal parameters not found: The maximum number of function evaluations is exceeded.\n",
      "\n",
      "ZTF18abtomal\n",
      "`ydata` must not be empty!\n",
      "\n",
      "ZTF18acaopar\n",
      "Optimal parameters not found: The maximum number of function evaluations is exceeded.\n",
      "\n",
      "ZTF18actzyzs\n",
      "`ydata` must not be empty!\n",
      "\n",
      "ZTF18acvvtko\n",
      "Optimal parameters not found: The maximum number of function evaluations is exceeded.\n",
      "\n",
      "ZTF19aadfxfj\n",
      "Optimal parameters not found: The maximum number of function evaluations is exceeded.\n",
      "\n",
      "ZTF19aafpvty\n",
      "`ydata` must not be empty!\n",
      "\n",
      "ZTF19aahsikb\n",
      "`ydata` must not be empty!\n",
      "\n",
      "ZTF19aahwaqu\n",
      "`ydata` must not be empty!\n",
      "\n",
      "ZTF19aalezwv\n",
      "Optimal parameters not found: The maximum number of function evaluations is exceeded.\n",
      "\n",
      "ZTF19aalggpp\n",
      "`ydata` must not be empty!\n",
      "\n",
      "ZTF19aanxrki\n",
      "Optimal parameters not found: The maximum number of function evaluations is exceeded.\n",
      "\n",
      "ZTF19aavanad\n",
      "Optimal parameters not found: The maximum number of function evaluations is exceeded.\n",
      "\n",
      "ZTF19abjfmap\n",
      "Optimal parameters not found: The maximum number of function evaluations is exceeded.\n",
      "\n",
      "ZTF19aboqvjp\n",
      "Optimal parameters not found: The maximum number of function evaluations is exceeded.\n",
      "\n",
      "ZTF19abttslq\n",
      "`ydata` must not be empty!\n",
      "\n",
      "ZTF19acetiai\n",
      "`ydata` must not be empty!\n",
      "\n",
      "ZTF19acnplmb\n",
      "Optimal parameters not found: The maximum number of function evaluations is exceeded.\n",
      "\n",
      "ZTF19adcbaly\n",
      "Optimal parameters not found: The maximum number of function evaluations is exceeded.\n",
      "\n",
      "ZTF19adcgatd\n",
      "Optimal parameters not found: The maximum number of function evaluations is exceeded.\n",
      "\n",
      "ZTF19adhaeaf\n",
      "`ydata` must not be empty!\n",
      "\n",
      "ZTF20aaezfjd\n",
      "`ydata` must not be empty!\n",
      "\n",
      "ZTF20aaigcqt\n",
      "Optimal parameters not found: The maximum number of function evaluations is exceeded.\n",
      "\n",
      "ZTF20ablzabg\n",
      "Optimal parameters not found: The maximum number of function evaluations is exceeded.\n",
      "\n",
      "No viable g or r data in ZTF20abzzelz. Skipping this instance.\n",
      "ZTF20aceekuk\n",
      "`ydata` must not be empty!\n",
      "\n",
      "ZTF20acejbtu\n",
      "Optimal parameters not found: The maximum number of function evaluations is exceeded.\n",
      "\n",
      "ZTF20acvicrb\n",
      "Optimal parameters not found: The maximum number of function evaluations is exceeded.\n",
      "\n",
      "No viable g or r data in ZTF21aaaytyv. Skipping this instance.\n",
      "ZTF21aahisrc\n",
      "`ydata` must not be empty!\n",
      "\n",
      "No viable g or r data in ZTF21aahmuon. Skipping this instance.\n",
      "No viable g or r data in ZTF21aajvyzp. Skipping this instance.\n",
      "ZTF21aakfqwq\n",
      "`ydata` must not be empty!\n",
      "\n",
      "No viable g or r data in ZTF21aaptmrn. Skipping this instance.\n",
      "ZTF21aazhgvb\n",
      "Optimal parameters not found: The maximum number of function evaluations is exceeded.\n",
      "\n",
      "No viable g or r data in ZTF21abgygva. Skipping this instance.\n",
      "No viable g or r data in ZTF21abyvjif. Skipping this instance.\n",
      "ZTF21acnwvbd\n",
      "Optimal parameters not found: The maximum number of function evaluations is exceeded.\n",
      "\n",
      "ZTF22aaaoers\n",
      "Optimal parameters not found: The maximum number of function evaluations is exceeded.\n",
      "\n",
      "No viable g or r data in ZTF22aabgbug. Skipping this instance.\n",
      "ZTF22aashlck\n",
      "`ydata` must not be empty!\n",
      "\n",
      "No viable g or r data in ZTF22aauhyzf. Skipping this instance.\n",
      "ZTF22abtcyiu\n",
      "Optimal parameters not found: The maximum number of function evaluations is exceeded.\n",
      "\n",
      "ZTF23aabibdt\n",
      "Optimal parameters not found: The maximum number of function evaluations is exceeded.\n",
      "\n",
      "THERE ARE 44 OUT OF 1341 INSTANCES WHICH DIDN'T WORK\n"
     ]
    }
   ],
   "source": [
    "n_err = 0\n",
    "for i,ztf in enumerate(os.listdir(sampledir)):\n",
    "    # if i < 500:\n",
    "    # print(ztf)\n",
    "    try:\n",
    "        ztf_obj = fp.ZTF_forced_phot(os.path.join(sampledir,ztf),ztf_name=ztf)\n",
    "    except FileNotFoundError:\n",
    "        shutil.rmtree(os.path.join(sampledir,ztf))\n",
    "\n",
    "    # ztf_obj.plot_clean_unclean_data()\n",
    "    # print(ztf_obj.guesses_g)\n",
    "    # print(ztf_obj.boundings_g)\n",
    "    try:\n",
    "        ztf_obj.fit(False)\n",
    "    except Exception as e:\n",
    "        print(ztf)\n",
    "        print(e)\n",
    "        print()\n",
    "        n_err += 1\n",
    "\n",
    "\n",
    "print(f\"THERE ARE {n_err} OUT OF {len(os.listdir(sampledir))} INSTANCES WHICH DIDN'T WORK\")\n",
    "\n",
    "\n",
    "\n"
   ]
  },
  {
   "cell_type": "code",
   "execution_count": 21,
   "metadata": {},
   "outputs": [],
   "source": [
    "# with open(r'C:\\Users\\timvd\\Documents\\Uni 2023-2024\\First Research Project\\Data\\random_subset\\no_viable_g_or_r.txt') as delfile:\n",
    "#     dellines = delfile.readlines()\n",
    "\n",
    "# dellines = [l.strip('\\n') for l in dellines]\n",
    "# for ztf in os.listdir(sampledir):\n",
    "#     if ztf in dellines:\n",
    "#         shutil.rmtree(os.path.join(sampledir,ztf))"
   ]
  },
  {
   "cell_type": "markdown",
   "metadata": {},
   "source": [
    "fringe case where cross correlation didn't work"
   ]
  },
  {
   "cell_type": "code",
   "execution_count": 23,
   "metadata": {},
   "outputs": [
    {
     "name": "stdout",
     "output_type": "stream",
     "text": [
      "-46.522349500097334\n",
      "0 295\n",
      "[-17.86785775 -19.70403172  47.55257286  58.56744647  -1.24763405\n",
      "   4.15704514 -23.40844772 -24.68461443 -21.51098492 -18.27373666\n",
      " -17.73609898 -14.55558968 -20.01818188 -23.8805886  -27.68752486\n",
      " -23.06678878 -18.09744168 -14.56384096 -13.75842278 -16.76948063\n",
      " -20.46843229 102.60680508  53.12733639 -14.44340241 -12.2542881\n",
      "  53.8890754   55.2587334  -19.96243987 -27.87633052 -15.84927408\n",
      " -21.38910394 -17.30728053 -15.98902329 -27.34094733 -23.66954855\n",
      " -13.88762293 -20.1990883  -19.89766305 -22.86058042 -19.0632761\n",
      " -13.74844604 -21.37423036 -15.36352372 -18.59539503 -25.2167912\n",
      " -15.35453824 -16.75970963 -16.03707225 -20.0899843  -16.67725167\n",
      " -20.66015565 -20.5166794  -19.40368791 -16.99746949 -21.75232058\n",
      " 171.75042153] 5\n",
      "-25.747830232574987\n",
      "56.08591166914902\n"
     ]
    },
    {
     "data": {
      "image/png": "[encoded data removed]",
      "text/plain": [
       "<Figure size 640x480 with 1 Axes>"
      ]
     },
     "metadata": {},
     "output_type": "display_data"
    },
    {
     "data": {
      "image/png": "[encoded data removed]",
      "text/plain": [
       "<Figure size 640x480 with 1 Axes>"
      ]
     },
     "metadata": {},
     "output_type": "display_data"
    },
    {
     "name": "stdout",
     "output_type": "stream",
     "text": [
      "1702.2415161998942\n",
      "597.3336110999808\n"
     ]
    }
   ],
   "source": [
    "clean_data = pd.read_csv(os.path.join(sampledir,'ZTF17aaaecja','ZTF17aaaecja_clean_data.txt'),sep='\\t',comment='#',names=['time','flux','flux_unc','zeropoint','filter'])\n",
    "clean_data.sort_values('time',inplace=True) #sort the data by time for plotting reasons later on\n",
    "no_i_mask = clean_data['filter'] != 'ZTF_i' #create the ZTf_i mask to filter out ZTF-i-band data.\n",
    "flux,err = fp.flux_jy(clean_data) #convert the flux and its errors to uJY\n",
    "err = np.clip(err,0.01*flux,np.inf) # clip the errors to be at least 1% of the flux\n",
    "clean_data['flux'] = flux.values #overwrite with new data\n",
    "clean_data['flux_unc'] = err.values \n",
    "time_zeropoint = 2458484.5 #JD of 01-01-2019 @ 00:00:00.000\n",
    "#transform time column\n",
    "time_mjd = clean_data['time'] - time_zeropoint\n",
    "clean_data['time'] = time_mjd.values \n",
    "\n",
    "flux, err, time = clean_data[['flux','flux_unc','time']].T.to_numpy(dtype=np.float64)\n",
    "# print(time)\n",
    "clean_filtermasks = [(clean_data['filter'] == 'ZTF_g'), (clean_data['filter'] == 'ZTF_r'), (clean_data['filter'] == 'ZTF_i')]\n",
    "clean_filtermasks[0].sum()\n",
    "# no_i_mask = np.invert(clean_filtermasks[-1])\n",
    "# print(time-)\n",
    "# peak_ind,t_0_guess,peak_guess = fp.cross_correlation(flux,time,2458484.5,full_output=False)\n",
    "# print(time-2458484.5)\n",
    "cross_corr, peak, timesteps_for_gauss, best_flux = fp.cross_correlation(flux,time,full_output=True)\n",
    "# t_0_guess = 150 + 2458484.5\n",
    "t_0_guess = timesteps_for_gauss[peak]\n",
    "print(t_0_guess)\n",
    "time_mask_pure = (clean_data['time'] > (t_0_guess - 365)) & (clean_data['time'] < (t_0_guess+365*2)) #these are the times we will be fitting on\n",
    "time_mask = time_mask_pure * no_i_mask # also filter out ZTF_i measurements\n",
    "print(sum(np.invert(time_mask)&clean_filtermasks[0]),len(time_mask))\n",
    "# print(t_0_guess)\n",
    "print(flux[clean_filtermasks[0]],5)\n",
    "print(np.percentile(flux[time_mask & clean_filtermasks[0]],5))\n",
    "print(np.percentile(flux[time_mask & clean_filtermasks[0]],95))\n",
    "# print(np.percentile(flux[np.invert(time_mask)&clean_filtermasks[0]],5))\n",
    "\n",
    "import matplotlib.pyplot as plt\n",
    "plt.scatter(timesteps_for_gauss,cross_corr)\n",
    "plt.show()\n",
    "plt.scatter(time[clean_filtermasks[0]],flux[clean_filtermasks[0]])\n",
    "plt.scatter(t_0_guess,best_flux)\n",
    "plt.show()\n",
    "print(max(time[clean_filtermasks[1]]))\n",
    "print(max(time[time_mask]))"
   ]
  }
 ],
 "metadata": {
  "kernelspec": {
   "display_name": "Python 3",
   "language": "python",
   "name": "python3"
  },
  "language_info": {
   "codemirror_mode": {
    "name": "ipython",
    "version": 3
   },
   "file_extension": ".py",
   "mimetype": "text/x-python",
   "name": "python",
   "nbconvert_exporter": "python",
   "pygments_lexer": "ipython3",
   "version": "3.11.8"
  }
 },
 "nbformat": 4,
 "nbformat_minor": 2
}
