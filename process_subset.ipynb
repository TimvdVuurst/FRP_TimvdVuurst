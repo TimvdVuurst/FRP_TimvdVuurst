{
 "cells": [
  {
   "cell_type": "markdown",
   "metadata": {},
   "source": [
    "## Here goes the file which tests creating a subset (use list of dirs or something similar to pick ~1400 random clean files)"
   ]
  }
 ],
 "metadata": {
  "language_info": {
   "name": "python"
  }
 },
 "nbformat": 4,
 "nbformat_minor": 2
}
