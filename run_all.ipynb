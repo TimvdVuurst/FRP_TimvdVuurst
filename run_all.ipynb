{
 "cells": [
  {
   "cell_type": "code",
   "execution_count": 1,
   "metadata": {},
   "outputs": [],
   "source": [
    "import numpy as np\n",
    "import os\n",
    "import itertools\n",
    "import shutil\n",
    "import pandas as pd\n",
    "import forced_phot as fp\n",
    "import json\n",
    "\n",
    "def flatten_list(nested_list):\n",
    "    return list(itertools.chain(*nested_list))"
   ]
  },
  {
   "cell_type": "code",
   "execution_count": 2,
   "metadata": {},
   "outputs": [],
   "source": [
    "with open(r'C:\\Users\\timvd\\Documents\\Uni 2023-2024\\First Research Project\\Code\\FRP_TimvdVuurst\\list_of_dirs.txt') as f:\n",
    "    dirs = f.readlines()\n",
    "\n",
    "dirs = [d.split('\\n')[0] for d  in dirs]"
   ]
  },
  {
   "cell_type": "code",
   "execution_count": 3,
   "metadata": {},
   "outputs": [
    {
     "data": {
      "text/plain": [
       "'350.9055926055821,13017.80314144596,941.1411261079069,2.4830655908196486,33.519011528445006,3.849329746322365,2.357126137613451,0.11177631007645426,1000.0000022125157,10612.72944541997,-26.162157212520842,0.310383067616766,-34.827730568194504,0.32758176485211626,2.5451902898979046,16.11134216714351,1.5252912028558638,0.049874462032842695,0.37238282367990433,0.020594500183541604,3.0000000009608834,4.609049825880454,543707555234608.6,930.4681481001899,98.51319117051648,216.0866107019837\\n'"
      ]
     },
     "execution_count": 3,
     "metadata": {},
     "output_type": "execute_result"
    }
   ],
   "source": [
    "def read_json(path):\n",
    "    with open(path) as file:\n",
    "        x = json.load(file)\n",
    "\n",
    "    vals = list(x.values())\n",
    "    vals = [[v] if type(v) != list else v for v in vals ]\n",
    "    vals = flatten_list(vals)\n",
    "    return np.array(vals)\n",
    "\n",
    "def create_write_string(values):\n",
    "    string = ''\n",
    "    for i,val in enumerate(values):\n",
    "        string += str(val)\n",
    "        if i != len(values) - 1:\n",
    "            string += ','\n",
    "\n",
    "    string += '\\n'\n",
    "    return string\n",
    "\n",
    "values = read_json(r'C:\\Users\\timvd\\Documents\\Uni 2023-2024\\First Research Project\\Data\\17\\ZTF17aaaacjo\\ZTF17aaaacjo_parameters')\n",
    "create_write_string(values)"
   ]
  },
  {
   "cell_type": "code",
   "execution_count": 5,
   "metadata": {},
   "outputs": [],
   "source": [
    "params_path = r'C:\\Users\\timvd\\Documents\\Uni 2023-2024\\First Research Project\\params.txt'\n"
   ]
  },
  {
   "cell_type": "code",
   "execution_count": 10,
   "metadata": {},
   "outputs": [
    {
     "name": "stdout",
     "output_type": "stream",
     "text": [
      "No viable g or r data in ZTF17aaaheis. Skipping this instance.\n"
     ]
    },
    {
     "name": "stderr",
     "output_type": "stream",
     "text": [
      "c:\\Users\\timvd\\AppData\\Local\\Programs\\Python\\Python311\\Lib\\site-packages\\numpy\\core\\fromnumeric.py:3464: RuntimeWarning: Mean of empty slice.\n",
      "  return _methods._mean(a, axis=axis, dtype=dtype,\n",
      "c:\\Users\\timvd\\AppData\\Local\\Programs\\Python\\Python311\\Lib\\site-packages\\numpy\\core\\_methods.py:192: RuntimeWarning: invalid value encountered in scalar divide\n",
      "  ret = ret.dtype.type(ret / rcount)\n",
      "c:\\Users\\timvd\\Documents\\Uni 2023-2024\\First Research Project\\Code\\FRP_TimvdVuurst\\forced_phot.py:556: RuntimeWarning: invalid value encountered in log10\n",
      "  i_guesses = [np.log10(np.max(i_flux)),np.median(f_guess_bounds)]\n",
      "c:\\Users\\timvd\\Documents\\Uni 2023-2024\\First Research Project\\Code\\FRP_TimvdVuurst\\forced_phot.py:557: RuntimeWarning: invalid value encountered in log10\n",
      "  i_bounds = ([np.log10(0.5*np.max(i_flux)),np.percentile(f_guess_bounds,5)],\n",
      "c:\\Users\\timvd\\Documents\\Uni 2023-2024\\First Research Project\\Code\\FRP_TimvdVuurst\\forced_phot.py:558: RuntimeWarning: invalid value encountered in log10\n",
      "  [np.log10(np.max(i_flux*2)),np.percentile(f_guess_bounds,95)])\n"
     ]
    },
    {
     "name": "stdout",
     "output_type": "stream",
     "text": [
      "No viable g or r data in ZTF17aaarzth. Skipping this instance.\n"
     ]
    },
    {
     "name": "stderr",
     "output_type": "stream",
     "text": [
      "c:\\Users\\timvd\\AppData\\Local\\Programs\\Python\\Python311\\Lib\\site-packages\\numpy\\core\\fromnumeric.py:3464: RuntimeWarning: Mean of empty slice.\n",
      "  return _methods._mean(a, axis=axis, dtype=dtype,\n",
      "c:\\Users\\timvd\\AppData\\Local\\Programs\\Python\\Python311\\Lib\\site-packages\\numpy\\core\\_methods.py:192: RuntimeWarning: invalid value encountered in scalar divide\n",
      "  ret = ret.dtype.type(ret / rcount)\n",
      "c:\\Users\\timvd\\AppData\\Local\\Programs\\Python\\Python311\\Lib\\site-packages\\numpy\\core\\fromnumeric.py:3464: RuntimeWarning: Mean of empty slice.\n",
      "  return _methods._mean(a, axis=axis, dtype=dtype,\n",
      "c:\\Users\\timvd\\AppData\\Local\\Programs\\Python\\Python311\\Lib\\site-packages\\numpy\\core\\_methods.py:192: RuntimeWarning: invalid value encountered in scalar divide\n",
      "  ret = ret.dtype.type(ret / rcount)\n"
     ]
    },
    {
     "name": "stdout",
     "output_type": "stream",
     "text": [
      "No viable g or r data in ZTF18aaabiok. Skipping this instance.\n"
     ]
    },
    {
     "name": "stderr",
     "output_type": "stream",
     "text": [
      "c:\\Users\\timvd\\AppData\\Local\\Programs\\Python\\Python311\\Lib\\site-packages\\numpy\\core\\fromnumeric.py:3464: RuntimeWarning: Mean of empty slice.\n",
      "  return _methods._mean(a, axis=axis, dtype=dtype,\n",
      "c:\\Users\\timvd\\AppData\\Local\\Programs\\Python\\Python311\\Lib\\site-packages\\numpy\\core\\_methods.py:192: RuntimeWarning: invalid value encountered in scalar divide\n",
      "  ret = ret.dtype.type(ret / rcount)\n",
      "c:\\Users\\timvd\\AppData\\Local\\Programs\\Python\\Python311\\Lib\\site-packages\\numpy\\core\\fromnumeric.py:3464: RuntimeWarning: Mean of empty slice.\n",
      "  return _methods._mean(a, axis=axis, dtype=dtype,\n",
      "c:\\Users\\timvd\\AppData\\Local\\Programs\\Python\\Python311\\Lib\\site-packages\\numpy\\core\\_methods.py:192: RuntimeWarning: invalid value encountered in scalar divide\n",
      "  ret = ret.dtype.type(ret / rcount)\n",
      "c:\\Users\\timvd\\AppData\\Local\\Programs\\Python\\Python311\\Lib\\site-packages\\numpy\\core\\fromnumeric.py:3464: RuntimeWarning: Mean of empty slice.\n",
      "  return _methods._mean(a, axis=axis, dtype=dtype,\n",
      "c:\\Users\\timvd\\AppData\\Local\\Programs\\Python\\Python311\\Lib\\site-packages\\numpy\\core\\_methods.py:192: RuntimeWarning: invalid value encountered in scalar divide\n",
      "  ret = ret.dtype.type(ret / rcount)\n",
      "c:\\Users\\timvd\\AppData\\Local\\Programs\\Python\\Python311\\Lib\\site-packages\\numpy\\core\\fromnumeric.py:3464: RuntimeWarning: Mean of empty slice.\n",
      "  return _methods._mean(a, axis=axis, dtype=dtype,\n",
      "c:\\Users\\timvd\\AppData\\Local\\Programs\\Python\\Python311\\Lib\\site-packages\\numpy\\core\\_methods.py:192: RuntimeWarning: invalid value encountered in scalar divide\n",
      "  ret = ret.dtype.type(ret / rcount)\n",
      "c:\\Users\\timvd\\Documents\\Uni 2023-2024\\First Research Project\\Code\\FRP_TimvdVuurst\\forced_phot.py:556: RuntimeWarning: invalid value encountered in log10\n",
      "  i_guesses = [np.log10(np.max(i_flux)),np.median(f_guess_bounds)]\n",
      "c:\\Users\\timvd\\Documents\\Uni 2023-2024\\First Research Project\\Code\\FRP_TimvdVuurst\\forced_phot.py:557: RuntimeWarning: invalid value encountered in log10\n",
      "  i_bounds = ([np.log10(0.5*np.max(i_flux)),np.percentile(f_guess_bounds,5)],\n",
      "c:\\Users\\timvd\\Documents\\Uni 2023-2024\\First Research Project\\Code\\FRP_TimvdVuurst\\forced_phot.py:558: RuntimeWarning: invalid value encountered in log10\n",
      "  [np.log10(np.max(i_flux*2)),np.percentile(f_guess_bounds,95)])\n",
      "c:\\Users\\timvd\\AppData\\Local\\Programs\\Python\\Python311\\Lib\\site-packages\\numpy\\core\\fromnumeric.py:3464: RuntimeWarning: Mean of empty slice.\n",
      "  return _methods._mean(a, axis=axis, dtype=dtype,\n",
      "c:\\Users\\timvd\\AppData\\Local\\Programs\\Python\\Python311\\Lib\\site-packages\\numpy\\core\\_methods.py:192: RuntimeWarning: invalid value encountered in scalar divide\n",
      "  ret = ret.dtype.type(ret / rcount)\n",
      "c:\\Users\\timvd\\AppData\\Local\\Programs\\Python\\Python311\\Lib\\site-packages\\numpy\\core\\fromnumeric.py:3464: RuntimeWarning: Mean of empty slice.\n",
      "  return _methods._mean(a, axis=axis, dtype=dtype,\n",
      "c:\\Users\\timvd\\AppData\\Local\\Programs\\Python\\Python311\\Lib\\site-packages\\numpy\\core\\_methods.py:192: RuntimeWarning: invalid value encountered in scalar divide\n",
      "  ret = ret.dtype.type(ret / rcount)\n",
      "c:\\Users\\timvd\\Documents\\Uni 2023-2024\\First Research Project\\Code\\FRP_TimvdVuurst\\forced_phot.py:556: RuntimeWarning: invalid value encountered in log10\n",
      "  i_guesses = [np.log10(np.max(i_flux)),np.median(f_guess_bounds)]\n",
      "c:\\Users\\timvd\\Documents\\Uni 2023-2024\\First Research Project\\Code\\FRP_TimvdVuurst\\forced_phot.py:557: RuntimeWarning: invalid value encountered in log10\n",
      "  i_bounds = ([np.log10(0.5*np.max(i_flux)),np.percentile(f_guess_bounds,5)],\n",
      "c:\\Users\\timvd\\Documents\\Uni 2023-2024\\First Research Project\\Code\\FRP_TimvdVuurst\\forced_phot.py:558: RuntimeWarning: invalid value encountered in log10\n",
      "  [np.log10(np.max(i_flux*2)),np.percentile(f_guess_bounds,95)])\n",
      "c:\\Users\\timvd\\Documents\\Uni 2023-2024\\First Research Project\\Code\\FRP_TimvdVuurst\\forced_phot.py:556: RuntimeWarning: invalid value encountered in log10\n",
      "  i_guesses = [np.log10(np.max(i_flux)),np.median(f_guess_bounds)]\n",
      "c:\\Users\\timvd\\Documents\\Uni 2023-2024\\First Research Project\\Code\\FRP_TimvdVuurst\\forced_phot.py:557: RuntimeWarning: invalid value encountered in log10\n",
      "  i_bounds = ([np.log10(0.5*np.max(i_flux)),np.percentile(f_guess_bounds,5)],\n",
      "c:\\Users\\timvd\\Documents\\Uni 2023-2024\\First Research Project\\Code\\FRP_TimvdVuurst\\forced_phot.py:558: RuntimeWarning: invalid value encountered in log10\n",
      "  [np.log10(np.max(i_flux*2)),np.percentile(f_guess_bounds,95)])\n",
      "c:\\Users\\timvd\\AppData\\Local\\Programs\\Python\\Python311\\Lib\\site-packages\\numpy\\core\\fromnumeric.py:3464: RuntimeWarning: Mean of empty slice.\n",
      "  return _methods._mean(a, axis=axis, dtype=dtype,\n",
      "c:\\Users\\timvd\\AppData\\Local\\Programs\\Python\\Python311\\Lib\\site-packages\\numpy\\core\\_methods.py:192: RuntimeWarning: invalid value encountered in scalar divide\n",
      "  ret = ret.dtype.type(ret / rcount)\n",
      "c:\\Users\\timvd\\Documents\\Uni 2023-2024\\First Research Project\\Code\\FRP_TimvdVuurst\\forced_phot.py:556: RuntimeWarning: invalid value encountered in log10\n",
      "  i_guesses = [np.log10(np.max(i_flux)),np.median(f_guess_bounds)]\n",
      "c:\\Users\\timvd\\Documents\\Uni 2023-2024\\First Research Project\\Code\\FRP_TimvdVuurst\\forced_phot.py:557: RuntimeWarning: invalid value encountered in log10\n",
      "  i_bounds = ([np.log10(0.5*np.max(i_flux)),np.percentile(f_guess_bounds,5)],\n",
      "c:\\Users\\timvd\\Documents\\Uni 2023-2024\\First Research Project\\Code\\FRP_TimvdVuurst\\forced_phot.py:558: RuntimeWarning: invalid value encountered in log10\n",
      "  [np.log10(np.max(i_flux*2)),np.percentile(f_guess_bounds,95)])\n",
      "c:\\Users\\timvd\\Documents\\Uni 2023-2024\\First Research Project\\Code\\FRP_TimvdVuurst\\forced_phot.py:556: RuntimeWarning: invalid value encountered in log10\n",
      "  i_guesses = [np.log10(np.max(i_flux)),np.median(f_guess_bounds)]\n",
      "c:\\Users\\timvd\\Documents\\Uni 2023-2024\\First Research Project\\Code\\FRP_TimvdVuurst\\forced_phot.py:557: RuntimeWarning: invalid value encountered in log10\n",
      "  i_bounds = ([np.log10(0.5*np.max(i_flux)),np.percentile(f_guess_bounds,5)],\n",
      "c:\\Users\\timvd\\Documents\\Uni 2023-2024\\First Research Project\\Code\\FRP_TimvdVuurst\\forced_phot.py:558: RuntimeWarning: invalid value encountered in log10\n",
      "  [np.log10(np.max(i_flux*2)),np.percentile(f_guess_bounds,95)])\n"
     ]
    },
    {
     "name": "stdout",
     "output_type": "stream",
     "text": [
      "No viable g or r data in ZTF18aaemfta. Skipping this instance.\n"
     ]
    },
    {
     "name": "stderr",
     "output_type": "stream",
     "text": [
      "c:\\Users\\timvd\\Documents\\Uni 2023-2024\\First Research Project\\Code\\FRP_TimvdVuurst\\forced_phot.py:556: RuntimeWarning: invalid value encountered in log10\n",
      "  i_guesses = [np.log10(np.max(i_flux)),np.median(f_guess_bounds)]\n",
      "c:\\Users\\timvd\\Documents\\Uni 2023-2024\\First Research Project\\Code\\FRP_TimvdVuurst\\forced_phot.py:557: RuntimeWarning: invalid value encountered in log10\n",
      "  i_bounds = ([np.log10(0.5*np.max(i_flux)),np.percentile(f_guess_bounds,5)],\n",
      "c:\\Users\\timvd\\Documents\\Uni 2023-2024\\First Research Project\\Code\\FRP_TimvdVuurst\\forced_phot.py:558: RuntimeWarning: invalid value encountered in log10\n",
      "  [np.log10(np.max(i_flux*2)),np.percentile(f_guess_bounds,95)])\n",
      "c:\\Users\\timvd\\AppData\\Local\\Programs\\Python\\Python311\\Lib\\site-packages\\numpy\\core\\fromnumeric.py:3464: RuntimeWarning: Mean of empty slice.\n",
      "  return _methods._mean(a, axis=axis, dtype=dtype,\n",
      "c:\\Users\\timvd\\AppData\\Local\\Programs\\Python\\Python311\\Lib\\site-packages\\numpy\\core\\_methods.py:192: RuntimeWarning: invalid value encountered in scalar divide\n",
      "  ret = ret.dtype.type(ret / rcount)\n",
      "c:\\Users\\timvd\\Documents\\Uni 2023-2024\\First Research Project\\Code\\FRP_TimvdVuurst\\forced_phot.py:556: RuntimeWarning: invalid value encountered in log10\n",
      "  i_guesses = [np.log10(np.max(i_flux)),np.median(f_guess_bounds)]\n",
      "c:\\Users\\timvd\\Documents\\Uni 2023-2024\\First Research Project\\Code\\FRP_TimvdVuurst\\forced_phot.py:557: RuntimeWarning: invalid value encountered in log10\n",
      "  i_bounds = ([np.log10(0.5*np.max(i_flux)),np.percentile(f_guess_bounds,5)],\n",
      "c:\\Users\\timvd\\Documents\\Uni 2023-2024\\First Research Project\\Code\\FRP_TimvdVuurst\\forced_phot.py:558: RuntimeWarning: invalid value encountered in log10\n",
      "  [np.log10(np.max(i_flux*2)),np.percentile(f_guess_bounds,95)])\n",
      "c:\\Users\\timvd\\Documents\\Uni 2023-2024\\First Research Project\\Code\\FRP_TimvdVuurst\\forced_phot.py:556: RuntimeWarning: invalid value encountered in log10\n",
      "  i_guesses = [np.log10(np.max(i_flux)),np.median(f_guess_bounds)]\n",
      "c:\\Users\\timvd\\Documents\\Uni 2023-2024\\First Research Project\\Code\\FRP_TimvdVuurst\\forced_phot.py:557: RuntimeWarning: invalid value encountered in log10\n",
      "  i_bounds = ([np.log10(0.5*np.max(i_flux)),np.percentile(f_guess_bounds,5)],\n",
      "c:\\Users\\timvd\\Documents\\Uni 2023-2024\\First Research Project\\Code\\FRP_TimvdVuurst\\forced_phot.py:558: RuntimeWarning: invalid value encountered in log10\n",
      "  [np.log10(np.max(i_flux*2)),np.percentile(f_guess_bounds,95)])\n"
     ]
    },
    {
     "name": "stdout",
     "output_type": "stream",
     "text": [
      "No viable g or r data in ZTF18aahiqfi. Skipping this instance.\n"
     ]
    },
    {
     "name": "stderr",
     "output_type": "stream",
     "text": [
      "c:\\Users\\timvd\\Documents\\Uni 2023-2024\\First Research Project\\Code\\FRP_TimvdVuurst\\forced_phot.py:556: RuntimeWarning: invalid value encountered in log10\n",
      "  i_guesses = [np.log10(np.max(i_flux)),np.median(f_guess_bounds)]\n",
      "c:\\Users\\timvd\\Documents\\Uni 2023-2024\\First Research Project\\Code\\FRP_TimvdVuurst\\forced_phot.py:557: RuntimeWarning: invalid value encountered in log10\n",
      "  i_bounds = ([np.log10(0.5*np.max(i_flux)),np.percentile(f_guess_bounds,5)],\n",
      "c:\\Users\\timvd\\Documents\\Uni 2023-2024\\First Research Project\\Code\\FRP_TimvdVuurst\\forced_phot.py:558: RuntimeWarning: invalid value encountered in log10\n",
      "  [np.log10(np.max(i_flux*2)),np.percentile(f_guess_bounds,95)])\n",
      "c:\\Users\\timvd\\AppData\\Local\\Programs\\Python\\Python311\\Lib\\site-packages\\numpy\\core\\fromnumeric.py:3464: RuntimeWarning: Mean of empty slice.\n",
      "  return _methods._mean(a, axis=axis, dtype=dtype,\n",
      "c:\\Users\\timvd\\AppData\\Local\\Programs\\Python\\Python311\\Lib\\site-packages\\numpy\\core\\_methods.py:192: RuntimeWarning: invalid value encountered in scalar divide\n",
      "  ret = ret.dtype.type(ret / rcount)\n",
      "c:\\Users\\timvd\\Documents\\Uni 2023-2024\\First Research Project\\Code\\FRP_TimvdVuurst\\forced_phot.py:556: RuntimeWarning: invalid value encountered in log10\n",
      "  i_guesses = [np.log10(np.max(i_flux)),np.median(f_guess_bounds)]\n",
      "c:\\Users\\timvd\\Documents\\Uni 2023-2024\\First Research Project\\Code\\FRP_TimvdVuurst\\forced_phot.py:557: RuntimeWarning: invalid value encountered in log10\n",
      "  i_bounds = ([np.log10(0.5*np.max(i_flux)),np.percentile(f_guess_bounds,5)],\n",
      "c:\\Users\\timvd\\Documents\\Uni 2023-2024\\First Research Project\\Code\\FRP_TimvdVuurst\\forced_phot.py:558: RuntimeWarning: invalid value encountered in log10\n",
      "  [np.log10(np.max(i_flux*2)),np.percentile(f_guess_bounds,95)])\n"
     ]
    },
    {
     "name": "stdout",
     "output_type": "stream",
     "text": [
      "No viable g or r data in ZTF18aajbjwd. Skipping this instance.\n"
     ]
    },
    {
     "name": "stderr",
     "output_type": "stream",
     "text": [
      "c:\\Users\\timvd\\Documents\\Uni 2023-2024\\First Research Project\\Code\\FRP_TimvdVuurst\\forced_phot.py:556: RuntimeWarning: invalid value encountered in log10\n",
      "  i_guesses = [np.log10(np.max(i_flux)),np.median(f_guess_bounds)]\n",
      "c:\\Users\\timvd\\Documents\\Uni 2023-2024\\First Research Project\\Code\\FRP_TimvdVuurst\\forced_phot.py:557: RuntimeWarning: invalid value encountered in log10\n",
      "  i_bounds = ([np.log10(0.5*np.max(i_flux)),np.percentile(f_guess_bounds,5)],\n",
      "c:\\Users\\timvd\\Documents\\Uni 2023-2024\\First Research Project\\Code\\FRP_TimvdVuurst\\forced_phot.py:558: RuntimeWarning: invalid value encountered in log10\n",
      "  [np.log10(np.max(i_flux*2)),np.percentile(f_guess_bounds,95)])\n",
      "c:\\Users\\timvd\\Documents\\Uni 2023-2024\\First Research Project\\Code\\FRP_TimvdVuurst\\forced_phot.py:556: RuntimeWarning: invalid value encountered in log10\n",
      "  i_guesses = [np.log10(np.max(i_flux)),np.median(f_guess_bounds)]\n",
      "c:\\Users\\timvd\\Documents\\Uni 2023-2024\\First Research Project\\Code\\FRP_TimvdVuurst\\forced_phot.py:557: RuntimeWarning: invalid value encountered in log10\n",
      "  i_bounds = ([np.log10(0.5*np.max(i_flux)),np.percentile(f_guess_bounds,5)],\n",
      "c:\\Users\\timvd\\Documents\\Uni 2023-2024\\First Research Project\\Code\\FRP_TimvdVuurst\\forced_phot.py:558: RuntimeWarning: invalid value encountered in log10\n",
      "  [np.log10(np.max(i_flux*2)),np.percentile(f_guess_bounds,95)])\n"
     ]
    },
    {
     "name": "stdout",
     "output_type": "stream",
     "text": [
      "No viable g or r data in ZTF18aajyqym. Skipping this instance.\n",
      "No viable g or r data in ZTF18aajznsw. Skipping this instance.\n"
     ]
    },
    {
     "name": "stderr",
     "output_type": "stream",
     "text": [
      "c:\\Users\\timvd\\Documents\\Uni 2023-2024\\First Research Project\\Code\\FRP_TimvdVuurst\\forced_phot.py:556: RuntimeWarning: invalid value encountered in log10\n",
      "  i_guesses = [np.log10(np.max(i_flux)),np.median(f_guess_bounds)]\n",
      "c:\\Users\\timvd\\Documents\\Uni 2023-2024\\First Research Project\\Code\\FRP_TimvdVuurst\\forced_phot.py:557: RuntimeWarning: invalid value encountered in log10\n",
      "  i_bounds = ([np.log10(0.5*np.max(i_flux)),np.percentile(f_guess_bounds,5)],\n",
      "c:\\Users\\timvd\\Documents\\Uni 2023-2024\\First Research Project\\Code\\FRP_TimvdVuurst\\forced_phot.py:558: RuntimeWarning: invalid value encountered in log10\n",
      "  [np.log10(np.max(i_flux*2)),np.percentile(f_guess_bounds,95)])\n",
      "c:\\Users\\timvd\\Documents\\Uni 2023-2024\\First Research Project\\Code\\FRP_TimvdVuurst\\forced_phot.py:556: RuntimeWarning: invalid value encountered in log10\n",
      "  i_guesses = [np.log10(np.max(i_flux)),np.median(f_guess_bounds)]\n",
      "c:\\Users\\timvd\\Documents\\Uni 2023-2024\\First Research Project\\Code\\FRP_TimvdVuurst\\forced_phot.py:557: RuntimeWarning: invalid value encountered in log10\n",
      "  i_bounds = ([np.log10(0.5*np.max(i_flux)),np.percentile(f_guess_bounds,5)],\n",
      "c:\\Users\\timvd\\Documents\\Uni 2023-2024\\First Research Project\\Code\\FRP_TimvdVuurst\\forced_phot.py:558: RuntimeWarning: invalid value encountered in log10\n",
      "  [np.log10(np.max(i_flux*2)),np.percentile(f_guess_bounds,95)])\n",
      "c:\\Users\\timvd\\Documents\\Uni 2023-2024\\First Research Project\\Code\\FRP_TimvdVuurst\\forced_phot.py:556: RuntimeWarning: invalid value encountered in log10\n",
      "  i_guesses = [np.log10(np.max(i_flux)),np.median(f_guess_bounds)]\n",
      "c:\\Users\\timvd\\Documents\\Uni 2023-2024\\First Research Project\\Code\\FRP_TimvdVuurst\\forced_phot.py:557: RuntimeWarning: invalid value encountered in log10\n",
      "  i_bounds = ([np.log10(0.5*np.max(i_flux)),np.percentile(f_guess_bounds,5)],\n",
      "c:\\Users\\timvd\\Documents\\Uni 2023-2024\\First Research Project\\Code\\FRP_TimvdVuurst\\forced_phot.py:558: RuntimeWarning: invalid value encountered in log10\n",
      "  [np.log10(np.max(i_flux*2)),np.percentile(f_guess_bounds,95)])\n",
      "c:\\Users\\timvd\\Documents\\Uni 2023-2024\\First Research Project\\Code\\FRP_TimvdVuurst\\forced_phot.py:556: RuntimeWarning: invalid value encountered in log10\n",
      "  i_guesses = [np.log10(np.max(i_flux)),np.median(f_guess_bounds)]\n",
      "c:\\Users\\timvd\\Documents\\Uni 2023-2024\\First Research Project\\Code\\FRP_TimvdVuurst\\forced_phot.py:557: RuntimeWarning: invalid value encountered in log10\n",
      "  i_bounds = ([np.log10(0.5*np.max(i_flux)),np.percentile(f_guess_bounds,5)],\n",
      "c:\\Users\\timvd\\Documents\\Uni 2023-2024\\First Research Project\\Code\\FRP_TimvdVuurst\\forced_phot.py:558: RuntimeWarning: invalid value encountered in log10\n",
      "  [np.log10(np.max(i_flux*2)),np.percentile(f_guess_bounds,95)])\n",
      "c:\\Users\\timvd\\AppData\\Local\\Programs\\Python\\Python311\\Lib\\site-packages\\numpy\\core\\fromnumeric.py:3464: RuntimeWarning: Mean of empty slice.\n",
      "  return _methods._mean(a, axis=axis, dtype=dtype,\n",
      "c:\\Users\\timvd\\AppData\\Local\\Programs\\Python\\Python311\\Lib\\site-packages\\numpy\\core\\_methods.py:192: RuntimeWarning: invalid value encountered in scalar divide\n",
      "  ret = ret.dtype.type(ret / rcount)\n",
      "c:\\Users\\timvd\\Documents\\Uni 2023-2024\\First Research Project\\Code\\FRP_TimvdVuurst\\forced_phot.py:556: RuntimeWarning: invalid value encountered in log10\n",
      "  i_guesses = [np.log10(np.max(i_flux)),np.median(f_guess_bounds)]\n",
      "c:\\Users\\timvd\\Documents\\Uni 2023-2024\\First Research Project\\Code\\FRP_TimvdVuurst\\forced_phot.py:557: RuntimeWarning: invalid value encountered in log10\n",
      "  i_bounds = ([np.log10(0.5*np.max(i_flux)),np.percentile(f_guess_bounds,5)],\n",
      "c:\\Users\\timvd\\Documents\\Uni 2023-2024\\First Research Project\\Code\\FRP_TimvdVuurst\\forced_phot.py:558: RuntimeWarning: invalid value encountered in log10\n",
      "  [np.log10(np.max(i_flux*2)),np.percentile(f_guess_bounds,95)])\n"
     ]
    },
    {
     "name": "stdout",
     "output_type": "stream",
     "text": [
      "No viable g or r data in ZTF18aanweox. Skipping this instance.\n"
     ]
    },
    {
     "name": "stderr",
     "output_type": "stream",
     "text": [
      "c:\\Users\\timvd\\AppData\\Local\\Programs\\Python\\Python311\\Lib\\site-packages\\numpy\\core\\fromnumeric.py:3464: RuntimeWarning: Mean of empty slice.\n",
      "  return _methods._mean(a, axis=axis, dtype=dtype,\n",
      "c:\\Users\\timvd\\AppData\\Local\\Programs\\Python\\Python311\\Lib\\site-packages\\numpy\\core\\_methods.py:192: RuntimeWarning: invalid value encountered in scalar divide\n",
      "  ret = ret.dtype.type(ret / rcount)\n"
     ]
    },
    {
     "name": "stdout",
     "output_type": "stream",
     "text": [
      "No viable g or r data in ZTF18aapzqup. Skipping this instance.\n"
     ]
    },
    {
     "name": "stderr",
     "output_type": "stream",
     "text": [
      "c:\\Users\\timvd\\Documents\\Uni 2023-2024\\First Research Project\\Code\\FRP_TimvdVuurst\\forced_phot.py:556: RuntimeWarning: invalid value encountered in log10\n",
      "  i_guesses = [np.log10(np.max(i_flux)),np.median(f_guess_bounds)]\n",
      "c:\\Users\\timvd\\Documents\\Uni 2023-2024\\First Research Project\\Code\\FRP_TimvdVuurst\\forced_phot.py:557: RuntimeWarning: invalid value encountered in log10\n",
      "  i_bounds = ([np.log10(0.5*np.max(i_flux)),np.percentile(f_guess_bounds,5)],\n",
      "c:\\Users\\timvd\\Documents\\Uni 2023-2024\\First Research Project\\Code\\FRP_TimvdVuurst\\forced_phot.py:558: RuntimeWarning: invalid value encountered in log10\n",
      "  [np.log10(np.max(i_flux*2)),np.percentile(f_guess_bounds,95)])\n",
      "c:\\Users\\timvd\\Documents\\Uni 2023-2024\\First Research Project\\Code\\FRP_TimvdVuurst\\forced_phot.py:556: RuntimeWarning: invalid value encountered in log10\n",
      "  i_guesses = [np.log10(np.max(i_flux)),np.median(f_guess_bounds)]\n",
      "c:\\Users\\timvd\\Documents\\Uni 2023-2024\\First Research Project\\Code\\FRP_TimvdVuurst\\forced_phot.py:557: RuntimeWarning: invalid value encountered in log10\n",
      "  i_bounds = ([np.log10(0.5*np.max(i_flux)),np.percentile(f_guess_bounds,5)],\n",
      "c:\\Users\\timvd\\Documents\\Uni 2023-2024\\First Research Project\\Code\\FRP_TimvdVuurst\\forced_phot.py:558: RuntimeWarning: invalid value encountered in log10\n",
      "  [np.log10(np.max(i_flux*2)),np.percentile(f_guess_bounds,95)])\n"
     ]
    },
    {
     "name": "stdout",
     "output_type": "stream",
     "text": [
      "No viable g or r data in ZTF18aarltmo. Skipping this instance.\n",
      "No viable g or r data in ZTF18aarnpwk. Skipping this instance.\n"
     ]
    },
    {
     "name": "stderr",
     "output_type": "stream",
     "text": [
      "c:\\Users\\timvd\\Documents\\Uni 2023-2024\\First Research Project\\Code\\FRP_TimvdVuurst\\forced_phot.py:556: RuntimeWarning: invalid value encountered in log10\n",
      "  i_guesses = [np.log10(np.max(i_flux)),np.median(f_guess_bounds)]\n",
      "c:\\Users\\timvd\\Documents\\Uni 2023-2024\\First Research Project\\Code\\FRP_TimvdVuurst\\forced_phot.py:557: RuntimeWarning: invalid value encountered in log10\n",
      "  i_bounds = ([np.log10(0.5*np.max(i_flux)),np.percentile(f_guess_bounds,5)],\n",
      "c:\\Users\\timvd\\Documents\\Uni 2023-2024\\First Research Project\\Code\\FRP_TimvdVuurst\\forced_phot.py:558: RuntimeWarning: invalid value encountered in log10\n",
      "  [np.log10(np.max(i_flux*2)),np.percentile(f_guess_bounds,95)])\n",
      "c:\\Users\\timvd\\Documents\\Uni 2023-2024\\First Research Project\\Code\\FRP_TimvdVuurst\\forced_phot.py:556: RuntimeWarning: invalid value encountered in log10\n",
      "  i_guesses = [np.log10(np.max(i_flux)),np.median(f_guess_bounds)]\n",
      "c:\\Users\\timvd\\Documents\\Uni 2023-2024\\First Research Project\\Code\\FRP_TimvdVuurst\\forced_phot.py:557: RuntimeWarning: invalid value encountered in log10\n",
      "  i_bounds = ([np.log10(0.5*np.max(i_flux)),np.percentile(f_guess_bounds,5)],\n",
      "c:\\Users\\timvd\\Documents\\Uni 2023-2024\\First Research Project\\Code\\FRP_TimvdVuurst\\forced_phot.py:558: RuntimeWarning: invalid value encountered in log10\n",
      "  [np.log10(np.max(i_flux*2)),np.percentile(f_guess_bounds,95)])\n"
     ]
    },
    {
     "name": "stdout",
     "output_type": "stream",
     "text": [
      "No viable g or r data in ZTF18aauefpg. Skipping this instance.\n",
      "No viable g or r data in ZTF18aaunyrk. Skipping this instance.\n"
     ]
    },
    {
     "name": "stderr",
     "output_type": "stream",
     "text": [
      "c:\\Users\\timvd\\Documents\\Uni 2023-2024\\First Research Project\\Code\\FRP_TimvdVuurst\\forced_phot.py:556: RuntimeWarning: invalid value encountered in log10\n",
      "  i_guesses = [np.log10(np.max(i_flux)),np.median(f_guess_bounds)]\n",
      "c:\\Users\\timvd\\Documents\\Uni 2023-2024\\First Research Project\\Code\\FRP_TimvdVuurst\\forced_phot.py:557: RuntimeWarning: invalid value encountered in log10\n",
      "  i_bounds = ([np.log10(0.5*np.max(i_flux)),np.percentile(f_guess_bounds,5)],\n",
      "c:\\Users\\timvd\\Documents\\Uni 2023-2024\\First Research Project\\Code\\FRP_TimvdVuurst\\forced_phot.py:558: RuntimeWarning: invalid value encountered in log10\n",
      "  [np.log10(np.max(i_flux*2)),np.percentile(f_guess_bounds,95)])\n"
     ]
    },
    {
     "name": "stdout",
     "output_type": "stream",
     "text": [
      "No viable g or r data in ZTF18aavscmw. Skipping this instance.\n",
      "No viable g or r data in ZTF18aawduoq. Skipping this instance.\n",
      "No viable g or r data in ZTF18aawsaer. Skipping this instance.\n"
     ]
    },
    {
     "name": "stderr",
     "output_type": "stream",
     "text": [
      "c:\\Users\\timvd\\Documents\\Uni 2023-2024\\First Research Project\\Code\\FRP_TimvdVuurst\\forced_phot.py:556: RuntimeWarning: invalid value encountered in log10\n",
      "  i_guesses = [np.log10(np.max(i_flux)),np.median(f_guess_bounds)]\n",
      "c:\\Users\\timvd\\Documents\\Uni 2023-2024\\First Research Project\\Code\\FRP_TimvdVuurst\\forced_phot.py:557: RuntimeWarning: invalid value encountered in log10\n",
      "  i_bounds = ([np.log10(0.5*np.max(i_flux)),np.percentile(f_guess_bounds,5)],\n",
      "c:\\Users\\timvd\\Documents\\Uni 2023-2024\\First Research Project\\Code\\FRP_TimvdVuurst\\forced_phot.py:558: RuntimeWarning: invalid value encountered in log10\n",
      "  [np.log10(np.max(i_flux*2)),np.percentile(f_guess_bounds,95)])\n",
      "c:\\Users\\timvd\\Documents\\Uni 2023-2024\\First Research Project\\Code\\FRP_TimvdVuurst\\forced_phot.py:556: RuntimeWarning: invalid value encountered in log10\n",
      "  i_guesses = [np.log10(np.max(i_flux)),np.median(f_guess_bounds)]\n",
      "c:\\Users\\timvd\\Documents\\Uni 2023-2024\\First Research Project\\Code\\FRP_TimvdVuurst\\forced_phot.py:557: RuntimeWarning: invalid value encountered in log10\n",
      "  i_bounds = ([np.log10(0.5*np.max(i_flux)),np.percentile(f_guess_bounds,5)],\n",
      "c:\\Users\\timvd\\Documents\\Uni 2023-2024\\First Research Project\\Code\\FRP_TimvdVuurst\\forced_phot.py:558: RuntimeWarning: invalid value encountered in log10\n",
      "  [np.log10(np.max(i_flux*2)),np.percentile(f_guess_bounds,95)])\n"
     ]
    },
    {
     "name": "stdout",
     "output_type": "stream",
     "text": [
      "No viable g or r data in ZTF18aawwekm. Skipping this instance.\n",
      "No viable g or r data in ZTF18aayhysf. Skipping this instance.\n"
     ]
    },
    {
     "name": "stderr",
     "output_type": "stream",
     "text": [
      "c:\\Users\\timvd\\AppData\\Local\\Programs\\Python\\Python311\\Lib\\site-packages\\numpy\\core\\fromnumeric.py:3464: RuntimeWarning: Mean of empty slice.\n",
      "  return _methods._mean(a, axis=axis, dtype=dtype,\n",
      "c:\\Users\\timvd\\AppData\\Local\\Programs\\Python\\Python311\\Lib\\site-packages\\numpy\\core\\_methods.py:192: RuntimeWarning: invalid value encountered in scalar divide\n",
      "  ret = ret.dtype.type(ret / rcount)\n"
     ]
    },
    {
     "name": "stdout",
     "output_type": "stream",
     "text": [
      "No viable g or r data in ZTF18aaykmzg. Skipping this instance.\n",
      "No viable g or r data in ZTF18aaymuou. Skipping this instance.\n"
     ]
    },
    {
     "name": "stderr",
     "output_type": "stream",
     "text": [
      "c:\\Users\\timvd\\AppData\\Local\\Programs\\Python\\Python311\\Lib\\site-packages\\numpy\\core\\fromnumeric.py:3464: RuntimeWarning: Mean of empty slice.\n",
      "  return _methods._mean(a, axis=axis, dtype=dtype,\n",
      "c:\\Users\\timvd\\AppData\\Local\\Programs\\Python\\Python311\\Lib\\site-packages\\numpy\\core\\_methods.py:192: RuntimeWarning: invalid value encountered in scalar divide\n",
      "  ret = ret.dtype.type(ret / rcount)\n"
     ]
    },
    {
     "name": "stdout",
     "output_type": "stream",
     "text": [
      "No viable g or r data in ZTF18abamhju. Skipping this instance.\n",
      "No viable g or r data in ZTF18abbbeak. Skipping this instance.\n"
     ]
    },
    {
     "name": "stderr",
     "output_type": "stream",
     "text": [
      "c:\\Users\\timvd\\Documents\\Uni 2023-2024\\First Research Project\\Code\\FRP_TimvdVuurst\\forced_phot.py:547: RuntimeWarning: invalid value encountered in log10\n",
      "  i_guesses = [np.log10(np.max(i_flux)),np.median(i_flux)]\n",
      "c:\\Users\\timvd\\Documents\\Uni 2023-2024\\First Research Project\\Code\\FRP_TimvdVuurst\\forced_phot.py:548: RuntimeWarning: invalid value encountered in log10\n",
      "  i_bounds = ([np.log10(0.5*np.max(i_flux)),np.percentile(i_flux,5)],\n",
      "c:\\Users\\timvd\\Documents\\Uni 2023-2024\\First Research Project\\Code\\FRP_TimvdVuurst\\forced_phot.py:549: RuntimeWarning: invalid value encountered in log10\n",
      "  [np.log10(np.max(i_flux*2)),np.percentile(i_flux,95)])\n",
      "c:\\Users\\timvd\\AppData\\Local\\Programs\\Python\\Python311\\Lib\\site-packages\\numpy\\core\\fromnumeric.py:3464: RuntimeWarning: Mean of empty slice.\n",
      "  return _methods._mean(a, axis=axis, dtype=dtype,\n",
      "c:\\Users\\timvd\\AppData\\Local\\Programs\\Python\\Python311\\Lib\\site-packages\\numpy\\core\\_methods.py:192: RuntimeWarning: invalid value encountered in scalar divide\n",
      "  ret = ret.dtype.type(ret / rcount)\n"
     ]
    },
    {
     "name": "stdout",
     "output_type": "stream",
     "text": [
      "No viable g or r data in ZTF18abdribr. Skipping this instance.\n",
      "No viable g or r data in ZTF18abeaipj. Skipping this instance.\n",
      "No viable g or r data in ZTF18abfcvfd. Skipping this instance.\n",
      "No viable g or r data in ZTF18abffdpa. Skipping this instance.\n"
     ]
    },
    {
     "name": "stderr",
     "output_type": "stream",
     "text": [
      "c:\\Users\\timvd\\AppData\\Local\\Programs\\Python\\Python311\\Lib\\site-packages\\numpy\\core\\fromnumeric.py:3464: RuntimeWarning: Mean of empty slice.\n",
      "  return _methods._mean(a, axis=axis, dtype=dtype,\n",
      "c:\\Users\\timvd\\AppData\\Local\\Programs\\Python\\Python311\\Lib\\site-packages\\numpy\\core\\_methods.py:192: RuntimeWarning: invalid value encountered in scalar divide\n",
      "  ret = ret.dtype.type(ret / rcount)\n"
     ]
    },
    {
     "name": "stdout",
     "output_type": "stream",
     "text": [
      "No viable g or r data in ZTF18abgisyz. Skipping this instance.\n"
     ]
    },
    {
     "name": "stderr",
     "output_type": "stream",
     "text": [
      "c:\\Users\\timvd\\Documents\\Uni 2023-2024\\First Research Project\\Code\\FRP_TimvdVuurst\\forced_phot.py:556: RuntimeWarning: invalid value encountered in log10\n",
      "  i_guesses = [np.log10(np.max(i_flux)),np.median(f_guess_bounds)]\n",
      "c:\\Users\\timvd\\Documents\\Uni 2023-2024\\First Research Project\\Code\\FRP_TimvdVuurst\\forced_phot.py:557: RuntimeWarning: invalid value encountered in log10\n",
      "  i_bounds = ([np.log10(0.5*np.max(i_flux)),np.percentile(f_guess_bounds,5)],\n",
      "c:\\Users\\timvd\\Documents\\Uni 2023-2024\\First Research Project\\Code\\FRP_TimvdVuurst\\forced_phot.py:558: RuntimeWarning: invalid value encountered in log10\n",
      "  [np.log10(np.max(i_flux*2)),np.percentile(f_guess_bounds,95)])\n"
     ]
    },
    {
     "name": "stdout",
     "output_type": "stream",
     "text": [
      "No viable g or r data in ZTF18abkijlr. Skipping this instance.\n",
      "No viable g or r data in ZTF18ablsaka. Skipping this instance.\n",
      "No viable g or r data in ZTF18ablzvmp. Skipping this instance.\n"
     ]
    },
    {
     "name": "stderr",
     "output_type": "stream",
     "text": [
      "c:\\Users\\timvd\\AppData\\Local\\Programs\\Python\\Python311\\Lib\\site-packages\\numpy\\core\\fromnumeric.py:3464: RuntimeWarning: Mean of empty slice.\n",
      "  return _methods._mean(a, axis=axis, dtype=dtype,\n",
      "c:\\Users\\timvd\\AppData\\Local\\Programs\\Python\\Python311\\Lib\\site-packages\\numpy\\core\\_methods.py:192: RuntimeWarning: invalid value encountered in scalar divide\n",
      "  ret = ret.dtype.type(ret / rcount)\n",
      "c:\\Users\\timvd\\Documents\\Uni 2023-2024\\First Research Project\\Code\\FRP_TimvdVuurst\\forced_phot.py:556: RuntimeWarning: invalid value encountered in log10\n",
      "  i_guesses = [np.log10(np.max(i_flux)),np.median(f_guess_bounds)]\n",
      "c:\\Users\\timvd\\Documents\\Uni 2023-2024\\First Research Project\\Code\\FRP_TimvdVuurst\\forced_phot.py:557: RuntimeWarning: invalid value encountered in log10\n",
      "  i_bounds = ([np.log10(0.5*np.max(i_flux)),np.percentile(f_guess_bounds,5)],\n",
      "c:\\Users\\timvd\\Documents\\Uni 2023-2024\\First Research Project\\Code\\FRP_TimvdVuurst\\forced_phot.py:558: RuntimeWarning: invalid value encountered in log10\n",
      "  [np.log10(np.max(i_flux*2)),np.percentile(f_guess_bounds,95)])\n"
     ]
    },
    {
     "name": "stdout",
     "output_type": "stream",
     "text": [
      "No viable g or r data in ZTF18abmsoco. Skipping this instance.\n"
     ]
    },
    {
     "name": "stderr",
     "output_type": "stream",
     "text": [
      "c:\\Users\\timvd\\AppData\\Local\\Programs\\Python\\Python311\\Lib\\site-packages\\numpy\\core\\fromnumeric.py:3464: RuntimeWarning: Mean of empty slice.\n",
      "  return _methods._mean(a, axis=axis, dtype=dtype,\n",
      "c:\\Users\\timvd\\AppData\\Local\\Programs\\Python\\Python311\\Lib\\site-packages\\numpy\\core\\_methods.py:192: RuntimeWarning: invalid value encountered in scalar divide\n",
      "  ret = ret.dtype.type(ret / rcount)\n",
      "c:\\Users\\timvd\\Documents\\Uni 2023-2024\\First Research Project\\Code\\FRP_TimvdVuurst\\forced_phot.py:556: RuntimeWarning: invalid value encountered in log10\n",
      "  i_guesses = [np.log10(np.max(i_flux)),np.median(f_guess_bounds)]\n",
      "c:\\Users\\timvd\\Documents\\Uni 2023-2024\\First Research Project\\Code\\FRP_TimvdVuurst\\forced_phot.py:557: RuntimeWarning: invalid value encountered in log10\n",
      "  i_bounds = ([np.log10(0.5*np.max(i_flux)),np.percentile(f_guess_bounds,5)],\n",
      "c:\\Users\\timvd\\Documents\\Uni 2023-2024\\First Research Project\\Code\\FRP_TimvdVuurst\\forced_phot.py:558: RuntimeWarning: invalid value encountered in log10\n",
      "  [np.log10(np.max(i_flux*2)),np.percentile(f_guess_bounds,95)])\n",
      "c:\\Users\\timvd\\AppData\\Local\\Programs\\Python\\Python311\\Lib\\site-packages\\numpy\\core\\fromnumeric.py:3464: RuntimeWarning: Mean of empty slice.\n",
      "  return _methods._mean(a, axis=axis, dtype=dtype,\n",
      "c:\\Users\\timvd\\AppData\\Local\\Programs\\Python\\Python311\\Lib\\site-packages\\numpy\\core\\_methods.py:192: RuntimeWarning: invalid value encountered in scalar divide\n",
      "  ret = ret.dtype.type(ret / rcount)\n"
     ]
    },
    {
     "name": "stdout",
     "output_type": "stream",
     "text": [
      "No viable g or r data in ZTF18abnzihg. Skipping this instance.\n",
      "No viable g or r data in ZTF18aboehnn. Skipping this instance.\n"
     ]
    },
    {
     "name": "stderr",
     "output_type": "stream",
     "text": [
      "c:\\Users\\timvd\\Documents\\Uni 2023-2024\\First Research Project\\Code\\FRP_TimvdVuurst\\forced_phot.py:556: RuntimeWarning: invalid value encountered in log10\n",
      "  i_guesses = [np.log10(np.max(i_flux)),np.median(f_guess_bounds)]\n",
      "c:\\Users\\timvd\\Documents\\Uni 2023-2024\\First Research Project\\Code\\FRP_TimvdVuurst\\forced_phot.py:557: RuntimeWarning: invalid value encountered in log10\n",
      "  i_bounds = ([np.log10(0.5*np.max(i_flux)),np.percentile(f_guess_bounds,5)],\n",
      "c:\\Users\\timvd\\Documents\\Uni 2023-2024\\First Research Project\\Code\\FRP_TimvdVuurst\\forced_phot.py:558: RuntimeWarning: invalid value encountered in log10\n",
      "  [np.log10(np.max(i_flux*2)),np.percentile(f_guess_bounds,95)])\n",
      "c:\\Users\\timvd\\AppData\\Local\\Programs\\Python\\Python311\\Lib\\site-packages\\numpy\\core\\fromnumeric.py:3464: RuntimeWarning: Mean of empty slice.\n",
      "  return _methods._mean(a, axis=axis, dtype=dtype,\n",
      "c:\\Users\\timvd\\AppData\\Local\\Programs\\Python\\Python311\\Lib\\site-packages\\numpy\\core\\_methods.py:192: RuntimeWarning: invalid value encountered in scalar divide\n",
      "  ret = ret.dtype.type(ret / rcount)\n"
     ]
    },
    {
     "name": "stdout",
     "output_type": "stream",
     "text": [
      "No viable g or r data in ZTF18abqjtsp. Skipping this instance.\n"
     ]
    },
    {
     "name": "stderr",
     "output_type": "stream",
     "text": [
      "c:\\Users\\timvd\\AppData\\Local\\Programs\\Python\\Python311\\Lib\\site-packages\\numpy\\core\\fromnumeric.py:3464: RuntimeWarning: Mean of empty slice.\n",
      "  return _methods._mean(a, axis=axis, dtype=dtype,\n",
      "c:\\Users\\timvd\\AppData\\Local\\Programs\\Python\\Python311\\Lib\\site-packages\\numpy\\core\\_methods.py:192: RuntimeWarning: invalid value encountered in scalar divide\n",
      "  ret = ret.dtype.type(ret / rcount)\n"
     ]
    },
    {
     "name": "stdout",
     "output_type": "stream",
     "text": [
      "No viable g or r data in ZTF18abrwswl. Skipping this instance.\n",
      "No viable g or r data in ZTF18absbqlg. Skipping this instance.\n"
     ]
    },
    {
     "name": "stderr",
     "output_type": "stream",
     "text": [
      "c:\\Users\\timvd\\AppData\\Local\\Programs\\Python\\Python311\\Lib\\site-packages\\numpy\\core\\fromnumeric.py:3464: RuntimeWarning: Mean of empty slice.\n",
      "  return _methods._mean(a, axis=axis, dtype=dtype,\n",
      "c:\\Users\\timvd\\AppData\\Local\\Programs\\Python\\Python311\\Lib\\site-packages\\numpy\\core\\_methods.py:192: RuntimeWarning: invalid value encountered in scalar divide\n",
      "  ret = ret.dtype.type(ret / rcount)\n"
     ]
    },
    {
     "name": "stdout",
     "output_type": "stream",
     "text": [
      "No viable g or r data in ZTF18abslwen. Skipping this instance.\n"
     ]
    },
    {
     "name": "stderr",
     "output_type": "stream",
     "text": [
      "c:\\Users\\timvd\\AppData\\Local\\Programs\\Python\\Python311\\Lib\\site-packages\\numpy\\core\\fromnumeric.py:3464: RuntimeWarning: Mean of empty slice.\n",
      "  return _methods._mean(a, axis=axis, dtype=dtype,\n",
      "c:\\Users\\timvd\\AppData\\Local\\Programs\\Python\\Python311\\Lib\\site-packages\\numpy\\core\\_methods.py:192: RuntimeWarning: invalid value encountered in scalar divide\n",
      "  ret = ret.dtype.type(ret / rcount)\n",
      "c:\\Users\\timvd\\AppData\\Local\\Programs\\Python\\Python311\\Lib\\site-packages\\numpy\\core\\fromnumeric.py:3464: RuntimeWarning: Mean of empty slice.\n",
      "  return _methods._mean(a, axis=axis, dtype=dtype,\n",
      "c:\\Users\\timvd\\AppData\\Local\\Programs\\Python\\Python311\\Lib\\site-packages\\numpy\\core\\_methods.py:192: RuntimeWarning: invalid value encountered in scalar divide\n",
      "  ret = ret.dtype.type(ret / rcount)\n",
      "c:\\Users\\timvd\\Documents\\Uni 2023-2024\\First Research Project\\Code\\FRP_TimvdVuurst\\forced_phot.py:547: RuntimeWarning: invalid value encountered in log10\n",
      "  i_guesses = [np.log10(np.max(i_flux)),np.median(i_flux)]\n",
      "c:\\Users\\timvd\\Documents\\Uni 2023-2024\\First Research Project\\Code\\FRP_TimvdVuurst\\forced_phot.py:548: RuntimeWarning: invalid value encountered in log10\n",
      "  i_bounds = ([np.log10(0.5*np.max(i_flux)),np.percentile(i_flux,5)],\n",
      "c:\\Users\\timvd\\Documents\\Uni 2023-2024\\First Research Project\\Code\\FRP_TimvdVuurst\\forced_phot.py:549: RuntimeWarning: invalid value encountered in log10\n",
      "  [np.log10(np.max(i_flux*2)),np.percentile(i_flux,95)])\n",
      "c:\\Users\\timvd\\AppData\\Local\\Programs\\Python\\Python311\\Lib\\site-packages\\numpy\\core\\fromnumeric.py:3464: RuntimeWarning: Mean of empty slice.\n",
      "  return _methods._mean(a, axis=axis, dtype=dtype,\n",
      "c:\\Users\\timvd\\AppData\\Local\\Programs\\Python\\Python311\\Lib\\site-packages\\numpy\\core\\_methods.py:192: RuntimeWarning: invalid value encountered in scalar divide\n",
      "  ret = ret.dtype.type(ret / rcount)\n",
      "c:\\Users\\timvd\\AppData\\Local\\Programs\\Python\\Python311\\Lib\\site-packages\\numpy\\core\\fromnumeric.py:3464: RuntimeWarning: Mean of empty slice.\n",
      "  return _methods._mean(a, axis=axis, dtype=dtype,\n",
      "c:\\Users\\timvd\\AppData\\Local\\Programs\\Python\\Python311\\Lib\\site-packages\\numpy\\core\\_methods.py:192: RuntimeWarning: invalid value encountered in scalar divide\n",
      "  ret = ret.dtype.type(ret / rcount)\n"
     ]
    },
    {
     "name": "stdout",
     "output_type": "stream",
     "text": [
      "No viable g or r data in ZTF18abucnqk. Skipping this instance.\n"
     ]
    },
    {
     "name": "stderr",
     "output_type": "stream",
     "text": [
      "c:\\Users\\timvd\\AppData\\Local\\Programs\\Python\\Python311\\Lib\\site-packages\\numpy\\core\\fromnumeric.py:3464: RuntimeWarning: Mean of empty slice.\n",
      "  return _methods._mean(a, axis=axis, dtype=dtype,\n",
      "c:\\Users\\timvd\\AppData\\Local\\Programs\\Python\\Python311\\Lib\\site-packages\\numpy\\core\\_methods.py:192: RuntimeWarning: invalid value encountered in scalar divide\n",
      "  ret = ret.dtype.type(ret / rcount)\n",
      "c:\\Users\\timvd\\Documents\\Uni 2023-2024\\First Research Project\\Code\\FRP_TimvdVuurst\\forced_phot.py:547: RuntimeWarning: invalid value encountered in log10\n",
      "  i_guesses = [np.log10(np.max(i_flux)),np.median(i_flux)]\n",
      "c:\\Users\\timvd\\Documents\\Uni 2023-2024\\First Research Project\\Code\\FRP_TimvdVuurst\\forced_phot.py:548: RuntimeWarning: invalid value encountered in log10\n",
      "  i_bounds = ([np.log10(0.5*np.max(i_flux)),np.percentile(i_flux,5)],\n",
      "c:\\Users\\timvd\\Documents\\Uni 2023-2024\\First Research Project\\Code\\FRP_TimvdVuurst\\forced_phot.py:549: RuntimeWarning: invalid value encountered in log10\n",
      "  [np.log10(np.max(i_flux*2)),np.percentile(i_flux,95)])\n",
      "c:\\Users\\timvd\\Documents\\Uni 2023-2024\\First Research Project\\Code\\FRP_TimvdVuurst\\forced_phot.py:556: RuntimeWarning: invalid value encountered in log10\n",
      "  i_guesses = [np.log10(np.max(i_flux)),np.median(f_guess_bounds)]\n",
      "c:\\Users\\timvd\\Documents\\Uni 2023-2024\\First Research Project\\Code\\FRP_TimvdVuurst\\forced_phot.py:557: RuntimeWarning: invalid value encountered in log10\n",
      "  i_bounds = ([np.log10(0.5*np.max(i_flux)),np.percentile(f_guess_bounds,5)],\n",
      "c:\\Users\\timvd\\Documents\\Uni 2023-2024\\First Research Project\\Code\\FRP_TimvdVuurst\\forced_phot.py:558: RuntimeWarning: invalid value encountered in log10\n",
      "  [np.log10(np.max(i_flux*2)),np.percentile(f_guess_bounds,95)])\n",
      "c:\\Users\\timvd\\Documents\\Uni 2023-2024\\First Research Project\\Code\\FRP_TimvdVuurst\\forced_phot.py:556: RuntimeWarning: invalid value encountered in log10\n",
      "  i_guesses = [np.log10(np.max(i_flux)),np.median(f_guess_bounds)]\n",
      "c:\\Users\\timvd\\Documents\\Uni 2023-2024\\First Research Project\\Code\\FRP_TimvdVuurst\\forced_phot.py:557: RuntimeWarning: invalid value encountered in log10\n",
      "  i_bounds = ([np.log10(0.5*np.max(i_flux)),np.percentile(f_guess_bounds,5)],\n",
      "c:\\Users\\timvd\\Documents\\Uni 2023-2024\\First Research Project\\Code\\FRP_TimvdVuurst\\forced_phot.py:558: RuntimeWarning: invalid value encountered in log10\n",
      "  [np.log10(np.max(i_flux*2)),np.percentile(f_guess_bounds,95)])\n",
      "c:\\Users\\timvd\\AppData\\Local\\Programs\\Python\\Python311\\Lib\\site-packages\\numpy\\core\\fromnumeric.py:3464: RuntimeWarning: Mean of empty slice.\n",
      "  return _methods._mean(a, axis=axis, dtype=dtype,\n",
      "c:\\Users\\timvd\\AppData\\Local\\Programs\\Python\\Python311\\Lib\\site-packages\\numpy\\core\\_methods.py:192: RuntimeWarning: invalid value encountered in scalar divide\n",
      "  ret = ret.dtype.type(ret / rcount)\n"
     ]
    },
    {
     "name": "stdout",
     "output_type": "stream",
     "text": [
      "No viable g or r data in ZTF18abxyutn. Skipping this instance.\n"
     ]
    },
    {
     "name": "stderr",
     "output_type": "stream",
     "text": [
      "c:\\Users\\timvd\\Documents\\Uni 2023-2024\\First Research Project\\Code\\FRP_TimvdVuurst\\forced_phot.py:556: RuntimeWarning: invalid value encountered in log10\n",
      "  i_guesses = [np.log10(np.max(i_flux)),np.median(f_guess_bounds)]\n",
      "c:\\Users\\timvd\\Documents\\Uni 2023-2024\\First Research Project\\Code\\FRP_TimvdVuurst\\forced_phot.py:557: RuntimeWarning: invalid value encountered in log10\n",
      "  i_bounds = ([np.log10(0.5*np.max(i_flux)),np.percentile(f_guess_bounds,5)],\n",
      "c:\\Users\\timvd\\Documents\\Uni 2023-2024\\First Research Project\\Code\\FRP_TimvdVuurst\\forced_phot.py:558: RuntimeWarning: invalid value encountered in log10\n",
      "  [np.log10(np.max(i_flux*2)),np.percentile(f_guess_bounds,95)])\n",
      "c:\\Users\\timvd\\AppData\\Local\\Programs\\Python\\Python311\\Lib\\site-packages\\numpy\\core\\fromnumeric.py:3464: RuntimeWarning: Mean of empty slice.\n",
      "  return _methods._mean(a, axis=axis, dtype=dtype,\n",
      "c:\\Users\\timvd\\AppData\\Local\\Programs\\Python\\Python311\\Lib\\site-packages\\numpy\\core\\_methods.py:192: RuntimeWarning: invalid value encountered in scalar divide\n",
      "  ret = ret.dtype.type(ret / rcount)\n"
     ]
    },
    {
     "name": "stdout",
     "output_type": "stream",
     "text": [
      "No viable g or r data in ZTF18abzwhdw. Skipping this instance.\n"
     ]
    },
    {
     "name": "stderr",
     "output_type": "stream",
     "text": [
      "c:\\Users\\timvd\\Documents\\Uni 2023-2024\\First Research Project\\Code\\FRP_TimvdVuurst\\forced_phot.py:556: RuntimeWarning: invalid value encountered in log10\n",
      "  i_guesses = [np.log10(np.max(i_flux)),np.median(f_guess_bounds)]\n",
      "c:\\Users\\timvd\\Documents\\Uni 2023-2024\\First Research Project\\Code\\FRP_TimvdVuurst\\forced_phot.py:557: RuntimeWarning: invalid value encountered in log10\n",
      "  i_bounds = ([np.log10(0.5*np.max(i_flux)),np.percentile(f_guess_bounds,5)],\n",
      "c:\\Users\\timvd\\Documents\\Uni 2023-2024\\First Research Project\\Code\\FRP_TimvdVuurst\\forced_phot.py:558: RuntimeWarning: invalid value encountered in log10\n",
      "  [np.log10(np.max(i_flux*2)),np.percentile(f_guess_bounds,95)])\n",
      "c:\\Users\\timvd\\AppData\\Local\\Programs\\Python\\Python311\\Lib\\site-packages\\numpy\\core\\fromnumeric.py:3464: RuntimeWarning: Mean of empty slice.\n",
      "  return _methods._mean(a, axis=axis, dtype=dtype,\n",
      "c:\\Users\\timvd\\AppData\\Local\\Programs\\Python\\Python311\\Lib\\site-packages\\numpy\\core\\_methods.py:192: RuntimeWarning: invalid value encountered in scalar divide\n",
      "  ret = ret.dtype.type(ret / rcount)\n",
      "c:\\Users\\timvd\\AppData\\Local\\Programs\\Python\\Python311\\Lib\\site-packages\\numpy\\core\\fromnumeric.py:3464: RuntimeWarning: Mean of empty slice.\n",
      "  return _methods._mean(a, axis=axis, dtype=dtype,\n",
      "c:\\Users\\timvd\\AppData\\Local\\Programs\\Python\\Python311\\Lib\\site-packages\\numpy\\core\\_methods.py:192: RuntimeWarning: invalid value encountered in scalar divide\n",
      "  ret = ret.dtype.type(ret / rcount)\n"
     ]
    },
    {
     "name": "stdout",
     "output_type": "stream",
     "text": [
      "No viable g or r data in ZTF18acbxzfi. Skipping this instance.\n"
     ]
    },
    {
     "name": "stderr",
     "output_type": "stream",
     "text": [
      "c:\\Users\\timvd\\AppData\\Local\\Programs\\Python\\Python311\\Lib\\site-packages\\numpy\\core\\fromnumeric.py:3464: RuntimeWarning: Mean of empty slice.\n",
      "  return _methods._mean(a, axis=axis, dtype=dtype,\n",
      "c:\\Users\\timvd\\AppData\\Local\\Programs\\Python\\Python311\\Lib\\site-packages\\numpy\\core\\_methods.py:192: RuntimeWarning: invalid value encountered in scalar divide\n",
      "  ret = ret.dtype.type(ret / rcount)\n",
      "c:\\Users\\timvd\\AppData\\Local\\Programs\\Python\\Python311\\Lib\\site-packages\\numpy\\core\\fromnumeric.py:3464: RuntimeWarning: Mean of empty slice.\n",
      "  return _methods._mean(a, axis=axis, dtype=dtype,\n",
      "c:\\Users\\timvd\\AppData\\Local\\Programs\\Python\\Python311\\Lib\\site-packages\\numpy\\core\\_methods.py:192: RuntimeWarning: invalid value encountered in scalar divide\n",
      "  ret = ret.dtype.type(ret / rcount)\n",
      "c:\\Users\\timvd\\Documents\\Uni 2023-2024\\First Research Project\\Code\\FRP_TimvdVuurst\\forced_phot.py:547: RuntimeWarning: invalid value encountered in log10\n",
      "  i_guesses = [np.log10(np.max(i_flux)),np.median(i_flux)]\n",
      "c:\\Users\\timvd\\Documents\\Uni 2023-2024\\First Research Project\\Code\\FRP_TimvdVuurst\\forced_phot.py:548: RuntimeWarning: invalid value encountered in log10\n",
      "  i_bounds = ([np.log10(0.5*np.max(i_flux)),np.percentile(i_flux,5)],\n",
      "c:\\Users\\timvd\\Documents\\Uni 2023-2024\\First Research Project\\Code\\FRP_TimvdVuurst\\forced_phot.py:549: RuntimeWarning: invalid value encountered in log10\n",
      "  [np.log10(np.max(i_flux*2)),np.percentile(i_flux,95)])\n",
      "c:\\Users\\timvd\\Documents\\Uni 2023-2024\\First Research Project\\Code\\FRP_TimvdVuurst\\forced_phot.py:556: RuntimeWarning: invalid value encountered in log10\n",
      "  i_guesses = [np.log10(np.max(i_flux)),np.median(f_guess_bounds)]\n",
      "c:\\Users\\timvd\\Documents\\Uni 2023-2024\\First Research Project\\Code\\FRP_TimvdVuurst\\forced_phot.py:557: RuntimeWarning: invalid value encountered in log10\n",
      "  i_bounds = ([np.log10(0.5*np.max(i_flux)),np.percentile(f_guess_bounds,5)],\n",
      "c:\\Users\\timvd\\Documents\\Uni 2023-2024\\First Research Project\\Code\\FRP_TimvdVuurst\\forced_phot.py:558: RuntimeWarning: invalid value encountered in log10\n",
      "  [np.log10(np.max(i_flux*2)),np.percentile(f_guess_bounds,95)])\n",
      "c:\\Users\\timvd\\Documents\\Uni 2023-2024\\First Research Project\\Code\\FRP_TimvdVuurst\\forced_phot.py:556: RuntimeWarning: invalid value encountered in log10\n",
      "  i_guesses = [np.log10(np.max(i_flux)),np.median(f_guess_bounds)]\n",
      "c:\\Users\\timvd\\Documents\\Uni 2023-2024\\First Research Project\\Code\\FRP_TimvdVuurst\\forced_phot.py:557: RuntimeWarning: invalid value encountered in log10\n",
      "  i_bounds = ([np.log10(0.5*np.max(i_flux)),np.percentile(f_guess_bounds,5)],\n",
      "c:\\Users\\timvd\\Documents\\Uni 2023-2024\\First Research Project\\Code\\FRP_TimvdVuurst\\forced_phot.py:558: RuntimeWarning: invalid value encountered in log10\n",
      "  [np.log10(np.max(i_flux*2)),np.percentile(f_guess_bounds,95)])\n",
      "c:\\Users\\timvd\\AppData\\Local\\Programs\\Python\\Python311\\Lib\\site-packages\\numpy\\core\\fromnumeric.py:3464: RuntimeWarning: Mean of empty slice.\n",
      "  return _methods._mean(a, axis=axis, dtype=dtype,\n",
      "c:\\Users\\timvd\\AppData\\Local\\Programs\\Python\\Python311\\Lib\\site-packages\\numpy\\core\\_methods.py:192: RuntimeWarning: invalid value encountered in scalar divide\n",
      "  ret = ret.dtype.type(ret / rcount)\n"
     ]
    },
    {
     "name": "stdout",
     "output_type": "stream",
     "text": [
      "No viable g or r data in ZTF18accvtmh. Skipping this instance.\n"
     ]
    },
    {
     "name": "stderr",
     "output_type": "stream",
     "text": [
      "c:\\Users\\timvd\\AppData\\Local\\Programs\\Python\\Python311\\Lib\\site-packages\\numpy\\core\\fromnumeric.py:3464: RuntimeWarning: Mean of empty slice.\n",
      "  return _methods._mean(a, axis=axis, dtype=dtype,\n",
      "c:\\Users\\timvd\\AppData\\Local\\Programs\\Python\\Python311\\Lib\\site-packages\\numpy\\core\\_methods.py:192: RuntimeWarning: invalid value encountered in scalar divide\n",
      "  ret = ret.dtype.type(ret / rcount)\n"
     ]
    },
    {
     "name": "stdout",
     "output_type": "stream",
     "text": [
      "No viable g or r data in ZTF18acdwavx. Skipping this instance.\n"
     ]
    },
    {
     "name": "stderr",
     "output_type": "stream",
     "text": [
      "c:\\Users\\timvd\\AppData\\Local\\Programs\\Python\\Python311\\Lib\\site-packages\\numpy\\core\\fromnumeric.py:3464: RuntimeWarning: Mean of empty slice.\n",
      "  return _methods._mean(a, axis=axis, dtype=dtype,\n",
      "c:\\Users\\timvd\\AppData\\Local\\Programs\\Python\\Python311\\Lib\\site-packages\\numpy\\core\\_methods.py:192: RuntimeWarning: invalid value encountered in scalar divide\n",
      "  ret = ret.dtype.type(ret / rcount)\n",
      "c:\\Users\\timvd\\AppData\\Local\\Programs\\Python\\Python311\\Lib\\site-packages\\numpy\\core\\fromnumeric.py:3464: RuntimeWarning: Mean of empty slice.\n",
      "  return _methods._mean(a, axis=axis, dtype=dtype,\n",
      "c:\\Users\\timvd\\AppData\\Local\\Programs\\Python\\Python311\\Lib\\site-packages\\numpy\\core\\_methods.py:192: RuntimeWarning: invalid value encountered in scalar divide\n",
      "  ret = ret.dtype.type(ret / rcount)\n",
      "c:\\Users\\timvd\\AppData\\Local\\Programs\\Python\\Python311\\Lib\\site-packages\\numpy\\core\\fromnumeric.py:3464: RuntimeWarning: Mean of empty slice.\n",
      "  return _methods._mean(a, axis=axis, dtype=dtype,\n",
      "c:\\Users\\timvd\\AppData\\Local\\Programs\\Python\\Python311\\Lib\\site-packages\\numpy\\core\\_methods.py:192: RuntimeWarning: invalid value encountered in scalar divide\n",
      "  ret = ret.dtype.type(ret / rcount)\n"
     ]
    },
    {
     "name": "stdout",
     "output_type": "stream",
     "text": [
      "No viable g or r data in ZTF18aceprxa. Skipping this instance.\n"
     ]
    },
    {
     "name": "stderr",
     "output_type": "stream",
     "text": [
      "c:\\Users\\timvd\\Documents\\Uni 2023-2024\\First Research Project\\Code\\FRP_TimvdVuurst\\forced_phot.py:556: RuntimeWarning: invalid value encountered in log10\n",
      "  i_guesses = [np.log10(np.max(i_flux)),np.median(f_guess_bounds)]\n",
      "c:\\Users\\timvd\\Documents\\Uni 2023-2024\\First Research Project\\Code\\FRP_TimvdVuurst\\forced_phot.py:557: RuntimeWarning: invalid value encountered in log10\n",
      "  i_bounds = ([np.log10(0.5*np.max(i_flux)),np.percentile(f_guess_bounds,5)],\n",
      "c:\\Users\\timvd\\Documents\\Uni 2023-2024\\First Research Project\\Code\\FRP_TimvdVuurst\\forced_phot.py:558: RuntimeWarning: invalid value encountered in log10\n",
      "  [np.log10(np.max(i_flux*2)),np.percentile(f_guess_bounds,95)])\n"
     ]
    },
    {
     "name": "stdout",
     "output_type": "stream",
     "text": [
      "No viable g or r data in ZTF18aceyqpm. Skipping this instance.\n",
      "No viable g or r data in ZTF18acgzcft. Skipping this instance.\n",
      "No viable g or r data in ZTF18achdmxr. Skipping this instance.\n",
      "No viable g or r data in ZTF18acmfwcr. Skipping this instance.\n",
      "No viable g or r data in ZTF18acnbpmd. Skipping this instance.\n",
      "No viable g or r data in ZTF18acplben. Skipping this instance.\n"
     ]
    },
    {
     "name": "stderr",
     "output_type": "stream",
     "text": [
      "c:\\Users\\timvd\\AppData\\Local\\Programs\\Python\\Python311\\Lib\\site-packages\\numpy\\core\\fromnumeric.py:3464: RuntimeWarning: Mean of empty slice.\n",
      "  return _methods._mean(a, axis=axis, dtype=dtype,\n",
      "c:\\Users\\timvd\\AppData\\Local\\Programs\\Python\\Python311\\Lib\\site-packages\\numpy\\core\\_methods.py:192: RuntimeWarning: invalid value encountered in scalar divide\n",
      "  ret = ret.dtype.type(ret / rcount)\n",
      "c:\\Users\\timvd\\AppData\\Local\\Programs\\Python\\Python311\\Lib\\site-packages\\numpy\\core\\fromnumeric.py:3464: RuntimeWarning: Mean of empty slice.\n",
      "  return _methods._mean(a, axis=axis, dtype=dtype,\n",
      "c:\\Users\\timvd\\AppData\\Local\\Programs\\Python\\Python311\\Lib\\site-packages\\numpy\\core\\_methods.py:192: RuntimeWarning: invalid value encountered in scalar divide\n",
      "  ret = ret.dtype.type(ret / rcount)\n"
     ]
    },
    {
     "name": "stdout",
     "output_type": "stream",
     "text": [
      "No viable g or r data in ZTF18acswirx. Skipping this instance.\n",
      "No viable g or r data in ZTF18acsxsbf. Skipping this instance.\n"
     ]
    },
    {
     "name": "stderr",
     "output_type": "stream",
     "text": [
      "c:\\Users\\timvd\\AppData\\Local\\Programs\\Python\\Python311\\Lib\\site-packages\\numpy\\core\\fromnumeric.py:3464: RuntimeWarning: Mean of empty slice.\n",
      "  return _methods._mean(a, axis=axis, dtype=dtype,\n",
      "c:\\Users\\timvd\\AppData\\Local\\Programs\\Python\\Python311\\Lib\\site-packages\\numpy\\core\\_methods.py:192: RuntimeWarning: invalid value encountered in scalar divide\n",
      "  ret = ret.dtype.type(ret / rcount)\n",
      "c:\\Users\\timvd\\AppData\\Local\\Programs\\Python\\Python311\\Lib\\site-packages\\numpy\\core\\fromnumeric.py:3464: RuntimeWarning: Mean of empty slice.\n",
      "  return _methods._mean(a, axis=axis, dtype=dtype,\n",
      "c:\\Users\\timvd\\AppData\\Local\\Programs\\Python\\Python311\\Lib\\site-packages\\numpy\\core\\_methods.py:192: RuntimeWarning: invalid value encountered in scalar divide\n",
      "  ret = ret.dtype.type(ret / rcount)\n",
      "c:\\Users\\timvd\\AppData\\Local\\Programs\\Python\\Python311\\Lib\\site-packages\\numpy\\core\\fromnumeric.py:3464: RuntimeWarning: Mean of empty slice.\n",
      "  return _methods._mean(a, axis=axis, dtype=dtype,\n",
      "c:\\Users\\timvd\\AppData\\Local\\Programs\\Python\\Python311\\Lib\\site-packages\\numpy\\core\\_methods.py:192: RuntimeWarning: invalid value encountered in scalar divide\n",
      "  ret = ret.dtype.type(ret / rcount)\n",
      "c:\\Users\\timvd\\Documents\\Uni 2023-2024\\First Research Project\\Code\\FRP_TimvdVuurst\\forced_phot.py:556: RuntimeWarning: invalid value encountered in log10\n",
      "  i_guesses = [np.log10(np.max(i_flux)),np.median(f_guess_bounds)]\n",
      "c:\\Users\\timvd\\Documents\\Uni 2023-2024\\First Research Project\\Code\\FRP_TimvdVuurst\\forced_phot.py:557: RuntimeWarning: invalid value encountered in log10\n",
      "  i_bounds = ([np.log10(0.5*np.max(i_flux)),np.percentile(f_guess_bounds,5)],\n",
      "c:\\Users\\timvd\\Documents\\Uni 2023-2024\\First Research Project\\Code\\FRP_TimvdVuurst\\forced_phot.py:558: RuntimeWarning: invalid value encountered in log10\n",
      "  [np.log10(np.max(i_flux*2)),np.percentile(f_guess_bounds,95)])\n"
     ]
    },
    {
     "name": "stdout",
     "output_type": "stream",
     "text": [
      "No viable g or r data in ZTF18aculscd. Skipping this instance.\n",
      "No viable g or r data in ZTF18acvgufb. Skipping this instance.\n"
     ]
    },
    {
     "name": "stderr",
     "output_type": "stream",
     "text": [
      "c:\\Users\\timvd\\AppData\\Local\\Programs\\Python\\Python311\\Lib\\site-packages\\numpy\\core\\fromnumeric.py:3464: RuntimeWarning: Mean of empty slice.\n",
      "  return _methods._mean(a, axis=axis, dtype=dtype,\n",
      "c:\\Users\\timvd\\AppData\\Local\\Programs\\Python\\Python311\\Lib\\site-packages\\numpy\\core\\_methods.py:192: RuntimeWarning: invalid value encountered in scalar divide\n",
      "  ret = ret.dtype.type(ret / rcount)\n"
     ]
    },
    {
     "name": "stdout",
     "output_type": "stream",
     "text": [
      "No viable g or r data in ZTF18acvwhmw. Skipping this instance.\n"
     ]
    },
    {
     "name": "stderr",
     "output_type": "stream",
     "text": [
      "c:\\Users\\timvd\\Documents\\Uni 2023-2024\\First Research Project\\Code\\FRP_TimvdVuurst\\forced_phot.py:325: RuntimeWarning: invalid value encountered in log10\n",
      "  guesses = [np.log10(np.max(flux_fit)),t_0_guess,1,2.5,0,4]\n",
      "c:\\Users\\timvd\\Documents\\Uni 2023-2024\\First Research Project\\Code\\FRP_TimvdVuurst\\forced_phot.py:326: RuntimeWarning: invalid value encountered in log10\n",
      "  guesses_g = [np.log10(np.max(flux_fit)),t_0_guess,1,2.5,np.median(flux[np.invert(time_mask) & self.clean_filtermasks[0]]),4]\n",
      "c:\\Users\\timvd\\Documents\\Uni 2023-2024\\First Research Project\\Code\\FRP_TimvdVuurst\\forced_phot.py:327: RuntimeWarning: invalid value encountered in log10\n",
      "  guesses_r = [np.log10(np.max(flux_fit)),t_0_guess,1,2.5,np.median(flux[np.invert(time_mask) & self.clean_filtermasks[1]]),4]\n",
      "c:\\Users\\timvd\\Documents\\Uni 2023-2024\\First Research Project\\Code\\FRP_TimvdVuurst\\forced_phot.py:330: RuntimeWarning: invalid value encountered in log10\n",
      "  boundings = ([1,t_0_guess-365,0,0,np.min(flux[no_i_mask]),3],[np.log10(np.max(flux_fit*2)),t_0_guess+365,4,4,.5*np.max(flux_fit),5])\n",
      "c:\\Users\\timvd\\Documents\\Uni 2023-2024\\First Research Project\\Code\\FRP_TimvdVuurst\\forced_phot.py:332: RuntimeWarning: invalid value encountered in log10\n",
      "  [np.log10(np.max(flux_fit*2)),t_0_guess+10,4,4,np.percentile(flux[np.invert(time_mask)&self.clean_filtermasks[0]],95),5]) #upper boundings\n",
      "c:\\Users\\timvd\\Documents\\Uni 2023-2024\\First Research Project\\Code\\FRP_TimvdVuurst\\forced_phot.py:334: RuntimeWarning: invalid value encountered in log10\n",
      "  [np.log10(np.max(flux_fit*2)),t_0_guess+10,4,4,np.percentile(flux[np.invert(time_mask)&self.clean_filtermasks[1]],95),5]) #upper boundings\n"
     ]
    },
    {
     "name": "stdout",
     "output_type": "stream",
     "text": [
      "No viable g or r data in ZTF18acxgmur. Skipping this instance.\n"
     ]
    },
    {
     "name": "stderr",
     "output_type": "stream",
     "text": [
      "c:\\Users\\timvd\\AppData\\Local\\Programs\\Python\\Python311\\Lib\\site-packages\\numpy\\core\\fromnumeric.py:3464: RuntimeWarning: Mean of empty slice.\n",
      "  return _methods._mean(a, axis=axis, dtype=dtype,\n",
      "c:\\Users\\timvd\\AppData\\Local\\Programs\\Python\\Python311\\Lib\\site-packages\\numpy\\core\\_methods.py:192: RuntimeWarning: invalid value encountered in scalar divide\n",
      "  ret = ret.dtype.type(ret / rcount)\n"
     ]
    },
    {
     "name": "stdout",
     "output_type": "stream",
     "text": [
      "No viable g or r data in ZTF18aczvwdh. Skipping this instance.\n"
     ]
    },
    {
     "name": "stderr",
     "output_type": "stream",
     "text": [
      "c:\\Users\\timvd\\AppData\\Local\\Programs\\Python\\Python311\\Lib\\site-packages\\numpy\\core\\fromnumeric.py:3464: RuntimeWarning: Mean of empty slice.\n",
      "  return _methods._mean(a, axis=axis, dtype=dtype,\n",
      "c:\\Users\\timvd\\AppData\\Local\\Programs\\Python\\Python311\\Lib\\site-packages\\numpy\\core\\_methods.py:192: RuntimeWarning: invalid value encountered in scalar divide\n",
      "  ret = ret.dtype.type(ret / rcount)\n",
      "c:\\Users\\timvd\\AppData\\Local\\Programs\\Python\\Python311\\Lib\\site-packages\\numpy\\core\\fromnumeric.py:3464: RuntimeWarning: Mean of empty slice.\n",
      "  return _methods._mean(a, axis=axis, dtype=dtype,\n",
      "c:\\Users\\timvd\\AppData\\Local\\Programs\\Python\\Python311\\Lib\\site-packages\\numpy\\core\\_methods.py:192: RuntimeWarning: invalid value encountered in scalar divide\n",
      "  ret = ret.dtype.type(ret / rcount)\n",
      "c:\\Users\\timvd\\AppData\\Local\\Programs\\Python\\Python311\\Lib\\site-packages\\numpy\\core\\fromnumeric.py:3464: RuntimeWarning: Mean of empty slice.\n",
      "  return _methods._mean(a, axis=axis, dtype=dtype,\n",
      "c:\\Users\\timvd\\AppData\\Local\\Programs\\Python\\Python311\\Lib\\site-packages\\numpy\\core\\_methods.py:192: RuntimeWarning: invalid value encountered in scalar divide\n",
      "  ret = ret.dtype.type(ret / rcount)\n",
      "c:\\Users\\timvd\\AppData\\Local\\Programs\\Python\\Python311\\Lib\\site-packages\\numpy\\core\\fromnumeric.py:3464: RuntimeWarning: Mean of empty slice.\n",
      "  return _methods._mean(a, axis=axis, dtype=dtype,\n",
      "c:\\Users\\timvd\\AppData\\Local\\Programs\\Python\\Python311\\Lib\\site-packages\\numpy\\core\\_methods.py:192: RuntimeWarning: invalid value encountered in scalar divide\n",
      "  ret = ret.dtype.type(ret / rcount)\n"
     ]
    },
    {
     "name": "stdout",
     "output_type": "stream",
     "text": [
      "No viable g or r data in ZTF18adfbqvq. Skipping this instance.\n"
     ]
    },
    {
     "name": "stderr",
     "output_type": "stream",
     "text": [
      "c:\\Users\\timvd\\AppData\\Local\\Programs\\Python\\Python311\\Lib\\site-packages\\numpy\\core\\fromnumeric.py:3464: RuntimeWarning: Mean of empty slice.\n",
      "  return _methods._mean(a, axis=axis, dtype=dtype,\n",
      "c:\\Users\\timvd\\AppData\\Local\\Programs\\Python\\Python311\\Lib\\site-packages\\numpy\\core\\_methods.py:192: RuntimeWarning: invalid value encountered in scalar divide\n",
      "  ret = ret.dtype.type(ret / rcount)\n"
     ]
    },
    {
     "name": "stdout",
     "output_type": "stream",
     "text": [
      "No viable g or r data in ZTF18adjqujt. Skipping this instance.\n"
     ]
    },
    {
     "name": "stderr",
     "output_type": "stream",
     "text": [
      "c:\\Users\\timvd\\AppData\\Local\\Programs\\Python\\Python311\\Lib\\site-packages\\numpy\\core\\fromnumeric.py:3464: RuntimeWarning: Mean of empty slice.\n",
      "  return _methods._mean(a, axis=axis, dtype=dtype,\n",
      "c:\\Users\\timvd\\AppData\\Local\\Programs\\Python\\Python311\\Lib\\site-packages\\numpy\\core\\_methods.py:192: RuntimeWarning: invalid value encountered in scalar divide\n",
      "  ret = ret.dtype.type(ret / rcount)\n",
      "c:\\Users\\timvd\\Documents\\Uni 2023-2024\\First Research Project\\Code\\FRP_TimvdVuurst\\forced_phot.py:556: RuntimeWarning: invalid value encountered in log10\n",
      "  i_guesses = [np.log10(np.max(i_flux)),np.median(f_guess_bounds)]\n",
      "c:\\Users\\timvd\\Documents\\Uni 2023-2024\\First Research Project\\Code\\FRP_TimvdVuurst\\forced_phot.py:557: RuntimeWarning: invalid value encountered in log10\n",
      "  i_bounds = ([np.log10(0.5*np.max(i_flux)),np.percentile(f_guess_bounds,5)],\n",
      "c:\\Users\\timvd\\Documents\\Uni 2023-2024\\First Research Project\\Code\\FRP_TimvdVuurst\\forced_phot.py:558: RuntimeWarning: invalid value encountered in log10\n",
      "  [np.log10(np.max(i_flux*2)),np.percentile(f_guess_bounds,95)])\n"
     ]
    },
    {
     "name": "stdout",
     "output_type": "stream",
     "text": [
      "No viable g or r data in ZTF18adojxsv. Skipping this instance.\n"
     ]
    },
    {
     "name": "stderr",
     "output_type": "stream",
     "text": [
      "c:\\Users\\timvd\\AppData\\Local\\Programs\\Python\\Python311\\Lib\\site-packages\\numpy\\core\\fromnumeric.py:3464: RuntimeWarning: Mean of empty slice.\n",
      "  return _methods._mean(a, axis=axis, dtype=dtype,\n",
      "c:\\Users\\timvd\\AppData\\Local\\Programs\\Python\\Python311\\Lib\\site-packages\\numpy\\core\\_methods.py:192: RuntimeWarning: invalid value encountered in scalar divide\n",
      "  ret = ret.dtype.type(ret / rcount)\n",
      "c:\\Users\\timvd\\AppData\\Local\\Programs\\Python\\Python311\\Lib\\site-packages\\numpy\\core\\fromnumeric.py:3464: RuntimeWarning: Mean of empty slice.\n",
      "  return _methods._mean(a, axis=axis, dtype=dtype,\n",
      "c:\\Users\\timvd\\AppData\\Local\\Programs\\Python\\Python311\\Lib\\site-packages\\numpy\\core\\_methods.py:192: RuntimeWarning: invalid value encountered in scalar divide\n",
      "  ret = ret.dtype.type(ret / rcount)\n",
      "c:\\Users\\timvd\\AppData\\Local\\Programs\\Python\\Python311\\Lib\\site-packages\\numpy\\core\\fromnumeric.py:3464: RuntimeWarning: Mean of empty slice.\n",
      "  return _methods._mean(a, axis=axis, dtype=dtype,\n",
      "c:\\Users\\timvd\\AppData\\Local\\Programs\\Python\\Python311\\Lib\\site-packages\\numpy\\core\\_methods.py:192: RuntimeWarning: invalid value encountered in scalar divide\n",
      "  ret = ret.dtype.type(ret / rcount)\n",
      "c:\\Users\\timvd\\AppData\\Local\\Programs\\Python\\Python311\\Lib\\site-packages\\numpy\\core\\fromnumeric.py:3464: RuntimeWarning: Mean of empty slice.\n",
      "  return _methods._mean(a, axis=axis, dtype=dtype,\n",
      "c:\\Users\\timvd\\AppData\\Local\\Programs\\Python\\Python311\\Lib\\site-packages\\numpy\\core\\_methods.py:192: RuntimeWarning: invalid value encountered in scalar divide\n",
      "  ret = ret.dtype.type(ret / rcount)\n",
      "c:\\Users\\timvd\\AppData\\Local\\Programs\\Python\\Python311\\Lib\\site-packages\\numpy\\core\\fromnumeric.py:3464: RuntimeWarning: Mean of empty slice.\n",
      "  return _methods._mean(a, axis=axis, dtype=dtype,\n",
      "c:\\Users\\timvd\\AppData\\Local\\Programs\\Python\\Python311\\Lib\\site-packages\\numpy\\core\\_methods.py:192: RuntimeWarning: invalid value encountered in scalar divide\n",
      "  ret = ret.dtype.type(ret / rcount)\n",
      "c:\\Users\\timvd\\Documents\\Uni 2023-2024\\First Research Project\\Code\\FRP_TimvdVuurst\\forced_phot.py:547: RuntimeWarning: invalid value encountered in log10\n",
      "  i_guesses = [np.log10(np.max(i_flux)),np.median(i_flux)]\n",
      "c:\\Users\\timvd\\Documents\\Uni 2023-2024\\First Research Project\\Code\\FRP_TimvdVuurst\\forced_phot.py:548: RuntimeWarning: invalid value encountered in log10\n",
      "  i_bounds = ([np.log10(0.5*np.max(i_flux)),np.percentile(i_flux,5)],\n",
      "c:\\Users\\timvd\\Documents\\Uni 2023-2024\\First Research Project\\Code\\FRP_TimvdVuurst\\forced_phot.py:549: RuntimeWarning: invalid value encountered in log10\n",
      "  [np.log10(np.max(i_flux*2)),np.percentile(i_flux,95)])\n"
     ]
    },
    {
     "name": "stdout",
     "output_type": "stream",
     "text": [
      "No viable g or r data in ZTF19aaapfwe. Skipping this instance.\n",
      "No viable g or r data in ZTF19aaapipk. Skipping this instance.\n",
      "No viable g or r data in ZTF19aaapnrt. Skipping this instance.\n",
      "No viable g or r data in ZTF19aaapujo. Skipping this instance.\n"
     ]
    },
    {
     "name": "stderr",
     "output_type": "stream",
     "text": [
      "c:\\Users\\timvd\\Documents\\Uni 2023-2024\\First Research Project\\Code\\FRP_TimvdVuurst\\forced_phot.py:556: RuntimeWarning: invalid value encountered in log10\n",
      "  i_guesses = [np.log10(np.max(i_flux)),np.median(f_guess_bounds)]\n",
      "c:\\Users\\timvd\\Documents\\Uni 2023-2024\\First Research Project\\Code\\FRP_TimvdVuurst\\forced_phot.py:557: RuntimeWarning: invalid value encountered in log10\n",
      "  i_bounds = ([np.log10(0.5*np.max(i_flux)),np.percentile(f_guess_bounds,5)],\n",
      "c:\\Users\\timvd\\Documents\\Uni 2023-2024\\First Research Project\\Code\\FRP_TimvdVuurst\\forced_phot.py:558: RuntimeWarning: invalid value encountered in log10\n",
      "  [np.log10(np.max(i_flux*2)),np.percentile(f_guess_bounds,95)])\n"
     ]
    },
    {
     "name": "stdout",
     "output_type": "stream",
     "text": [
      "No viable g or r data in ZTF19aachwqz. Skipping this instance.\n"
     ]
    },
    {
     "name": "stderr",
     "output_type": "stream",
     "text": [
      "c:\\Users\\timvd\\AppData\\Local\\Programs\\Python\\Python311\\Lib\\site-packages\\numpy\\core\\fromnumeric.py:3464: RuntimeWarning: Mean of empty slice.\n",
      "  return _methods._mean(a, axis=axis, dtype=dtype,\n",
      "c:\\Users\\timvd\\AppData\\Local\\Programs\\Python\\Python311\\Lib\\site-packages\\numpy\\core\\_methods.py:192: RuntimeWarning: invalid value encountered in scalar divide\n",
      "  ret = ret.dtype.type(ret / rcount)\n"
     ]
    },
    {
     "name": "stdout",
     "output_type": "stream",
     "text": [
      "No viable g or r data in ZTF19aafmrrw. Skipping this instance.\n"
     ]
    },
    {
     "name": "stderr",
     "output_type": "stream",
     "text": [
      "c:\\Users\\timvd\\AppData\\Local\\Programs\\Python\\Python311\\Lib\\site-packages\\numpy\\core\\fromnumeric.py:3464: RuntimeWarning: Mean of empty slice.\n",
      "  return _methods._mean(a, axis=axis, dtype=dtype,\n",
      "c:\\Users\\timvd\\AppData\\Local\\Programs\\Python\\Python311\\Lib\\site-packages\\numpy\\core\\_methods.py:192: RuntimeWarning: invalid value encountered in scalar divide\n",
      "  ret = ret.dtype.type(ret / rcount)\n"
     ]
    },
    {
     "name": "stdout",
     "output_type": "stream",
     "text": [
      "No viable g or r data in ZTF19aaikxbr. Skipping this instance.\n",
      "No viable g or r data in ZTF19aailtrj. Skipping this instance.\n",
      "No viable g or r data in ZTF19aailwji. Skipping this instance.\n",
      "No viable g or r data in ZTF19aaiqmwc. Skipping this instance.\n",
      "No viable g or r data in ZTF19aajwhse. Skipping this instance.\n"
     ]
    },
    {
     "name": "stderr",
     "output_type": "stream",
     "text": [
      "c:\\Users\\timvd\\Documents\\Uni 2023-2024\\First Research Project\\Code\\FRP_TimvdVuurst\\forced_phot.py:556: RuntimeWarning: invalid value encountered in log10\n",
      "  i_guesses = [np.log10(np.max(i_flux)),np.median(f_guess_bounds)]\n",
      "c:\\Users\\timvd\\Documents\\Uni 2023-2024\\First Research Project\\Code\\FRP_TimvdVuurst\\forced_phot.py:557: RuntimeWarning: invalid value encountered in log10\n",
      "  i_bounds = ([np.log10(0.5*np.max(i_flux)),np.percentile(f_guess_bounds,5)],\n",
      "c:\\Users\\timvd\\Documents\\Uni 2023-2024\\First Research Project\\Code\\FRP_TimvdVuurst\\forced_phot.py:558: RuntimeWarning: invalid value encountered in log10\n",
      "  [np.log10(np.max(i_flux*2)),np.percentile(f_guess_bounds,95)])\n",
      "c:\\Users\\timvd\\AppData\\Local\\Programs\\Python\\Python311\\Lib\\site-packages\\numpy\\core\\fromnumeric.py:3464: RuntimeWarning: Mean of empty slice.\n",
      "  return _methods._mean(a, axis=axis, dtype=dtype,\n",
      "c:\\Users\\timvd\\AppData\\Local\\Programs\\Python\\Python311\\Lib\\site-packages\\numpy\\core\\_methods.py:192: RuntimeWarning: invalid value encountered in scalar divide\n",
      "  ret = ret.dtype.type(ret / rcount)\n",
      "c:\\Users\\timvd\\AppData\\Local\\Programs\\Python\\Python311\\Lib\\site-packages\\numpy\\core\\fromnumeric.py:3464: RuntimeWarning: Mean of empty slice.\n",
      "  return _methods._mean(a, axis=axis, dtype=dtype,\n",
      "c:\\Users\\timvd\\AppData\\Local\\Programs\\Python\\Python311\\Lib\\site-packages\\numpy\\core\\_methods.py:192: RuntimeWarning: invalid value encountered in scalar divide\n",
      "  ret = ret.dtype.type(ret / rcount)\n",
      "c:\\Users\\timvd\\AppData\\Local\\Programs\\Python\\Python311\\Lib\\site-packages\\numpy\\core\\fromnumeric.py:3464: RuntimeWarning: Mean of empty slice.\n",
      "  return _methods._mean(a, axis=axis, dtype=dtype,\n",
      "c:\\Users\\timvd\\AppData\\Local\\Programs\\Python\\Python311\\Lib\\site-packages\\numpy\\core\\_methods.py:192: RuntimeWarning: invalid value encountered in scalar divide\n",
      "  ret = ret.dtype.type(ret / rcount)\n"
     ]
    },
    {
     "name": "stdout",
     "output_type": "stream",
     "text": [
      "No viable g or r data in ZTF19aalzvxf. Skipping this instance.\n",
      "No viable g or r data in ZTF19aamtdws. Skipping this instance.\n"
     ]
    },
    {
     "name": "stderr",
     "output_type": "stream",
     "text": [
      "c:\\Users\\timvd\\Documents\\Uni 2023-2024\\First Research Project\\Code\\FRP_TimvdVuurst\\forced_phot.py:556: RuntimeWarning: invalid value encountered in log10\n",
      "  i_guesses = [np.log10(np.max(i_flux)),np.median(f_guess_bounds)]\n",
      "c:\\Users\\timvd\\Documents\\Uni 2023-2024\\First Research Project\\Code\\FRP_TimvdVuurst\\forced_phot.py:557: RuntimeWarning: invalid value encountered in log10\n",
      "  i_bounds = ([np.log10(0.5*np.max(i_flux)),np.percentile(f_guess_bounds,5)],\n",
      "c:\\Users\\timvd\\Documents\\Uni 2023-2024\\First Research Project\\Code\\FRP_TimvdVuurst\\forced_phot.py:558: RuntimeWarning: invalid value encountered in log10\n",
      "  [np.log10(np.max(i_flux*2)),np.percentile(f_guess_bounds,95)])\n"
     ]
    },
    {
     "name": "stdout",
     "output_type": "stream",
     "text": [
      "No viable g or r data in ZTF19aanyuzb. Skipping this instance.\n",
      "No viable g or r data in ZTF19aaohxwd. Skipping this instance.\n"
     ]
    },
    {
     "name": "stderr",
     "output_type": "stream",
     "text": [
      "c:\\Users\\timvd\\AppData\\Local\\Programs\\Python\\Python311\\Lib\\site-packages\\numpy\\core\\fromnumeric.py:3464: RuntimeWarning: Mean of empty slice.\n",
      "  return _methods._mean(a, axis=axis, dtype=dtype,\n",
      "c:\\Users\\timvd\\AppData\\Local\\Programs\\Python\\Python311\\Lib\\site-packages\\numpy\\core\\_methods.py:192: RuntimeWarning: invalid value encountered in scalar divide\n",
      "  ret = ret.dtype.type(ret / rcount)\n",
      "c:\\Users\\timvd\\AppData\\Local\\Programs\\Python\\Python311\\Lib\\site-packages\\numpy\\core\\fromnumeric.py:3464: RuntimeWarning: Mean of empty slice.\n",
      "  return _methods._mean(a, axis=axis, dtype=dtype,\n",
      "c:\\Users\\timvd\\AppData\\Local\\Programs\\Python\\Python311\\Lib\\site-packages\\numpy\\core\\_methods.py:192: RuntimeWarning: invalid value encountered in scalar divide\n",
      "  ret = ret.dtype.type(ret / rcount)\n"
     ]
    },
    {
     "name": "stdout",
     "output_type": "stream",
     "text": [
      "No viable g or r data in ZTF19aaprcke. Skipping this instance.\n",
      "No viable g or r data in ZTF19aaprwuv. Skipping this instance.\n",
      "No viable g or r data in ZTF19aapubll. Skipping this instance.\n"
     ]
    },
    {
     "name": "stderr",
     "output_type": "stream",
     "text": [
      "c:\\Users\\timvd\\AppData\\Local\\Programs\\Python\\Python311\\Lib\\site-packages\\numpy\\core\\fromnumeric.py:3464: RuntimeWarning: Mean of empty slice.\n",
      "  return _methods._mean(a, axis=axis, dtype=dtype,\n",
      "c:\\Users\\timvd\\AppData\\Local\\Programs\\Python\\Python311\\Lib\\site-packages\\numpy\\core\\_methods.py:192: RuntimeWarning: invalid value encountered in scalar divide\n",
      "  ret = ret.dtype.type(ret / rcount)\n"
     ]
    },
    {
     "name": "stdout",
     "output_type": "stream",
     "text": [
      "No viable g or r data in ZTF19aapzbmx. Skipping this instance.\n",
      "No viable g or r data in ZTF19aaqekew. Skipping this instance.\n",
      "No viable g or r data in ZTF19aaqwvdy. Skipping this instance.\n"
     ]
    },
    {
     "name": "stderr",
     "output_type": "stream",
     "text": [
      "c:\\Users\\timvd\\AppData\\Local\\Programs\\Python\\Python311\\Lib\\site-packages\\numpy\\core\\fromnumeric.py:3464: RuntimeWarning: Mean of empty slice.\n",
      "  return _methods._mean(a, axis=axis, dtype=dtype,\n",
      "c:\\Users\\timvd\\AppData\\Local\\Programs\\Python\\Python311\\Lib\\site-packages\\numpy\\core\\_methods.py:192: RuntimeWarning: invalid value encountered in scalar divide\n",
      "  ret = ret.dtype.type(ret / rcount)\n"
     ]
    },
    {
     "name": "stdout",
     "output_type": "stream",
     "text": [
      "No viable g or r data in ZTF19aarkwfv. Skipping this instance.\n"
     ]
    },
    {
     "name": "stderr",
     "output_type": "stream",
     "text": [
      "c:\\Users\\timvd\\Documents\\Uni 2023-2024\\First Research Project\\Code\\FRP_TimvdVuurst\\forced_phot.py:556: RuntimeWarning: invalid value encountered in log10\n",
      "  i_guesses = [np.log10(np.max(i_flux)),np.median(f_guess_bounds)]\n",
      "c:\\Users\\timvd\\Documents\\Uni 2023-2024\\First Research Project\\Code\\FRP_TimvdVuurst\\forced_phot.py:557: RuntimeWarning: invalid value encountered in log10\n",
      "  i_bounds = ([np.log10(0.5*np.max(i_flux)),np.percentile(f_guess_bounds,5)],\n",
      "c:\\Users\\timvd\\Documents\\Uni 2023-2024\\First Research Project\\Code\\FRP_TimvdVuurst\\forced_phot.py:558: RuntimeWarning: invalid value encountered in log10\n",
      "  [np.log10(np.max(i_flux*2)),np.percentile(f_guess_bounds,95)])\n"
     ]
    },
    {
     "name": "stdout",
     "output_type": "stream",
     "text": [
      "No viable g or r data in ZTF19aarxyde. Skipping this instance.\n"
     ]
    },
    {
     "name": "stderr",
     "output_type": "stream",
     "text": [
      "c:\\Users\\timvd\\AppData\\Local\\Programs\\Python\\Python311\\Lib\\site-packages\\numpy\\core\\fromnumeric.py:3464: RuntimeWarning: Mean of empty slice.\n",
      "  return _methods._mean(a, axis=axis, dtype=dtype,\n",
      "c:\\Users\\timvd\\AppData\\Local\\Programs\\Python\\Python311\\Lib\\site-packages\\numpy\\core\\_methods.py:192: RuntimeWarning: invalid value encountered in scalar divide\n",
      "  ret = ret.dtype.type(ret / rcount)\n",
      "c:\\Users\\timvd\\AppData\\Local\\Programs\\Python\\Python311\\Lib\\site-packages\\numpy\\core\\fromnumeric.py:3464: RuntimeWarning: Mean of empty slice.\n",
      "  return _methods._mean(a, axis=axis, dtype=dtype,\n",
      "c:\\Users\\timvd\\AppData\\Local\\Programs\\Python\\Python311\\Lib\\site-packages\\numpy\\core\\_methods.py:192: RuntimeWarning: invalid value encountered in scalar divide\n",
      "  ret = ret.dtype.type(ret / rcount)\n"
     ]
    },
    {
     "name": "stdout",
     "output_type": "stream",
     "text": [
      "No viable g or r data in ZTF19aastary. Skipping this instance.\n",
      "No viable g or r data in ZTF19aatfkkj. Skipping this instance.\n",
      "No viable g or r data in ZTF19aathlde. Skipping this instance.\n"
     ]
    },
    {
     "name": "stderr",
     "output_type": "stream",
     "text": [
      "c:\\Users\\timvd\\AppData\\Local\\Programs\\Python\\Python311\\Lib\\site-packages\\numpy\\core\\fromnumeric.py:3464: RuntimeWarning: Mean of empty slice.\n",
      "  return _methods._mean(a, axis=axis, dtype=dtype,\n",
      "c:\\Users\\timvd\\AppData\\Local\\Programs\\Python\\Python311\\Lib\\site-packages\\numpy\\core\\_methods.py:192: RuntimeWarning: invalid value encountered in scalar divide\n",
      "  ret = ret.dtype.type(ret / rcount)\n",
      "c:\\Users\\timvd\\AppData\\Local\\Programs\\Python\\Python311\\Lib\\site-packages\\numpy\\core\\fromnumeric.py:3464: RuntimeWarning: Mean of empty slice.\n",
      "  return _methods._mean(a, axis=axis, dtype=dtype,\n",
      "c:\\Users\\timvd\\AppData\\Local\\Programs\\Python\\Python311\\Lib\\site-packages\\numpy\\core\\_methods.py:192: RuntimeWarning: invalid value encountered in scalar divide\n",
      "  ret = ret.dtype.type(ret / rcount)\n",
      "c:\\Users\\timvd\\AppData\\Local\\Programs\\Python\\Python311\\Lib\\site-packages\\numpy\\core\\fromnumeric.py:3464: RuntimeWarning: Mean of empty slice.\n",
      "  return _methods._mean(a, axis=axis, dtype=dtype,\n",
      "c:\\Users\\timvd\\AppData\\Local\\Programs\\Python\\Python311\\Lib\\site-packages\\numpy\\core\\_methods.py:192: RuntimeWarning: invalid value encountered in scalar divide\n",
      "  ret = ret.dtype.type(ret / rcount)\n",
      "c:\\Users\\timvd\\AppData\\Local\\Programs\\Python\\Python311\\Lib\\site-packages\\numpy\\core\\fromnumeric.py:3464: RuntimeWarning: Mean of empty slice.\n",
      "  return _methods._mean(a, axis=axis, dtype=dtype,\n",
      "c:\\Users\\timvd\\AppData\\Local\\Programs\\Python\\Python311\\Lib\\site-packages\\numpy\\core\\_methods.py:192: RuntimeWarning: invalid value encountered in scalar divide\n",
      "  ret = ret.dtype.type(ret / rcount)\n",
      "c:\\Users\\timvd\\Documents\\Uni 2023-2024\\First Research Project\\Code\\FRP_TimvdVuurst\\forced_phot.py:547: RuntimeWarning: invalid value encountered in log10\n",
      "  i_guesses = [np.log10(np.max(i_flux)),np.median(i_flux)]\n",
      "c:\\Users\\timvd\\Documents\\Uni 2023-2024\\First Research Project\\Code\\FRP_TimvdVuurst\\forced_phot.py:548: RuntimeWarning: invalid value encountered in log10\n",
      "  i_bounds = ([np.log10(0.5*np.max(i_flux)),np.percentile(i_flux,5)],\n",
      "c:\\Users\\timvd\\Documents\\Uni 2023-2024\\First Research Project\\Code\\FRP_TimvdVuurst\\forced_phot.py:549: RuntimeWarning: invalid value encountered in log10\n",
      "  [np.log10(np.max(i_flux*2)),np.percentile(i_flux,95)])\n",
      "c:\\Users\\timvd\\AppData\\Local\\Programs\\Python\\Python311\\Lib\\site-packages\\numpy\\core\\fromnumeric.py:3464: RuntimeWarning: Mean of empty slice.\n",
      "  return _methods._mean(a, axis=axis, dtype=dtype,\n",
      "c:\\Users\\timvd\\AppData\\Local\\Programs\\Python\\Python311\\Lib\\site-packages\\numpy\\core\\_methods.py:192: RuntimeWarning: invalid value encountered in scalar divide\n",
      "  ret = ret.dtype.type(ret / rcount)\n",
      "c:\\Users\\timvd\\AppData\\Local\\Programs\\Python\\Python311\\Lib\\site-packages\\numpy\\core\\fromnumeric.py:3464: RuntimeWarning: Mean of empty slice.\n",
      "  return _methods._mean(a, axis=axis, dtype=dtype,\n",
      "c:\\Users\\timvd\\AppData\\Local\\Programs\\Python\\Python311\\Lib\\site-packages\\numpy\\core\\_methods.py:192: RuntimeWarning: invalid value encountered in scalar divide\n",
      "  ret = ret.dtype.type(ret / rcount)\n",
      "c:\\Users\\timvd\\AppData\\Local\\Programs\\Python\\Python311\\Lib\\site-packages\\numpy\\core\\fromnumeric.py:3464: RuntimeWarning: Mean of empty slice.\n",
      "  return _methods._mean(a, axis=axis, dtype=dtype,\n",
      "c:\\Users\\timvd\\AppData\\Local\\Programs\\Python\\Python311\\Lib\\site-packages\\numpy\\core\\_methods.py:192: RuntimeWarning: invalid value encountered in scalar divide\n",
      "  ret = ret.dtype.type(ret / rcount)\n",
      "c:\\Users\\timvd\\AppData\\Local\\Programs\\Python\\Python311\\Lib\\site-packages\\numpy\\core\\fromnumeric.py:3464: RuntimeWarning: Mean of empty slice.\n",
      "  return _methods._mean(a, axis=axis, dtype=dtype,\n",
      "c:\\Users\\timvd\\AppData\\Local\\Programs\\Python\\Python311\\Lib\\site-packages\\numpy\\core\\_methods.py:192: RuntimeWarning: invalid value encountered in scalar divide\n",
      "  ret = ret.dtype.type(ret / rcount)\n",
      "c:\\Users\\timvd\\AppData\\Local\\Programs\\Python\\Python311\\Lib\\site-packages\\numpy\\core\\fromnumeric.py:3464: RuntimeWarning: Mean of empty slice.\n",
      "  return _methods._mean(a, axis=axis, dtype=dtype,\n",
      "c:\\Users\\timvd\\AppData\\Local\\Programs\\Python\\Python311\\Lib\\site-packages\\numpy\\core\\_methods.py:192: RuntimeWarning: invalid value encountered in scalar divide\n",
      "  ret = ret.dtype.type(ret / rcount)\n"
     ]
    },
    {
     "name": "stdout",
     "output_type": "stream",
     "text": [
      "No viable g or r data in ZTF19aawnwan. Skipping this instance.\n"
     ]
    },
    {
     "name": "stderr",
     "output_type": "stream",
     "text": [
      "c:\\Users\\timvd\\Documents\\Uni 2023-2024\\First Research Project\\Code\\FRP_TimvdVuurst\\forced_phot.py:547: RuntimeWarning: invalid value encountered in log10\n",
      "  i_guesses = [np.log10(np.max(i_flux)),np.median(i_flux)]\n",
      "c:\\Users\\timvd\\Documents\\Uni 2023-2024\\First Research Project\\Code\\FRP_TimvdVuurst\\forced_phot.py:548: RuntimeWarning: invalid value encountered in log10\n",
      "  i_bounds = ([np.log10(0.5*np.max(i_flux)),np.percentile(i_flux,5)],\n",
      "c:\\Users\\timvd\\Documents\\Uni 2023-2024\\First Research Project\\Code\\FRP_TimvdVuurst\\forced_phot.py:549: RuntimeWarning: invalid value encountered in log10\n",
      "  [np.log10(np.max(i_flux*2)),np.percentile(i_flux,95)])\n",
      "c:\\Users\\timvd\\Documents\\Uni 2023-2024\\First Research Project\\Code\\FRP_TimvdVuurst\\forced_phot.py:556: RuntimeWarning: invalid value encountered in log10\n",
      "  i_guesses = [np.log10(np.max(i_flux)),np.median(f_guess_bounds)]\n",
      "c:\\Users\\timvd\\Documents\\Uni 2023-2024\\First Research Project\\Code\\FRP_TimvdVuurst\\forced_phot.py:557: RuntimeWarning: invalid value encountered in log10\n",
      "  i_bounds = ([np.log10(0.5*np.max(i_flux)),np.percentile(f_guess_bounds,5)],\n",
      "c:\\Users\\timvd\\Documents\\Uni 2023-2024\\First Research Project\\Code\\FRP_TimvdVuurst\\forced_phot.py:558: RuntimeWarning: invalid value encountered in log10\n",
      "  [np.log10(np.max(i_flux*2)),np.percentile(f_guess_bounds,95)])\n"
     ]
    },
    {
     "name": "stdout",
     "output_type": "stream",
     "text": [
      "No viable g or r data in ZTF19aaytamb. Skipping this instance.\n",
      "No viable g or r data in ZTF19aazxgjj. Skipping this instance.\n"
     ]
    },
    {
     "name": "stderr",
     "output_type": "stream",
     "text": [
      "c:\\Users\\timvd\\Documents\\Uni 2023-2024\\First Research Project\\Code\\FRP_TimvdVuurst\\forced_phot.py:556: RuntimeWarning: invalid value encountered in log10\n",
      "  i_guesses = [np.log10(np.max(i_flux)),np.median(f_guess_bounds)]\n",
      "c:\\Users\\timvd\\Documents\\Uni 2023-2024\\First Research Project\\Code\\FRP_TimvdVuurst\\forced_phot.py:557: RuntimeWarning: invalid value encountered in log10\n",
      "  i_bounds = ([np.log10(0.5*np.max(i_flux)),np.percentile(f_guess_bounds,5)],\n",
      "c:\\Users\\timvd\\Documents\\Uni 2023-2024\\First Research Project\\Code\\FRP_TimvdVuurst\\forced_phot.py:558: RuntimeWarning: invalid value encountered in log10\n",
      "  [np.log10(np.max(i_flux*2)),np.percentile(f_guess_bounds,95)])\n",
      "c:\\Users\\timvd\\AppData\\Local\\Programs\\Python\\Python311\\Lib\\site-packages\\numpy\\core\\fromnumeric.py:3464: RuntimeWarning: Mean of empty slice.\n",
      "  return _methods._mean(a, axis=axis, dtype=dtype,\n",
      "c:\\Users\\timvd\\AppData\\Local\\Programs\\Python\\Python311\\Lib\\site-packages\\numpy\\core\\_methods.py:192: RuntimeWarning: invalid value encountered in scalar divide\n",
      "  ret = ret.dtype.type(ret / rcount)\n",
      "c:\\Users\\timvd\\AppData\\Local\\Programs\\Python\\Python311\\Lib\\site-packages\\numpy\\core\\fromnumeric.py:3464: RuntimeWarning: Mean of empty slice.\n",
      "  return _methods._mean(a, axis=axis, dtype=dtype,\n",
      "c:\\Users\\timvd\\AppData\\Local\\Programs\\Python\\Python311\\Lib\\site-packages\\numpy\\core\\_methods.py:192: RuntimeWarning: invalid value encountered in scalar divide\n",
      "  ret = ret.dtype.type(ret / rcount)\n",
      "c:\\Users\\timvd\\AppData\\Local\\Programs\\Python\\Python311\\Lib\\site-packages\\numpy\\core\\fromnumeric.py:3464: RuntimeWarning: Mean of empty slice.\n",
      "  return _methods._mean(a, axis=axis, dtype=dtype,\n",
      "c:\\Users\\timvd\\AppData\\Local\\Programs\\Python\\Python311\\Lib\\site-packages\\numpy\\core\\_methods.py:192: RuntimeWarning: invalid value encountered in scalar divide\n",
      "  ret = ret.dtype.type(ret / rcount)\n"
     ]
    },
    {
     "name": "stdout",
     "output_type": "stream",
     "text": [
      "No viable g or r data in ZTF19abbynti. Skipping this instance.\n"
     ]
    },
    {
     "name": "stderr",
     "output_type": "stream",
     "text": [
      "c:\\Users\\timvd\\AppData\\Local\\Programs\\Python\\Python311\\Lib\\site-packages\\numpy\\core\\fromnumeric.py:3464: RuntimeWarning: Mean of empty slice.\n",
      "  return _methods._mean(a, axis=axis, dtype=dtype,\n",
      "c:\\Users\\timvd\\AppData\\Local\\Programs\\Python\\Python311\\Lib\\site-packages\\numpy\\core\\_methods.py:192: RuntimeWarning: invalid value encountered in scalar divide\n",
      "  ret = ret.dtype.type(ret / rcount)\n"
     ]
    },
    {
     "name": "stdout",
     "output_type": "stream",
     "text": [
      "No viable g or r data in ZTF19abcemxd. Skipping this instance.\n"
     ]
    },
    {
     "name": "stderr",
     "output_type": "stream",
     "text": [
      "c:\\Users\\timvd\\AppData\\Local\\Programs\\Python\\Python311\\Lib\\site-packages\\numpy\\core\\fromnumeric.py:3464: RuntimeWarning: Mean of empty slice.\n",
      "  return _methods._mean(a, axis=axis, dtype=dtype,\n",
      "c:\\Users\\timvd\\AppData\\Local\\Programs\\Python\\Python311\\Lib\\site-packages\\numpy\\core\\_methods.py:192: RuntimeWarning: invalid value encountered in scalar divide\n",
      "  ret = ret.dtype.type(ret / rcount)\n",
      "c:\\Users\\timvd\\AppData\\Local\\Programs\\Python\\Python311\\Lib\\site-packages\\numpy\\core\\fromnumeric.py:3464: RuntimeWarning: Mean of empty slice.\n",
      "  return _methods._mean(a, axis=axis, dtype=dtype,\n",
      "c:\\Users\\timvd\\AppData\\Local\\Programs\\Python\\Python311\\Lib\\site-packages\\numpy\\core\\_methods.py:192: RuntimeWarning: invalid value encountered in scalar divide\n",
      "  ret = ret.dtype.type(ret / rcount)\n",
      "c:\\Users\\timvd\\Documents\\Uni 2023-2024\\First Research Project\\Code\\FRP_TimvdVuurst\\forced_phot.py:547: RuntimeWarning: invalid value encountered in log10\n",
      "  i_guesses = [np.log10(np.max(i_flux)),np.median(i_flux)]\n",
      "c:\\Users\\timvd\\Documents\\Uni 2023-2024\\First Research Project\\Code\\FRP_TimvdVuurst\\forced_phot.py:548: RuntimeWarning: invalid value encountered in log10\n",
      "  i_bounds = ([np.log10(0.5*np.max(i_flux)),np.percentile(i_flux,5)],\n",
      "c:\\Users\\timvd\\Documents\\Uni 2023-2024\\First Research Project\\Code\\FRP_TimvdVuurst\\forced_phot.py:549: RuntimeWarning: invalid value encountered in log10\n",
      "  [np.log10(np.max(i_flux*2)),np.percentile(i_flux,95)])\n"
     ]
    },
    {
     "name": "stdout",
     "output_type": "stream",
     "text": [
      "No viable g or r data in ZTF19abdemjb. Skipping this instance.\n",
      "No viable g or r data in ZTF19abdjzeb. Skipping this instance.\n",
      "No viable g or r data in ZTF19abdyggx. Skipping this instance.\n"
     ]
    },
    {
     "name": "stderr",
     "output_type": "stream",
     "text": [
      "c:\\Users\\timvd\\AppData\\Local\\Programs\\Python\\Python311\\Lib\\site-packages\\numpy\\core\\fromnumeric.py:3464: RuntimeWarning: Mean of empty slice.\n",
      "  return _methods._mean(a, axis=axis, dtype=dtype,\n",
      "c:\\Users\\timvd\\AppData\\Local\\Programs\\Python\\Python311\\Lib\\site-packages\\numpy\\core\\_methods.py:192: RuntimeWarning: invalid value encountered in scalar divide\n",
      "  ret = ret.dtype.type(ret / rcount)\n"
     ]
    },
    {
     "name": "stdout",
     "output_type": "stream",
     "text": [
      "No viable g or r data in ZTF19abegzry. Skipping this instance.\n"
     ]
    },
    {
     "name": "stderr",
     "output_type": "stream",
     "text": [
      "c:\\Users\\timvd\\AppData\\Local\\Programs\\Python\\Python311\\Lib\\site-packages\\numpy\\core\\fromnumeric.py:3464: RuntimeWarning: Mean of empty slice.\n",
      "  return _methods._mean(a, axis=axis, dtype=dtype,\n",
      "c:\\Users\\timvd\\AppData\\Local\\Programs\\Python\\Python311\\Lib\\site-packages\\numpy\\core\\_methods.py:192: RuntimeWarning: invalid value encountered in scalar divide\n",
      "  ret = ret.dtype.type(ret / rcount)\n",
      "c:\\Users\\timvd\\AppData\\Local\\Programs\\Python\\Python311\\Lib\\site-packages\\numpy\\core\\fromnumeric.py:3464: RuntimeWarning: Mean of empty slice.\n",
      "  return _methods._mean(a, axis=axis, dtype=dtype,\n",
      "c:\\Users\\timvd\\AppData\\Local\\Programs\\Python\\Python311\\Lib\\site-packages\\numpy\\core\\_methods.py:192: RuntimeWarning: invalid value encountered in scalar divide\n",
      "  ret = ret.dtype.type(ret / rcount)\n"
     ]
    },
    {
     "name": "stdout",
     "output_type": "stream",
     "text": [
      "No viable g or r data in ZTF19abfyuel. Skipping this instance.\n"
     ]
    },
    {
     "name": "stderr",
     "output_type": "stream",
     "text": [
      "c:\\Users\\timvd\\AppData\\Local\\Programs\\Python\\Python311\\Lib\\site-packages\\numpy\\core\\fromnumeric.py:3464: RuntimeWarning: Mean of empty slice.\n",
      "  return _methods._mean(a, axis=axis, dtype=dtype,\n",
      "c:\\Users\\timvd\\AppData\\Local\\Programs\\Python\\Python311\\Lib\\site-packages\\numpy\\core\\_methods.py:192: RuntimeWarning: invalid value encountered in scalar divide\n",
      "  ret = ret.dtype.type(ret / rcount)\n",
      "c:\\Users\\timvd\\AppData\\Local\\Programs\\Python\\Python311\\Lib\\site-packages\\numpy\\core\\fromnumeric.py:3464: RuntimeWarning: Mean of empty slice.\n",
      "  return _methods._mean(a, axis=axis, dtype=dtype,\n",
      "c:\\Users\\timvd\\AppData\\Local\\Programs\\Python\\Python311\\Lib\\site-packages\\numpy\\core\\_methods.py:192: RuntimeWarning: invalid value encountered in scalar divide\n",
      "  ret = ret.dtype.type(ret / rcount)\n",
      "c:\\Users\\timvd\\AppData\\Local\\Programs\\Python\\Python311\\Lib\\site-packages\\numpy\\core\\fromnumeric.py:3464: RuntimeWarning: Mean of empty slice.\n",
      "  return _methods._mean(a, axis=axis, dtype=dtype,\n",
      "c:\\Users\\timvd\\AppData\\Local\\Programs\\Python\\Python311\\Lib\\site-packages\\numpy\\core\\_methods.py:192: RuntimeWarning: invalid value encountered in scalar divide\n",
      "  ret = ret.dtype.type(ret / rcount)\n",
      "c:\\Users\\timvd\\AppData\\Local\\Programs\\Python\\Python311\\Lib\\site-packages\\numpy\\core\\fromnumeric.py:3464: RuntimeWarning: Mean of empty slice.\n",
      "  return _methods._mean(a, axis=axis, dtype=dtype,\n",
      "c:\\Users\\timvd\\AppData\\Local\\Programs\\Python\\Python311\\Lib\\site-packages\\numpy\\core\\_methods.py:192: RuntimeWarning: invalid value encountered in scalar divide\n",
      "  ret = ret.dtype.type(ret / rcount)\n"
     ]
    },
    {
     "name": "stdout",
     "output_type": "stream",
     "text": [
      "No viable g or r data in ZTF19abidivp. Skipping this instance.\n",
      "No viable g or r data in ZTF19abifoky. Skipping this instance.\n"
     ]
    },
    {
     "name": "stderr",
     "output_type": "stream",
     "text": [
      "c:\\Users\\timvd\\AppData\\Local\\Programs\\Python\\Python311\\Lib\\site-packages\\numpy\\core\\fromnumeric.py:3464: RuntimeWarning: Mean of empty slice.\n",
      "  return _methods._mean(a, axis=axis, dtype=dtype,\n",
      "c:\\Users\\timvd\\AppData\\Local\\Programs\\Python\\Python311\\Lib\\site-packages\\numpy\\core\\_methods.py:192: RuntimeWarning: invalid value encountered in scalar divide\n",
      "  ret = ret.dtype.type(ret / rcount)\n",
      "c:\\Users\\timvd\\AppData\\Local\\Programs\\Python\\Python311\\Lib\\site-packages\\numpy\\core\\fromnumeric.py:3464: RuntimeWarning: Mean of empty slice.\n",
      "  return _methods._mean(a, axis=axis, dtype=dtype,\n",
      "c:\\Users\\timvd\\AppData\\Local\\Programs\\Python\\Python311\\Lib\\site-packages\\numpy\\core\\_methods.py:192: RuntimeWarning: invalid value encountered in scalar divide\n",
      "  ret = ret.dtype.type(ret / rcount)\n",
      "c:\\Users\\timvd\\Documents\\Uni 2023-2024\\First Research Project\\Code\\FRP_TimvdVuurst\\forced_phot.py:556: RuntimeWarning: invalid value encountered in log10\n",
      "  i_guesses = [np.log10(np.max(i_flux)),np.median(f_guess_bounds)]\n",
      "c:\\Users\\timvd\\Documents\\Uni 2023-2024\\First Research Project\\Code\\FRP_TimvdVuurst\\forced_phot.py:557: RuntimeWarning: invalid value encountered in log10\n",
      "  i_bounds = ([np.log10(0.5*np.max(i_flux)),np.percentile(f_guess_bounds,5)],\n",
      "c:\\Users\\timvd\\Documents\\Uni 2023-2024\\First Research Project\\Code\\FRP_TimvdVuurst\\forced_phot.py:558: RuntimeWarning: invalid value encountered in log10\n",
      "  [np.log10(np.max(i_flux*2)),np.percentile(f_guess_bounds,95)])\n",
      "c:\\Users\\timvd\\Documents\\Uni 2023-2024\\First Research Project\\Code\\FRP_TimvdVuurst\\forced_phot.py:556: RuntimeWarning: invalid value encountered in log10\n",
      "  i_guesses = [np.log10(np.max(i_flux)),np.median(f_guess_bounds)]\n",
      "c:\\Users\\timvd\\Documents\\Uni 2023-2024\\First Research Project\\Code\\FRP_TimvdVuurst\\forced_phot.py:557: RuntimeWarning: invalid value encountered in log10\n",
      "  i_bounds = ([np.log10(0.5*np.max(i_flux)),np.percentile(f_guess_bounds,5)],\n",
      "c:\\Users\\timvd\\Documents\\Uni 2023-2024\\First Research Project\\Code\\FRP_TimvdVuurst\\forced_phot.py:558: RuntimeWarning: invalid value encountered in log10\n",
      "  [np.log10(np.max(i_flux*2)),np.percentile(f_guess_bounds,95)])\n",
      "c:\\Users\\timvd\\AppData\\Local\\Programs\\Python\\Python311\\Lib\\site-packages\\numpy\\core\\fromnumeric.py:3464: RuntimeWarning: Mean of empty slice.\n",
      "  return _methods._mean(a, axis=axis, dtype=dtype,\n",
      "c:\\Users\\timvd\\AppData\\Local\\Programs\\Python\\Python311\\Lib\\site-packages\\numpy\\core\\_methods.py:192: RuntimeWarning: invalid value encountered in scalar divide\n",
      "  ret = ret.dtype.type(ret / rcount)\n",
      "c:\\Users\\timvd\\AppData\\Local\\Programs\\Python\\Python311\\Lib\\site-packages\\numpy\\core\\fromnumeric.py:3464: RuntimeWarning: Mean of empty slice.\n",
      "  return _methods._mean(a, axis=axis, dtype=dtype,\n",
      "c:\\Users\\timvd\\AppData\\Local\\Programs\\Python\\Python311\\Lib\\site-packages\\numpy\\core\\_methods.py:192: RuntimeWarning: invalid value encountered in scalar divide\n",
      "  ret = ret.dtype.type(ret / rcount)\n"
     ]
    },
    {
     "name": "stdout",
     "output_type": "stream",
     "text": [
      "No viable g or r data in ZTF19abmtrny. Skipping this instance.\n",
      "No viable g or r data in ZTF19abnauvy. Skipping this instance.\n",
      "No viable g or r data in ZTF19aboueif. Skipping this instance.\n",
      "No viable g or r data in ZTF19abpfvth. Skipping this instance.\n"
     ]
    },
    {
     "name": "stderr",
     "output_type": "stream",
     "text": [
      "c:\\Users\\timvd\\AppData\\Local\\Programs\\Python\\Python311\\Lib\\site-packages\\numpy\\core\\fromnumeric.py:3464: RuntimeWarning: Mean of empty slice.\n",
      "  return _methods._mean(a, axis=axis, dtype=dtype,\n",
      "c:\\Users\\timvd\\AppData\\Local\\Programs\\Python\\Python311\\Lib\\site-packages\\numpy\\core\\_methods.py:192: RuntimeWarning: invalid value encountered in scalar divide\n",
      "  ret = ret.dtype.type(ret / rcount)\n",
      "c:\\Users\\timvd\\Documents\\Uni 2023-2024\\First Research Project\\Code\\FRP_TimvdVuurst\\forced_phot.py:556: RuntimeWarning: invalid value encountered in log10\n",
      "  i_guesses = [np.log10(np.max(i_flux)),np.median(f_guess_bounds)]\n",
      "c:\\Users\\timvd\\Documents\\Uni 2023-2024\\First Research Project\\Code\\FRP_TimvdVuurst\\forced_phot.py:557: RuntimeWarning: invalid value encountered in log10\n",
      "  i_bounds = ([np.log10(0.5*np.max(i_flux)),np.percentile(f_guess_bounds,5)],\n",
      "c:\\Users\\timvd\\Documents\\Uni 2023-2024\\First Research Project\\Code\\FRP_TimvdVuurst\\forced_phot.py:558: RuntimeWarning: invalid value encountered in log10\n",
      "  [np.log10(np.max(i_flux*2)),np.percentile(f_guess_bounds,95)])\n",
      "c:\\Users\\timvd\\AppData\\Local\\Programs\\Python\\Python311\\Lib\\site-packages\\numpy\\core\\fromnumeric.py:3464: RuntimeWarning: Mean of empty slice.\n",
      "  return _methods._mean(a, axis=axis, dtype=dtype,\n",
      "c:\\Users\\timvd\\AppData\\Local\\Programs\\Python\\Python311\\Lib\\site-packages\\numpy\\core\\_methods.py:192: RuntimeWarning: invalid value encountered in scalar divide\n",
      "  ret = ret.dtype.type(ret / rcount)\n",
      "c:\\Users\\timvd\\AppData\\Local\\Programs\\Python\\Python311\\Lib\\site-packages\\numpy\\core\\fromnumeric.py:3464: RuntimeWarning: Mean of empty slice.\n",
      "  return _methods._mean(a, axis=axis, dtype=dtype,\n",
      "c:\\Users\\timvd\\AppData\\Local\\Programs\\Python\\Python311\\Lib\\site-packages\\numpy\\core\\_methods.py:192: RuntimeWarning: invalid value encountered in scalar divide\n",
      "  ret = ret.dtype.type(ret / rcount)\n"
     ]
    },
    {
     "name": "stdout",
     "output_type": "stream",
     "text": [
      "No viable g or r data in ZTF19abqsmns. Skipping this instance.\n"
     ]
    },
    {
     "name": "stderr",
     "output_type": "stream",
     "text": [
      "c:\\Users\\timvd\\Documents\\Uni 2023-2024\\First Research Project\\Code\\FRP_TimvdVuurst\\forced_phot.py:556: RuntimeWarning: invalid value encountered in log10\n",
      "  i_guesses = [np.log10(np.max(i_flux)),np.median(f_guess_bounds)]\n",
      "c:\\Users\\timvd\\Documents\\Uni 2023-2024\\First Research Project\\Code\\FRP_TimvdVuurst\\forced_phot.py:557: RuntimeWarning: invalid value encountered in log10\n",
      "  i_bounds = ([np.log10(0.5*np.max(i_flux)),np.percentile(f_guess_bounds,5)],\n",
      "c:\\Users\\timvd\\Documents\\Uni 2023-2024\\First Research Project\\Code\\FRP_TimvdVuurst\\forced_phot.py:558: RuntimeWarning: invalid value encountered in log10\n",
      "  [np.log10(np.max(i_flux*2)),np.percentile(f_guess_bounds,95)])\n",
      "c:\\Users\\timvd\\AppData\\Local\\Programs\\Python\\Python311\\Lib\\site-packages\\numpy\\core\\fromnumeric.py:3464: RuntimeWarning: Mean of empty slice.\n",
      "  return _methods._mean(a, axis=axis, dtype=dtype,\n",
      "c:\\Users\\timvd\\AppData\\Local\\Programs\\Python\\Python311\\Lib\\site-packages\\numpy\\core\\_methods.py:192: RuntimeWarning: invalid value encountered in scalar divide\n",
      "  ret = ret.dtype.type(ret / rcount)\n"
     ]
    },
    {
     "name": "stdout",
     "output_type": "stream",
     "text": [
      "No viable g or r data in ZTF19abucctk. Skipping this instance.\n"
     ]
    },
    {
     "name": "stderr",
     "output_type": "stream",
     "text": [
      "c:\\Users\\timvd\\AppData\\Local\\Programs\\Python\\Python311\\Lib\\site-packages\\numpy\\core\\fromnumeric.py:3464: RuntimeWarning: Mean of empty slice.\n",
      "  return _methods._mean(a, axis=axis, dtype=dtype,\n",
      "c:\\Users\\timvd\\AppData\\Local\\Programs\\Python\\Python311\\Lib\\site-packages\\numpy\\core\\_methods.py:192: RuntimeWarning: invalid value encountered in scalar divide\n",
      "  ret = ret.dtype.type(ret / rcount)\n",
      "c:\\Users\\timvd\\AppData\\Local\\Programs\\Python\\Python311\\Lib\\site-packages\\numpy\\core\\fromnumeric.py:3464: RuntimeWarning: Mean of empty slice.\n",
      "  return _methods._mean(a, axis=axis, dtype=dtype,\n",
      "c:\\Users\\timvd\\AppData\\Local\\Programs\\Python\\Python311\\Lib\\site-packages\\numpy\\core\\_methods.py:192: RuntimeWarning: invalid value encountered in scalar divide\n",
      "  ret = ret.dtype.type(ret / rcount)\n",
      "c:\\Users\\timvd\\AppData\\Local\\Programs\\Python\\Python311\\Lib\\site-packages\\numpy\\core\\fromnumeric.py:3464: RuntimeWarning: Mean of empty slice.\n",
      "  return _methods._mean(a, axis=axis, dtype=dtype,\n",
      "c:\\Users\\timvd\\AppData\\Local\\Programs\\Python\\Python311\\Lib\\site-packages\\numpy\\core\\_methods.py:192: RuntimeWarning: invalid value encountered in scalar divide\n",
      "  ret = ret.dtype.type(ret / rcount)\n"
     ]
    },
    {
     "name": "stdout",
     "output_type": "stream",
     "text": [
      "No viable g or r data in ZTF19abxvkky. Skipping this instance.\n"
     ]
    },
    {
     "name": "stderr",
     "output_type": "stream",
     "text": [
      "c:\\Users\\timvd\\AppData\\Local\\Programs\\Python\\Python311\\Lib\\site-packages\\numpy\\core\\fromnumeric.py:3464: RuntimeWarning: Mean of empty slice.\n",
      "  return _methods._mean(a, axis=axis, dtype=dtype,\n",
      "c:\\Users\\timvd\\AppData\\Local\\Programs\\Python\\Python311\\Lib\\site-packages\\numpy\\core\\_methods.py:192: RuntimeWarning: invalid value encountered in scalar divide\n",
      "  ret = ret.dtype.type(ret / rcount)\n"
     ]
    },
    {
     "name": "stdout",
     "output_type": "stream",
     "text": [
      "No viable g or r data in ZTF19abymuda. Skipping this instance.\n"
     ]
    },
    {
     "name": "stderr",
     "output_type": "stream",
     "text": [
      "c:\\Users\\timvd\\AppData\\Local\\Programs\\Python\\Python311\\Lib\\site-packages\\numpy\\core\\fromnumeric.py:3464: RuntimeWarning: Mean of empty slice.\n",
      "  return _methods._mean(a, axis=axis, dtype=dtype,\n",
      "c:\\Users\\timvd\\AppData\\Local\\Programs\\Python\\Python311\\Lib\\site-packages\\numpy\\core\\_methods.py:192: RuntimeWarning: invalid value encountered in scalar divide\n",
      "  ret = ret.dtype.type(ret / rcount)\n",
      "c:\\Users\\timvd\\AppData\\Local\\Programs\\Python\\Python311\\Lib\\site-packages\\numpy\\core\\fromnumeric.py:3464: RuntimeWarning: Mean of empty slice.\n",
      "  return _methods._mean(a, axis=axis, dtype=dtype,\n",
      "c:\\Users\\timvd\\AppData\\Local\\Programs\\Python\\Python311\\Lib\\site-packages\\numpy\\core\\_methods.py:192: RuntimeWarning: invalid value encountered in scalar divide\n",
      "  ret = ret.dtype.type(ret / rcount)\n",
      "c:\\Users\\timvd\\AppData\\Local\\Programs\\Python\\Python311\\Lib\\site-packages\\numpy\\core\\fromnumeric.py:3464: RuntimeWarning: Mean of empty slice.\n",
      "  return _methods._mean(a, axis=axis, dtype=dtype,\n",
      "c:\\Users\\timvd\\AppData\\Local\\Programs\\Python\\Python311\\Lib\\site-packages\\numpy\\core\\_methods.py:192: RuntimeWarning: invalid value encountered in scalar divide\n",
      "  ret = ret.dtype.type(ret / rcount)\n"
     ]
    },
    {
     "name": "stdout",
     "output_type": "stream",
     "text": [
      "No viable g or r data in ZTF19abzhubs. Skipping this instance.\n",
      "No viable g or r data in ZTF19abzmpku. Skipping this instance.\n",
      "No viable g or r data in ZTF19abzrcnk. Skipping this instance.\n",
      "No viable g or r data in ZTF19acagplz. Skipping this instance.\n"
     ]
    },
    {
     "name": "stderr",
     "output_type": "stream",
     "text": [
      "c:\\Users\\timvd\\AppData\\Local\\Programs\\Python\\Python311\\Lib\\site-packages\\numpy\\core\\fromnumeric.py:3464: RuntimeWarning: Mean of empty slice.\n",
      "  return _methods._mean(a, axis=axis, dtype=dtype,\n",
      "c:\\Users\\timvd\\AppData\\Local\\Programs\\Python\\Python311\\Lib\\site-packages\\numpy\\core\\_methods.py:192: RuntimeWarning: invalid value encountered in scalar divide\n",
      "  ret = ret.dtype.type(ret / rcount)\n",
      "c:\\Users\\timvd\\AppData\\Local\\Programs\\Python\\Python311\\Lib\\site-packages\\numpy\\core\\fromnumeric.py:3464: RuntimeWarning: Mean of empty slice.\n",
      "  return _methods._mean(a, axis=axis, dtype=dtype,\n",
      "c:\\Users\\timvd\\AppData\\Local\\Programs\\Python\\Python311\\Lib\\site-packages\\numpy\\core\\_methods.py:192: RuntimeWarning: invalid value encountered in scalar divide\n",
      "  ret = ret.dtype.type(ret / rcount)\n"
     ]
    },
    {
     "name": "stdout",
     "output_type": "stream",
     "text": [
      "No viable g or r data in ZTF19accblxh. Skipping this instance.\n"
     ]
    },
    {
     "name": "stderr",
     "output_type": "stream",
     "text": [
      "c:\\Users\\timvd\\Documents\\Uni 2023-2024\\First Research Project\\Code\\FRP_TimvdVuurst\\forced_phot.py:556: RuntimeWarning: invalid value encountered in log10\n",
      "  i_guesses = [np.log10(np.max(i_flux)),np.median(f_guess_bounds)]\n",
      "c:\\Users\\timvd\\Documents\\Uni 2023-2024\\First Research Project\\Code\\FRP_TimvdVuurst\\forced_phot.py:557: RuntimeWarning: invalid value encountered in log10\n",
      "  i_bounds = ([np.log10(0.5*np.max(i_flux)),np.percentile(f_guess_bounds,5)],\n",
      "c:\\Users\\timvd\\Documents\\Uni 2023-2024\\First Research Project\\Code\\FRP_TimvdVuurst\\forced_phot.py:558: RuntimeWarning: invalid value encountered in log10\n",
      "  [np.log10(np.max(i_flux*2)),np.percentile(f_guess_bounds,95)])\n",
      "c:\\Users\\timvd\\AppData\\Local\\Programs\\Python\\Python311\\Lib\\site-packages\\numpy\\core\\fromnumeric.py:3464: RuntimeWarning: Mean of empty slice.\n",
      "  return _methods._mean(a, axis=axis, dtype=dtype,\n",
      "c:\\Users\\timvd\\AppData\\Local\\Programs\\Python\\Python311\\Lib\\site-packages\\numpy\\core\\_methods.py:192: RuntimeWarning: invalid value encountered in scalar divide\n",
      "  ret = ret.dtype.type(ret / rcount)\n"
     ]
    },
    {
     "name": "stdout",
     "output_type": "stream",
     "text": [
      "No viable g or r data in ZTF19acelpam. Skipping this instance.\n",
      "No viable g or r data in ZTF19acelpem. Skipping this instance.\n"
     ]
    },
    {
     "name": "stderr",
     "output_type": "stream",
     "text": [
      "c:\\Users\\timvd\\AppData\\Local\\Programs\\Python\\Python311\\Lib\\site-packages\\numpy\\core\\fromnumeric.py:3464: RuntimeWarning: Mean of empty slice.\n",
      "  return _methods._mean(a, axis=axis, dtype=dtype,\n",
      "c:\\Users\\timvd\\AppData\\Local\\Programs\\Python\\Python311\\Lib\\site-packages\\numpy\\core\\_methods.py:192: RuntimeWarning: invalid value encountered in scalar divide\n",
      "  ret = ret.dtype.type(ret / rcount)\n"
     ]
    },
    {
     "name": "stdout",
     "output_type": "stream",
     "text": [
      "No viable g or r data in ZTF19acldkdx. Skipping this instance.\n",
      "No viable g or r data in ZTF19acmdsvg. Skipping this instance.\n",
      "No viable g or r data in ZTF19acnskyy. Skipping this instance.\n",
      "No viable g or r data in ZTF19acobfoo. Skipping this instance.\n",
      "No viable g or r data in ZTF19acuyodh. Skipping this instance.\n"
     ]
    },
    {
     "name": "stderr",
     "output_type": "stream",
     "text": [
      "c:\\Users\\timvd\\AppData\\Local\\Programs\\Python\\Python311\\Lib\\site-packages\\numpy\\core\\fromnumeric.py:3464: RuntimeWarning: Mean of empty slice.\n",
      "  return _methods._mean(a, axis=axis, dtype=dtype,\n",
      "c:\\Users\\timvd\\AppData\\Local\\Programs\\Python\\Python311\\Lib\\site-packages\\numpy\\core\\_methods.py:192: RuntimeWarning: invalid value encountered in scalar divide\n",
      "  ret = ret.dtype.type(ret / rcount)\n"
     ]
    },
    {
     "name": "stdout",
     "output_type": "stream",
     "text": [
      "No viable g or r data in ZTF19adapwaz. Skipping this instance.\n",
      "No viable g or r data in ZTF19adcbzqs. Skipping this instance.\n",
      "No viable g or r data in ZTF19adcuglh. Skipping this instance.\n",
      "No viable g or r data in ZTF19adlxdte. Skipping this instance.\n"
     ]
    },
    {
     "name": "stderr",
     "output_type": "stream",
     "text": [
      "c:\\Users\\timvd\\AppData\\Local\\Programs\\Python\\Python311\\Lib\\site-packages\\numpy\\core\\fromnumeric.py:3464: RuntimeWarning: Mean of empty slice.\n",
      "  return _methods._mean(a, axis=axis, dtype=dtype,\n",
      "c:\\Users\\timvd\\AppData\\Local\\Programs\\Python\\Python311\\Lib\\site-packages\\numpy\\core\\_methods.py:192: RuntimeWarning: invalid value encountered in scalar divide\n",
      "  ret = ret.dtype.type(ret / rcount)\n"
     ]
    },
    {
     "name": "stdout",
     "output_type": "stream",
     "text": [
      "No viable g or r data in ZTF20aadccda. Skipping this instance.\n",
      "No viable g or r data in ZTF20aadcqdc. Skipping this instance.\n",
      "No viable g or r data in ZTF20aaeokox. Skipping this instance.\n"
     ]
    },
    {
     "name": "stderr",
     "output_type": "stream",
     "text": [
      "c:\\Users\\timvd\\AppData\\Local\\Programs\\Python\\Python311\\Lib\\site-packages\\numpy\\core\\fromnumeric.py:3464: RuntimeWarning: Mean of empty slice.\n",
      "  return _methods._mean(a, axis=axis, dtype=dtype,\n",
      "c:\\Users\\timvd\\AppData\\Local\\Programs\\Python\\Python311\\Lib\\site-packages\\numpy\\core\\_methods.py:192: RuntimeWarning: invalid value encountered in scalar divide\n",
      "  ret = ret.dtype.type(ret / rcount)\n",
      "c:\\Users\\timvd\\AppData\\Local\\Programs\\Python\\Python311\\Lib\\site-packages\\numpy\\core\\fromnumeric.py:3464: RuntimeWarning: Mean of empty slice.\n",
      "  return _methods._mean(a, axis=axis, dtype=dtype,\n",
      "c:\\Users\\timvd\\AppData\\Local\\Programs\\Python\\Python311\\Lib\\site-packages\\numpy\\core\\_methods.py:192: RuntimeWarning: invalid value encountered in scalar divide\n",
      "  ret = ret.dtype.type(ret / rcount)\n"
     ]
    },
    {
     "name": "stdout",
     "output_type": "stream",
     "text": [
      "No viable g or r data in ZTF20aahgexl. Skipping this instance.\n"
     ]
    },
    {
     "name": "stderr",
     "output_type": "stream",
     "text": [
      "c:\\Users\\timvd\\AppData\\Local\\Programs\\Python\\Python311\\Lib\\site-packages\\numpy\\core\\fromnumeric.py:3464: RuntimeWarning: Mean of empty slice.\n",
      "  return _methods._mean(a, axis=axis, dtype=dtype,\n",
      "c:\\Users\\timvd\\AppData\\Local\\Programs\\Python\\Python311\\Lib\\site-packages\\numpy\\core\\_methods.py:192: RuntimeWarning: invalid value encountered in scalar divide\n",
      "  ret = ret.dtype.type(ret / rcount)\n"
     ]
    },
    {
     "name": "stdout",
     "output_type": "stream",
     "text": [
      "No viable g or r data in ZTF20aahhzxr. Skipping this instance.\n",
      "No viable g or r data in ZTF20aahviou. Skipping this instance.\n"
     ]
    },
    {
     "name": "stderr",
     "output_type": "stream",
     "text": [
      "c:\\Users\\timvd\\Documents\\Uni 2023-2024\\First Research Project\\Code\\FRP_TimvdVuurst\\forced_phot.py:556: RuntimeWarning: invalid value encountered in log10\n",
      "  i_guesses = [np.log10(np.max(i_flux)),np.median(f_guess_bounds)]\n",
      "c:\\Users\\timvd\\Documents\\Uni 2023-2024\\First Research Project\\Code\\FRP_TimvdVuurst\\forced_phot.py:557: RuntimeWarning: invalid value encountered in log10\n",
      "  i_bounds = ([np.log10(0.5*np.max(i_flux)),np.percentile(f_guess_bounds,5)],\n",
      "c:\\Users\\timvd\\Documents\\Uni 2023-2024\\First Research Project\\Code\\FRP_TimvdVuurst\\forced_phot.py:558: RuntimeWarning: invalid value encountered in log10\n",
      "  [np.log10(np.max(i_flux*2)),np.percentile(f_guess_bounds,95)])\n"
     ]
    },
    {
     "name": "stdout",
     "output_type": "stream",
     "text": [
      "No viable g or r data in ZTF20aaloskn. Skipping this instance.\n",
      "No viable g or r data in ZTF20aanmqzy. Skipping this instance.\n",
      "No viable g or r data in ZTF20aanolcn. Skipping this instance.\n",
      "No viable g or r data in ZTF20aaocxao. Skipping this instance.\n"
     ]
    },
    {
     "name": "stderr",
     "output_type": "stream",
     "text": [
      "c:\\Users\\timvd\\Documents\\Uni 2023-2024\\First Research Project\\Code\\FRP_TimvdVuurst\\forced_phot.py:556: RuntimeWarning: invalid value encountered in log10\n",
      "  i_guesses = [np.log10(np.max(i_flux)),np.median(f_guess_bounds)]\n",
      "c:\\Users\\timvd\\Documents\\Uni 2023-2024\\First Research Project\\Code\\FRP_TimvdVuurst\\forced_phot.py:557: RuntimeWarning: invalid value encountered in log10\n",
      "  i_bounds = ([np.log10(0.5*np.max(i_flux)),np.percentile(f_guess_bounds,5)],\n",
      "c:\\Users\\timvd\\Documents\\Uni 2023-2024\\First Research Project\\Code\\FRP_TimvdVuurst\\forced_phot.py:558: RuntimeWarning: invalid value encountered in log10\n",
      "  [np.log10(np.max(i_flux*2)),np.percentile(f_guess_bounds,95)])\n"
     ]
    },
    {
     "name": "stdout",
     "output_type": "stream",
     "text": [
      "No viable g or r data in ZTF20aapyzop. Skipping this instance.\n",
      "No viable g or r data in ZTF20aarwqyh. Skipping this instance.\n",
      "No viable g or r data in ZTF20aasqbcx. Skipping this instance.\n",
      "No viable g or r data in ZTF20aatvzdh. Skipping this instance.\n",
      "No viable g or r data in ZTF20aaullwp. Skipping this instance.\n",
      "No viable g or r data in ZTF20aauonhf. Skipping this instance.\n",
      "No viable g or r data in ZTF20aauuumd. Skipping this instance.\n",
      "No viable g or r data in ZTF20aavbrxd. Skipping this instance.\n",
      "No viable g or r data in ZTF20aavfnuo. Skipping this instance.\n",
      "No viable g or r data in ZTF20aavsjuv. Skipping this instance.\n"
     ]
    },
    {
     "name": "stderr",
     "output_type": "stream",
     "text": [
      "c:\\Users\\timvd\\Documents\\Uni 2023-2024\\First Research Project\\Code\\FRP_TimvdVuurst\\forced_phot.py:547: RuntimeWarning: invalid value encountered in log10\n",
      "  i_guesses = [np.log10(np.max(i_flux)),np.median(i_flux)]\n",
      "c:\\Users\\timvd\\Documents\\Uni 2023-2024\\First Research Project\\Code\\FRP_TimvdVuurst\\forced_phot.py:548: RuntimeWarning: invalid value encountered in log10\n",
      "  i_bounds = ([np.log10(0.5*np.max(i_flux)),np.percentile(i_flux,5)],\n",
      "c:\\Users\\timvd\\Documents\\Uni 2023-2024\\First Research Project\\Code\\FRP_TimvdVuurst\\forced_phot.py:549: RuntimeWarning: invalid value encountered in log10\n",
      "  [np.log10(np.max(i_flux*2)),np.percentile(i_flux,95)])\n"
     ]
    },
    {
     "name": "stdout",
     "output_type": "stream",
     "text": [
      "No viable g or r data in ZTF20aawitjz. Skipping this instance.\n"
     ]
    },
    {
     "name": "stderr",
     "output_type": "stream",
     "text": [
      "c:\\Users\\timvd\\AppData\\Local\\Programs\\Python\\Python311\\Lib\\site-packages\\numpy\\core\\fromnumeric.py:3464: RuntimeWarning: Mean of empty slice.\n",
      "  return _methods._mean(a, axis=axis, dtype=dtype,\n",
      "c:\\Users\\timvd\\AppData\\Local\\Programs\\Python\\Python311\\Lib\\site-packages\\numpy\\core\\_methods.py:192: RuntimeWarning: invalid value encountered in scalar divide\n",
      "  ret = ret.dtype.type(ret / rcount)\n"
     ]
    },
    {
     "name": "stdout",
     "output_type": "stream",
     "text": [
      "No viable g or r data in ZTF20abbeydm. Skipping this instance.\n",
      "No viable g or r data in ZTF20abcgkff. Skipping this instance.\n",
      "No viable g or r data in ZTF20abchksq. Skipping this instance.\n"
     ]
    },
    {
     "name": "stderr",
     "output_type": "stream",
     "text": [
      "c:\\Users\\timvd\\Documents\\Uni 2023-2024\\First Research Project\\Code\\FRP_TimvdVuurst\\forced_phot.py:547: RuntimeWarning: invalid value encountered in log10\n",
      "  i_guesses = [np.log10(np.max(i_flux)),np.median(i_flux)]\n",
      "c:\\Users\\timvd\\Documents\\Uni 2023-2024\\First Research Project\\Code\\FRP_TimvdVuurst\\forced_phot.py:548: RuntimeWarning: invalid value encountered in log10\n",
      "  i_bounds = ([np.log10(0.5*np.max(i_flux)),np.percentile(i_flux,5)],\n",
      "c:\\Users\\timvd\\Documents\\Uni 2023-2024\\First Research Project\\Code\\FRP_TimvdVuurst\\forced_phot.py:549: RuntimeWarning: invalid value encountered in log10\n",
      "  [np.log10(np.max(i_flux*2)),np.percentile(i_flux,95)])\n",
      "c:\\Users\\timvd\\AppData\\Local\\Programs\\Python\\Python311\\Lib\\site-packages\\numpy\\core\\fromnumeric.py:3464: RuntimeWarning: Mean of empty slice.\n",
      "  return _methods._mean(a, axis=axis, dtype=dtype,\n",
      "c:\\Users\\timvd\\AppData\\Local\\Programs\\Python\\Python311\\Lib\\site-packages\\numpy\\core\\_methods.py:192: RuntimeWarning: invalid value encountered in scalar divide\n",
      "  ret = ret.dtype.type(ret / rcount)\n"
     ]
    },
    {
     "name": "stdout",
     "output_type": "stream",
     "text": [
      "No viable g or r data in ZTF20abjnqcj. Skipping this instance.\n",
      "No viable g or r data in ZTF20abjpxei. Skipping this instance.\n",
      "No viable g or r data in ZTF20abjwohb. Skipping this instance.\n"
     ]
    },
    {
     "name": "stderr",
     "output_type": "stream",
     "text": [
      "c:\\Users\\timvd\\Documents\\Uni 2023-2024\\First Research Project\\Code\\FRP_TimvdVuurst\\forced_phot.py:547: RuntimeWarning: invalid value encountered in log10\n",
      "  i_guesses = [np.log10(np.max(i_flux)),np.median(i_flux)]\n",
      "c:\\Users\\timvd\\Documents\\Uni 2023-2024\\First Research Project\\Code\\FRP_TimvdVuurst\\forced_phot.py:548: RuntimeWarning: invalid value encountered in log10\n",
      "  i_bounds = ([np.log10(0.5*np.max(i_flux)),np.percentile(i_flux,5)],\n",
      "c:\\Users\\timvd\\Documents\\Uni 2023-2024\\First Research Project\\Code\\FRP_TimvdVuurst\\forced_phot.py:549: RuntimeWarning: invalid value encountered in log10\n",
      "  [np.log10(np.max(i_flux*2)),np.percentile(i_flux,95)])\n"
     ]
    },
    {
     "name": "stdout",
     "output_type": "stream",
     "text": [
      "No viable g or r data in ZTF20abnvbzq. Skipping this instance.\n"
     ]
    },
    {
     "name": "stderr",
     "output_type": "stream",
     "text": [
      "c:\\Users\\timvd\\Documents\\Uni 2023-2024\\First Research Project\\Code\\FRP_TimvdVuurst\\forced_phot.py:556: RuntimeWarning: invalid value encountered in log10\n",
      "  i_guesses = [np.log10(np.max(i_flux)),np.median(f_guess_bounds)]\n",
      "c:\\Users\\timvd\\Documents\\Uni 2023-2024\\First Research Project\\Code\\FRP_TimvdVuurst\\forced_phot.py:557: RuntimeWarning: invalid value encountered in log10\n",
      "  i_bounds = ([np.log10(0.5*np.max(i_flux)),np.percentile(f_guess_bounds,5)],\n",
      "c:\\Users\\timvd\\Documents\\Uni 2023-2024\\First Research Project\\Code\\FRP_TimvdVuurst\\forced_phot.py:558: RuntimeWarning: invalid value encountered in log10\n",
      "  [np.log10(np.max(i_flux*2)),np.percentile(f_guess_bounds,95)])\n",
      "c:\\Users\\timvd\\Documents\\Uni 2023-2024\\First Research Project\\Code\\FRP_TimvdVuurst\\forced_phot.py:547: RuntimeWarning: invalid value encountered in log10\n",
      "  i_guesses = [np.log10(np.max(i_flux)),np.median(i_flux)]\n",
      "c:\\Users\\timvd\\Documents\\Uni 2023-2024\\First Research Project\\Code\\FRP_TimvdVuurst\\forced_phot.py:548: RuntimeWarning: invalid value encountered in log10\n",
      "  i_bounds = ([np.log10(0.5*np.max(i_flux)),np.percentile(i_flux,5)],\n",
      "c:\\Users\\timvd\\Documents\\Uni 2023-2024\\First Research Project\\Code\\FRP_TimvdVuurst\\forced_phot.py:549: RuntimeWarning: invalid value encountered in log10\n",
      "  [np.log10(np.max(i_flux*2)),np.percentile(i_flux,95)])\n"
     ]
    },
    {
     "name": "stdout",
     "output_type": "stream",
     "text": [
      "No viable g or r data in ZTF20abpiufl. Skipping this instance.\n",
      "No viable g or r data in ZTF20abpmqch. Skipping this instance.\n"
     ]
    },
    {
     "name": "stderr",
     "output_type": "stream",
     "text": [
      "c:\\Users\\timvd\\AppData\\Local\\Programs\\Python\\Python311\\Lib\\site-packages\\numpy\\core\\fromnumeric.py:3464: RuntimeWarning: Mean of empty slice.\n",
      "  return _methods._mean(a, axis=axis, dtype=dtype,\n",
      "c:\\Users\\timvd\\AppData\\Local\\Programs\\Python\\Python311\\Lib\\site-packages\\numpy\\core\\_methods.py:192: RuntimeWarning: invalid value encountered in scalar divide\n",
      "  ret = ret.dtype.type(ret / rcount)\n"
     ]
    },
    {
     "name": "stdout",
     "output_type": "stream",
     "text": [
      "No viable g or r data in ZTF20abrikdq. Skipping this instance.\n",
      "No viable g or r data in ZTF20abrnwfc. Skipping this instance.\n"
     ]
    },
    {
     "name": "stderr",
     "output_type": "stream",
     "text": [
      "c:\\Users\\timvd\\AppData\\Local\\Programs\\Python\\Python311\\Lib\\site-packages\\numpy\\core\\fromnumeric.py:3464: RuntimeWarning: Mean of empty slice.\n",
      "  return _methods._mean(a, axis=axis, dtype=dtype,\n",
      "c:\\Users\\timvd\\AppData\\Local\\Programs\\Python\\Python311\\Lib\\site-packages\\numpy\\core\\_methods.py:192: RuntimeWarning: invalid value encountered in scalar divide\n",
      "  ret = ret.dtype.type(ret / rcount)\n"
     ]
    },
    {
     "name": "stdout",
     "output_type": "stream",
     "text": [
      "No viable g or r data in ZTF20abypolq. Skipping this instance.\n"
     ]
    },
    {
     "name": "stderr",
     "output_type": "stream",
     "text": [
      "c:\\Users\\timvd\\Documents\\Uni 2023-2024\\First Research Project\\Code\\FRP_TimvdVuurst\\forced_phot.py:547: RuntimeWarning: invalid value encountered in log10\n",
      "  i_guesses = [np.log10(np.max(i_flux)),np.median(i_flux)]\n",
      "c:\\Users\\timvd\\Documents\\Uni 2023-2024\\First Research Project\\Code\\FRP_TimvdVuurst\\forced_phot.py:548: RuntimeWarning: invalid value encountered in log10\n",
      "  i_bounds = ([np.log10(0.5*np.max(i_flux)),np.percentile(i_flux,5)],\n",
      "c:\\Users\\timvd\\Documents\\Uni 2023-2024\\First Research Project\\Code\\FRP_TimvdVuurst\\forced_phot.py:549: RuntimeWarning: invalid value encountered in log10\n",
      "  [np.log10(np.max(i_flux*2)),np.percentile(i_flux,95)])\n"
     ]
    },
    {
     "name": "stdout",
     "output_type": "stream",
     "text": [
      "No viable g or r data in ZTF20abzzelz. Skipping this instance.\n",
      "No viable g or r data in ZTF20acdouyb. Skipping this instance.\n",
      "No viable g or r data in ZTF20acgsfpw. Skipping this instance.\n",
      "No viable g or r data in ZTF20acingrc. Skipping this instance.\n"
     ]
    },
    {
     "name": "stderr",
     "output_type": "stream",
     "text": [
      "c:\\Users\\timvd\\AppData\\Local\\Programs\\Python\\Python311\\Lib\\site-packages\\numpy\\core\\fromnumeric.py:3464: RuntimeWarning: Mean of empty slice.\n",
      "  return _methods._mean(a, axis=axis, dtype=dtype,\n",
      "c:\\Users\\timvd\\AppData\\Local\\Programs\\Python\\Python311\\Lib\\site-packages\\numpy\\core\\_methods.py:192: RuntimeWarning: invalid value encountered in scalar divide\n",
      "  ret = ret.dtype.type(ret / rcount)\n",
      "c:\\Users\\timvd\\AppData\\Local\\Programs\\Python\\Python311\\Lib\\site-packages\\numpy\\core\\fromnumeric.py:3464: RuntimeWarning: Mean of empty slice.\n",
      "  return _methods._mean(a, axis=axis, dtype=dtype,\n",
      "c:\\Users\\timvd\\AppData\\Local\\Programs\\Python\\Python311\\Lib\\site-packages\\numpy\\core\\_methods.py:192: RuntimeWarning: invalid value encountered in scalar divide\n",
      "  ret = ret.dtype.type(ret / rcount)\n",
      "c:\\Users\\timvd\\AppData\\Local\\Programs\\Python\\Python311\\Lib\\site-packages\\numpy\\core\\fromnumeric.py:3464: RuntimeWarning: Mean of empty slice.\n",
      "  return _methods._mean(a, axis=axis, dtype=dtype,\n",
      "c:\\Users\\timvd\\AppData\\Local\\Programs\\Python\\Python311\\Lib\\site-packages\\numpy\\core\\_methods.py:192: RuntimeWarning: invalid value encountered in scalar divide\n",
      "  ret = ret.dtype.type(ret / rcount)\n"
     ]
    },
    {
     "name": "stdout",
     "output_type": "stream",
     "text": [
      "No viable g or r data in ZTF20acmkdxl. Skipping this instance.\n",
      "No viable g or r data in ZTF20acnwbuo. Skipping this instance.\n",
      "No viable g or r data in ZTF20acpbnzr. Skipping this instance.\n",
      "No viable g or r data in ZTF20acpptqk. Skipping this instance.\n",
      "No viable g or r data in ZTF20acpqfso. Skipping this instance.\n",
      "No viable g or r data in ZTF20acqikeh. Skipping this instance.\n",
      "No viable g or r data in ZTF20acqnssi. Skipping this instance.\n"
     ]
    },
    {
     "name": "stderr",
     "output_type": "stream",
     "text": [
      "c:\\Users\\timvd\\AppData\\Local\\Programs\\Python\\Python311\\Lib\\site-packages\\numpy\\core\\fromnumeric.py:3464: RuntimeWarning: Mean of empty slice.\n",
      "  return _methods._mean(a, axis=axis, dtype=dtype,\n",
      "c:\\Users\\timvd\\AppData\\Local\\Programs\\Python\\Python311\\Lib\\site-packages\\numpy\\core\\_methods.py:192: RuntimeWarning: invalid value encountered in scalar divide\n",
      "  ret = ret.dtype.type(ret / rcount)\n"
     ]
    },
    {
     "name": "stdout",
     "output_type": "stream",
     "text": [
      "No viable g or r data in ZTF20acrlwat. Skipping this instance.\n"
     ]
    },
    {
     "name": "stderr",
     "output_type": "stream",
     "text": [
      "c:\\Users\\timvd\\Documents\\Uni 2023-2024\\First Research Project\\Code\\FRP_TimvdVuurst\\forced_phot.py:547: RuntimeWarning: invalid value encountered in log10\n",
      "  i_guesses = [np.log10(np.max(i_flux)),np.median(i_flux)]\n",
      "c:\\Users\\timvd\\Documents\\Uni 2023-2024\\First Research Project\\Code\\FRP_TimvdVuurst\\forced_phot.py:548: RuntimeWarning: invalid value encountered in log10\n",
      "  i_bounds = ([np.log10(0.5*np.max(i_flux)),np.percentile(i_flux,5)],\n",
      "c:\\Users\\timvd\\Documents\\Uni 2023-2024\\First Research Project\\Code\\FRP_TimvdVuurst\\forced_phot.py:549: RuntimeWarning: invalid value encountered in log10\n",
      "  [np.log10(np.max(i_flux*2)),np.percentile(i_flux,95)])\n"
     ]
    },
    {
     "name": "stdout",
     "output_type": "stream",
     "text": [
      "No viable g or r data in ZTF20acvamwo. Skipping this instance.\n",
      "No viable g or r data in ZTF20acwyicu. Skipping this instance.\n",
      "No viable g or r data in ZTF20acxsppf. Skipping this instance.\n"
     ]
    },
    {
     "name": "stderr",
     "output_type": "stream",
     "text": [
      "c:\\Users\\timvd\\Documents\\Uni 2023-2024\\First Research Project\\Code\\FRP_TimvdVuurst\\forced_phot.py:547: RuntimeWarning: invalid value encountered in log10\n",
      "  i_guesses = [np.log10(np.max(i_flux)),np.median(i_flux)]\n",
      "c:\\Users\\timvd\\Documents\\Uni 2023-2024\\First Research Project\\Code\\FRP_TimvdVuurst\\forced_phot.py:548: RuntimeWarning: invalid value encountered in log10\n",
      "  i_bounds = ([np.log10(0.5*np.max(i_flux)),np.percentile(i_flux,5)],\n",
      "c:\\Users\\timvd\\Documents\\Uni 2023-2024\\First Research Project\\Code\\FRP_TimvdVuurst\\forced_phot.py:549: RuntimeWarning: invalid value encountered in log10\n",
      "  [np.log10(np.max(i_flux*2)),np.percentile(i_flux,95)])\n",
      "c:\\Users\\timvd\\AppData\\Local\\Programs\\Python\\Python311\\Lib\\site-packages\\numpy\\core\\fromnumeric.py:3464: RuntimeWarning: Mean of empty slice.\n",
      "  return _methods._mean(a, axis=axis, dtype=dtype,\n",
      "c:\\Users\\timvd\\AppData\\Local\\Programs\\Python\\Python311\\Lib\\site-packages\\numpy\\core\\_methods.py:192: RuntimeWarning: invalid value encountered in scalar divide\n",
      "  ret = ret.dtype.type(ret / rcount)\n"
     ]
    },
    {
     "name": "stdout",
     "output_type": "stream",
     "text": [
      "No viable g or r data in ZTF20acymddn. Skipping this instance.\n",
      "No viable g or r data in ZTF20aczgify. Skipping this instance.\n",
      "No viable g or r data in ZTF21aaabzde. Skipping this instance.\n",
      "No viable g or r data in ZTF21aaaytyv. Skipping this instance.\n"
     ]
    },
    {
     "name": "stderr",
     "output_type": "stream",
     "text": [
      "c:\\Users\\timvd\\Documents\\Uni 2023-2024\\First Research Project\\Code\\FRP_TimvdVuurst\\forced_phot.py:556: RuntimeWarning: invalid value encountered in log10\n",
      "  i_guesses = [np.log10(np.max(i_flux)),np.median(f_guess_bounds)]\n",
      "c:\\Users\\timvd\\Documents\\Uni 2023-2024\\First Research Project\\Code\\FRP_TimvdVuurst\\forced_phot.py:557: RuntimeWarning: invalid value encountered in log10\n",
      "  i_bounds = ([np.log10(0.5*np.max(i_flux)),np.percentile(f_guess_bounds,5)],\n",
      "c:\\Users\\timvd\\Documents\\Uni 2023-2024\\First Research Project\\Code\\FRP_TimvdVuurst\\forced_phot.py:558: RuntimeWarning: invalid value encountered in log10\n",
      "  [np.log10(np.max(i_flux*2)),np.percentile(f_guess_bounds,95)])\n"
     ]
    },
    {
     "name": "stdout",
     "output_type": "stream",
     "text": [
      "No viable g or r data in ZTF21aachqzr. Skipping this instance.\n"
     ]
    },
    {
     "name": "stderr",
     "output_type": "stream",
     "text": [
      "c:\\Users\\timvd\\AppData\\Local\\Programs\\Python\\Python311\\Lib\\site-packages\\numpy\\core\\fromnumeric.py:3464: RuntimeWarning: Mean of empty slice.\n",
      "  return _methods._mean(a, axis=axis, dtype=dtype,\n",
      "c:\\Users\\timvd\\AppData\\Local\\Programs\\Python\\Python311\\Lib\\site-packages\\numpy\\core\\_methods.py:192: RuntimeWarning: invalid value encountered in scalar divide\n",
      "  ret = ret.dtype.type(ret / rcount)\n"
     ]
    },
    {
     "name": "stdout",
     "output_type": "stream",
     "text": [
      "No viable g or r data in ZTF21aaeoxfd. Skipping this instance.\n"
     ]
    },
    {
     "name": "stderr",
     "output_type": "stream",
     "text": [
      "c:\\Users\\timvd\\Documents\\Uni 2023-2024\\First Research Project\\Code\\FRP_TimvdVuurst\\forced_phot.py:547: RuntimeWarning: invalid value encountered in log10\n",
      "  i_guesses = [np.log10(np.max(i_flux)),np.median(i_flux)]\n",
      "c:\\Users\\timvd\\Documents\\Uni 2023-2024\\First Research Project\\Code\\FRP_TimvdVuurst\\forced_phot.py:548: RuntimeWarning: invalid value encountered in log10\n",
      "  i_bounds = ([np.log10(0.5*np.max(i_flux)),np.percentile(i_flux,5)],\n",
      "c:\\Users\\timvd\\Documents\\Uni 2023-2024\\First Research Project\\Code\\FRP_TimvdVuurst\\forced_phot.py:549: RuntimeWarning: invalid value encountered in log10\n",
      "  [np.log10(np.max(i_flux*2)),np.percentile(i_flux,95)])\n"
     ]
    },
    {
     "name": "stdout",
     "output_type": "stream",
     "text": [
      "No viable g or r data in ZTF21aaglryo. Skipping this instance.\n"
     ]
    },
    {
     "name": "stderr",
     "output_type": "stream",
     "text": [
      "c:\\Users\\timvd\\Documents\\Uni 2023-2024\\First Research Project\\Code\\FRP_TimvdVuurst\\forced_phot.py:547: RuntimeWarning: invalid value encountered in log10\n",
      "  i_guesses = [np.log10(np.max(i_flux)),np.median(i_flux)]\n",
      "c:\\Users\\timvd\\Documents\\Uni 2023-2024\\First Research Project\\Code\\FRP_TimvdVuurst\\forced_phot.py:548: RuntimeWarning: invalid value encountered in log10\n",
      "  i_bounds = ([np.log10(0.5*np.max(i_flux)),np.percentile(i_flux,5)],\n",
      "c:\\Users\\timvd\\Documents\\Uni 2023-2024\\First Research Project\\Code\\FRP_TimvdVuurst\\forced_phot.py:549: RuntimeWarning: invalid value encountered in log10\n",
      "  [np.log10(np.max(i_flux*2)),np.percentile(i_flux,95)])\n"
     ]
    },
    {
     "name": "stdout",
     "output_type": "stream",
     "text": [
      "No viable g or r data in ZTF21aahmuon. Skipping this instance.\n",
      "No viable g or r data in ZTF21aaixgrr. Skipping this instance.\n"
     ]
    },
    {
     "name": "stderr",
     "output_type": "stream",
     "text": [
      "c:\\Users\\timvd\\AppData\\Local\\Programs\\Python\\Python311\\Lib\\site-packages\\numpy\\core\\fromnumeric.py:3464: RuntimeWarning: Mean of empty slice.\n",
      "  return _methods._mean(a, axis=axis, dtype=dtype,\n",
      "c:\\Users\\timvd\\AppData\\Local\\Programs\\Python\\Python311\\Lib\\site-packages\\numpy\\core\\_methods.py:192: RuntimeWarning: invalid value encountered in scalar divide\n",
      "  ret = ret.dtype.type(ret / rcount)\n"
     ]
    },
    {
     "name": "stdout",
     "output_type": "stream",
     "text": [
      "No viable g or r data in ZTF21aajvyzp. Skipping this instance.\n",
      "No viable g or r data in ZTF21aakmfnv. Skipping this instance.\n",
      "No viable g or r data in ZTF21aalnusf. Skipping this instance.\n",
      "No viable g or r data in ZTF21aamkste. Skipping this instance.\n"
     ]
    },
    {
     "name": "stderr",
     "output_type": "stream",
     "text": [
      "c:\\Users\\timvd\\Documents\\Uni 2023-2024\\First Research Project\\Code\\FRP_TimvdVuurst\\forced_phot.py:547: RuntimeWarning: invalid value encountered in log10\n",
      "  i_guesses = [np.log10(np.max(i_flux)),np.median(i_flux)]\n",
      "c:\\Users\\timvd\\Documents\\Uni 2023-2024\\First Research Project\\Code\\FRP_TimvdVuurst\\forced_phot.py:548: RuntimeWarning: invalid value encountered in log10\n",
      "  i_bounds = ([np.log10(0.5*np.max(i_flux)),np.percentile(i_flux,5)],\n",
      "c:\\Users\\timvd\\Documents\\Uni 2023-2024\\First Research Project\\Code\\FRP_TimvdVuurst\\forced_phot.py:549: RuntimeWarning: invalid value encountered in log10\n",
      "  [np.log10(np.max(i_flux*2)),np.percentile(i_flux,95)])\n"
     ]
    },
    {
     "name": "stdout",
     "output_type": "stream",
     "text": [
      "No viable g or r data in ZTF21aangcwp. Skipping this instance.\n",
      "No viable g or r data in ZTF21aantukd. Skipping this instance.\n",
      "No viable g or r data in ZTF21aaoghxv. Skipping this instance.\n",
      "No viable g or r data in ZTF21aaongyy. Skipping this instance.\n",
      "No viable g or r data in ZTF21aaovhxe. Skipping this instance.\n",
      "No viable g or r data in ZTF21aaowefe. Skipping this instance.\n",
      "No viable g or r data in ZTF21aapkuur. Skipping this instance.\n",
      "No viable g or r data in ZTF21aaptmrn. Skipping this instance.\n",
      "No viable g or r data in ZTF21aaptoln. Skipping this instance.\n"
     ]
    },
    {
     "name": "stderr",
     "output_type": "stream",
     "text": [
      "c:\\Users\\timvd\\Documents\\Uni 2023-2024\\First Research Project\\Code\\FRP_TimvdVuurst\\forced_phot.py:547: RuntimeWarning: invalid value encountered in log10\n",
      "  i_guesses = [np.log10(np.max(i_flux)),np.median(i_flux)]\n",
      "c:\\Users\\timvd\\Documents\\Uni 2023-2024\\First Research Project\\Code\\FRP_TimvdVuurst\\forced_phot.py:548: RuntimeWarning: invalid value encountered in log10\n",
      "  i_bounds = ([np.log10(0.5*np.max(i_flux)),np.percentile(i_flux,5)],\n",
      "c:\\Users\\timvd\\Documents\\Uni 2023-2024\\First Research Project\\Code\\FRP_TimvdVuurst\\forced_phot.py:549: RuntimeWarning: invalid value encountered in log10\n",
      "  [np.log10(np.max(i_flux*2)),np.percentile(i_flux,95)])\n"
     ]
    },
    {
     "name": "stdout",
     "output_type": "stream",
     "text": [
      "No viable g or r data in ZTF21aatllhx. Skipping this instance.\n",
      "No viable g or r data in ZTF21aawiwwr. Skipping this instance.\n",
      "No viable g or r data in ZTF21abccejf. Skipping this instance.\n",
      "No viable g or r data in ZTF21abepcji. Skipping this instance.\n",
      "No viable g or r data in ZTF21abgygva. Skipping this instance.\n",
      "No viable g or r data in ZTF21abhqqwq. Skipping this instance.\n",
      "No viable g or r data in ZTF21abhrllw. Skipping this instance.\n",
      "No viable g or r data in ZTF21abhtzmc. Skipping this instance.\n",
      "No viable g or r data in ZTF21abihucc. Skipping this instance.\n"
     ]
    },
    {
     "name": "stderr",
     "output_type": "stream",
     "text": [
      "c:\\Users\\timvd\\AppData\\Local\\Programs\\Python\\Python311\\Lib\\site-packages\\numpy\\core\\fromnumeric.py:3464: RuntimeWarning: Mean of empty slice.\n",
      "  return _methods._mean(a, axis=axis, dtype=dtype,\n",
      "c:\\Users\\timvd\\AppData\\Local\\Programs\\Python\\Python311\\Lib\\site-packages\\numpy\\core\\_methods.py:192: RuntimeWarning: invalid value encountered in scalar divide\n",
      "  ret = ret.dtype.type(ret / rcount)\n",
      "c:\\Users\\timvd\\AppData\\Local\\Programs\\Python\\Python311\\Lib\\site-packages\\numpy\\core\\fromnumeric.py:3464: RuntimeWarning: Mean of empty slice.\n",
      "  return _methods._mean(a, axis=axis, dtype=dtype,\n",
      "c:\\Users\\timvd\\AppData\\Local\\Programs\\Python\\Python311\\Lib\\site-packages\\numpy\\core\\_methods.py:192: RuntimeWarning: invalid value encountered in scalar divide\n",
      "  ret = ret.dtype.type(ret / rcount)\n"
     ]
    },
    {
     "name": "stdout",
     "output_type": "stream",
     "text": [
      "No viable g or r data in ZTF21abqmndb. Skipping this instance.\n",
      "No viable g or r data in ZTF21abtcgdo. Skipping this instance.\n",
      "No viable g or r data in ZTF21abuurof. Skipping this instance.\n",
      "No viable g or r data in ZTF21abwyelp. Skipping this instance.\n",
      "No viable g or r data in ZTF21abxqkab. Skipping this instance.\n",
      "No viable g or r data in ZTF21abyguom. Skipping this instance.\n",
      "No viable g or r data in ZTF21abyvjif. Skipping this instance.\n",
      "No viable g or r data in ZTF21abzawib. Skipping this instance.\n",
      "No viable g or r data in ZTF21acbqjsz. Skipping this instance.\n",
      "No viable g or r data in ZTF21acdvwpk. Skipping this instance.\n",
      "No viable g or r data in ZTF21aceyjog. Skipping this instance.\n",
      "No viable g or r data in ZTF21aceztra. Skipping this instance.\n"
     ]
    },
    {
     "name": "stderr",
     "output_type": "stream",
     "text": [
      "c:\\Users\\timvd\\AppData\\Local\\Programs\\Python\\Python311\\Lib\\site-packages\\numpy\\core\\fromnumeric.py:3464: RuntimeWarning: Mean of empty slice.\n",
      "  return _methods._mean(a, axis=axis, dtype=dtype,\n",
      "c:\\Users\\timvd\\AppData\\Local\\Programs\\Python\\Python311\\Lib\\site-packages\\numpy\\core\\_methods.py:192: RuntimeWarning: invalid value encountered in scalar divide\n",
      "  ret = ret.dtype.type(ret / rcount)\n"
     ]
    },
    {
     "name": "stdout",
     "output_type": "stream",
     "text": [
      "No viable g or r data in ZTF21aclgzew. Skipping this instance.\n",
      "No viable g or r data in ZTF21acmcdrk. Skipping this instance.\n"
     ]
    },
    {
     "name": "stderr",
     "output_type": "stream",
     "text": [
      "c:\\Users\\timvd\\AppData\\Local\\Programs\\Python\\Python311\\Lib\\site-packages\\numpy\\core\\fromnumeric.py:3464: RuntimeWarning: Mean of empty slice.\n",
      "  return _methods._mean(a, axis=axis, dtype=dtype,\n",
      "c:\\Users\\timvd\\AppData\\Local\\Programs\\Python\\Python311\\Lib\\site-packages\\numpy\\core\\_methods.py:192: RuntimeWarning: invalid value encountered in scalar divide\n",
      "  ret = ret.dtype.type(ret / rcount)\n"
     ]
    },
    {
     "name": "stdout",
     "output_type": "stream",
     "text": [
      "No viable g or r data in ZTF22aaaekqh. Skipping this instance.\n",
      "No viable g or r data in ZTF22aaaihgr. Skipping this instance.\n"
     ]
    },
    {
     "name": "stderr",
     "output_type": "stream",
     "text": [
      "c:\\Users\\timvd\\Documents\\Uni 2023-2024\\First Research Project\\Code\\FRP_TimvdVuurst\\forced_phot.py:556: RuntimeWarning: invalid value encountered in log10\n",
      "  i_guesses = [np.log10(np.max(i_flux)),np.median(f_guess_bounds)]\n",
      "c:\\Users\\timvd\\Documents\\Uni 2023-2024\\First Research Project\\Code\\FRP_TimvdVuurst\\forced_phot.py:557: RuntimeWarning: invalid value encountered in log10\n",
      "  i_bounds = ([np.log10(0.5*np.max(i_flux)),np.percentile(f_guess_bounds,5)],\n",
      "c:\\Users\\timvd\\Documents\\Uni 2023-2024\\First Research Project\\Code\\FRP_TimvdVuurst\\forced_phot.py:558: RuntimeWarning: invalid value encountered in log10\n",
      "  [np.log10(np.max(i_flux*2)),np.percentile(f_guess_bounds,95)])\n",
      "c:\\Users\\timvd\\AppData\\Local\\Programs\\Python\\Python311\\Lib\\site-packages\\numpy\\core\\fromnumeric.py:3464: RuntimeWarning: Mean of empty slice.\n",
      "  return _methods._mean(a, axis=axis, dtype=dtype,\n",
      "c:\\Users\\timvd\\AppData\\Local\\Programs\\Python\\Python311\\Lib\\site-packages\\numpy\\core\\_methods.py:192: RuntimeWarning: invalid value encountered in scalar divide\n",
      "  ret = ret.dtype.type(ret / rcount)\n"
     ]
    },
    {
     "name": "stdout",
     "output_type": "stream",
     "text": [
      "No viable g or r data in ZTF22aabffjr. Skipping this instance.\n",
      "No viable g or r data in ZTF22aabgbug. Skipping this instance.\n",
      "No viable g or r data in ZTF22aactuab. Skipping this instance.\n",
      "No viable g or r data in ZTF22aadejlb. Skipping this instance.\n",
      "No viable g or r data in ZTF22aadelrv. Skipping this instance.\n",
      "No viable g or r data in ZTF22aaduudf. Skipping this instance.\n"
     ]
    },
    {
     "name": "stderr",
     "output_type": "stream",
     "text": [
      "c:\\Users\\timvd\\AppData\\Local\\Programs\\Python\\Python311\\Lib\\site-packages\\numpy\\core\\fromnumeric.py:3464: RuntimeWarning: Mean of empty slice.\n",
      "  return _methods._mean(a, axis=axis, dtype=dtype,\n",
      "c:\\Users\\timvd\\AppData\\Local\\Programs\\Python\\Python311\\Lib\\site-packages\\numpy\\core\\_methods.py:192: RuntimeWarning: invalid value encountered in scalar divide\n",
      "  ret = ret.dtype.type(ret / rcount)\n"
     ]
    },
    {
     "name": "stdout",
     "output_type": "stream",
     "text": [
      "No viable g or r data in ZTF22aagiopz. Skipping this instance.\n",
      "No viable g or r data in ZTF22aahhzng. Skipping this instance.\n",
      "No viable g or r data in ZTF22aahxhyi. Skipping this instance.\n",
      "No viable g or r data in ZTF22aaibbwf. Skipping this instance.\n"
     ]
    },
    {
     "name": "stderr",
     "output_type": "stream",
     "text": [
      "c:\\Users\\timvd\\AppData\\Local\\Programs\\Python\\Python311\\Lib\\site-packages\\numpy\\core\\fromnumeric.py:3464: RuntimeWarning: Mean of empty slice.\n",
      "  return _methods._mean(a, axis=axis, dtype=dtype,\n",
      "c:\\Users\\timvd\\AppData\\Local\\Programs\\Python\\Python311\\Lib\\site-packages\\numpy\\core\\_methods.py:192: RuntimeWarning: invalid value encountered in scalar divide\n",
      "  ret = ret.dtype.type(ret / rcount)\n"
     ]
    },
    {
     "name": "stdout",
     "output_type": "stream",
     "text": [
      "No viable g or r data in ZTF22aaizxqg. Skipping this instance.\n",
      "No viable g or r data in ZTF22aajmmpr. Skipping this instance.\n",
      "No viable g or r data in ZTF22aakglwt. Skipping this instance.\n"
     ]
    },
    {
     "name": "stderr",
     "output_type": "stream",
     "text": [
      "c:\\Users\\timvd\\Documents\\Uni 2023-2024\\First Research Project\\Code\\FRP_TimvdVuurst\\forced_phot.py:556: RuntimeWarning: invalid value encountered in log10\n",
      "  i_guesses = [np.log10(np.max(i_flux)),np.median(f_guess_bounds)]\n",
      "c:\\Users\\timvd\\Documents\\Uni 2023-2024\\First Research Project\\Code\\FRP_TimvdVuurst\\forced_phot.py:557: RuntimeWarning: invalid value encountered in log10\n",
      "  i_bounds = ([np.log10(0.5*np.max(i_flux)),np.percentile(f_guess_bounds,5)],\n",
      "c:\\Users\\timvd\\Documents\\Uni 2023-2024\\First Research Project\\Code\\FRP_TimvdVuurst\\forced_phot.py:558: RuntimeWarning: invalid value encountered in log10\n",
      "  [np.log10(np.max(i_flux*2)),np.percentile(f_guess_bounds,95)])\n",
      "c:\\Users\\timvd\\Documents\\Uni 2023-2024\\First Research Project\\Code\\FRP_TimvdVuurst\\forced_phot.py:547: RuntimeWarning: invalid value encountered in log10\n",
      "  i_guesses = [np.log10(np.max(i_flux)),np.median(i_flux)]\n",
      "c:\\Users\\timvd\\Documents\\Uni 2023-2024\\First Research Project\\Code\\FRP_TimvdVuurst\\forced_phot.py:548: RuntimeWarning: invalid value encountered in log10\n",
      "  i_bounds = ([np.log10(0.5*np.max(i_flux)),np.percentile(i_flux,5)],\n",
      "c:\\Users\\timvd\\Documents\\Uni 2023-2024\\First Research Project\\Code\\FRP_TimvdVuurst\\forced_phot.py:549: RuntimeWarning: invalid value encountered in log10\n",
      "  [np.log10(np.max(i_flux*2)),np.percentile(i_flux,95)])\n"
     ]
    },
    {
     "name": "stdout",
     "output_type": "stream",
     "text": [
      "No viable g or r data in ZTF22aasinsf. Skipping this instance.\n",
      "No viable g or r data in ZTF22aauhyzf. Skipping this instance.\n",
      "No viable g or r data in ZTF22aawenpo. Skipping this instance.\n"
     ]
    },
    {
     "name": "stderr",
     "output_type": "stream",
     "text": [
      "c:\\Users\\timvd\\AppData\\Local\\Programs\\Python\\Python311\\Lib\\site-packages\\numpy\\core\\fromnumeric.py:3464: RuntimeWarning: Mean of empty slice.\n",
      "  return _methods._mean(a, axis=axis, dtype=dtype,\n",
      "c:\\Users\\timvd\\AppData\\Local\\Programs\\Python\\Python311\\Lib\\site-packages\\numpy\\core\\_methods.py:192: RuntimeWarning: invalid value encountered in scalar divide\n",
      "  ret = ret.dtype.type(ret / rcount)\n",
      "c:\\Users\\timvd\\Documents\\Uni 2023-2024\\First Research Project\\Code\\FRP_TimvdVuurst\\forced_phot.py:556: RuntimeWarning: invalid value encountered in log10\n",
      "  i_guesses = [np.log10(np.max(i_flux)),np.median(f_guess_bounds)]\n",
      "c:\\Users\\timvd\\Documents\\Uni 2023-2024\\First Research Project\\Code\\FRP_TimvdVuurst\\forced_phot.py:557: RuntimeWarning: invalid value encountered in log10\n",
      "  i_bounds = ([np.log10(0.5*np.max(i_flux)),np.percentile(f_guess_bounds,5)],\n",
      "c:\\Users\\timvd\\Documents\\Uni 2023-2024\\First Research Project\\Code\\FRP_TimvdVuurst\\forced_phot.py:558: RuntimeWarning: invalid value encountered in log10\n",
      "  [np.log10(np.max(i_flux*2)),np.percentile(f_guess_bounds,95)])\n"
     ]
    },
    {
     "name": "stdout",
     "output_type": "stream",
     "text": [
      "No viable g or r data in ZTF22abalyxs. Skipping this instance.\n",
      "No viable g or r data in ZTF22abcfcve. Skipping this instance.\n",
      "No viable g or r data in ZTF22abdaokh. Skipping this instance.\n",
      "No viable g or r data in ZTF22abdatth. Skipping this instance.\n",
      "No viable g or r data in ZTF22abdvslh. Skipping this instance.\n"
     ]
    },
    {
     "name": "stderr",
     "output_type": "stream",
     "text": [
      "c:\\Users\\timvd\\AppData\\Local\\Programs\\Python\\Python311\\Lib\\site-packages\\numpy\\core\\fromnumeric.py:3464: RuntimeWarning: Mean of empty slice.\n",
      "  return _methods._mean(a, axis=axis, dtype=dtype,\n",
      "c:\\Users\\timvd\\AppData\\Local\\Programs\\Python\\Python311\\Lib\\site-packages\\numpy\\core\\_methods.py:192: RuntimeWarning: invalid value encountered in scalar divide\n",
      "  ret = ret.dtype.type(ret / rcount)\n",
      "c:\\Users\\timvd\\AppData\\Local\\Programs\\Python\\Python311\\Lib\\site-packages\\numpy\\core\\fromnumeric.py:3464: RuntimeWarning: Mean of empty slice.\n",
      "  return _methods._mean(a, axis=axis, dtype=dtype,\n",
      "c:\\Users\\timvd\\AppData\\Local\\Programs\\Python\\Python311\\Lib\\site-packages\\numpy\\core\\_methods.py:192: RuntimeWarning: invalid value encountered in scalar divide\n",
      "  ret = ret.dtype.type(ret / rcount)\n",
      "c:\\Users\\timvd\\AppData\\Local\\Programs\\Python\\Python311\\Lib\\site-packages\\numpy\\core\\fromnumeric.py:3464: RuntimeWarning: Mean of empty slice.\n",
      "  return _methods._mean(a, axis=axis, dtype=dtype,\n",
      "c:\\Users\\timvd\\AppData\\Local\\Programs\\Python\\Python311\\Lib\\site-packages\\numpy\\core\\_methods.py:192: RuntimeWarning: invalid value encountered in scalar divide\n",
      "  ret = ret.dtype.type(ret / rcount)\n",
      "c:\\Users\\timvd\\Documents\\Uni 2023-2024\\First Research Project\\Code\\FRP_TimvdVuurst\\forced_phot.py:556: RuntimeWarning: invalid value encountered in log10\n",
      "  i_guesses = [np.log10(np.max(i_flux)),np.median(f_guess_bounds)]\n",
      "c:\\Users\\timvd\\Documents\\Uni 2023-2024\\First Research Project\\Code\\FRP_TimvdVuurst\\forced_phot.py:557: RuntimeWarning: invalid value encountered in log10\n",
      "  i_bounds = ([np.log10(0.5*np.max(i_flux)),np.percentile(f_guess_bounds,5)],\n",
      "c:\\Users\\timvd\\Documents\\Uni 2023-2024\\First Research Project\\Code\\FRP_TimvdVuurst\\forced_phot.py:558: RuntimeWarning: invalid value encountered in log10\n",
      "  [np.log10(np.max(i_flux*2)),np.percentile(f_guess_bounds,95)])\n"
     ]
    },
    {
     "name": "stdout",
     "output_type": "stream",
     "text": [
      "No viable g or r data in ZTF22abgarwt. Skipping this instance.\n"
     ]
    },
    {
     "name": "stderr",
     "output_type": "stream",
     "text": [
      "c:\\Users\\timvd\\AppData\\Local\\Programs\\Python\\Python311\\Lib\\site-packages\\numpy\\core\\fromnumeric.py:3464: RuntimeWarning: Mean of empty slice.\n",
      "  return _methods._mean(a, axis=axis, dtype=dtype,\n",
      "c:\\Users\\timvd\\AppData\\Local\\Programs\\Python\\Python311\\Lib\\site-packages\\numpy\\core\\_methods.py:192: RuntimeWarning: invalid value encountered in scalar divide\n",
      "  ret = ret.dtype.type(ret / rcount)\n",
      "c:\\Users\\timvd\\AppData\\Local\\Programs\\Python\\Python311\\Lib\\site-packages\\numpy\\core\\fromnumeric.py:3464: RuntimeWarning: Mean of empty slice.\n",
      "  return _methods._mean(a, axis=axis, dtype=dtype,\n",
      "c:\\Users\\timvd\\AppData\\Local\\Programs\\Python\\Python311\\Lib\\site-packages\\numpy\\core\\_methods.py:192: RuntimeWarning: invalid value encountered in scalar divide\n",
      "  ret = ret.dtype.type(ret / rcount)\n",
      "c:\\Users\\timvd\\AppData\\Local\\Programs\\Python\\Python311\\Lib\\site-packages\\numpy\\core\\fromnumeric.py:3464: RuntimeWarning: Mean of empty slice.\n",
      "  return _methods._mean(a, axis=axis, dtype=dtype,\n",
      "c:\\Users\\timvd\\AppData\\Local\\Programs\\Python\\Python311\\Lib\\site-packages\\numpy\\core\\_methods.py:192: RuntimeWarning: invalid value encountered in scalar divide\n",
      "  ret = ret.dtype.type(ret / rcount)\n"
     ]
    },
    {
     "name": "stdout",
     "output_type": "stream",
     "text": [
      "No viable g or r data in ZTF22abgpdsu. Skipping this instance.\n",
      "No viable g or r data in ZTF22abgyvgx. Skipping this instance.\n",
      "No viable g or r data in ZTF22abiflxl. Skipping this instance.\n",
      "No viable g or r data in ZTF22abjagaj. Skipping this instance.\n"
     ]
    },
    {
     "name": "stderr",
     "output_type": "stream",
     "text": [
      "c:\\Users\\timvd\\AppData\\Local\\Programs\\Python\\Python311\\Lib\\site-packages\\numpy\\core\\fromnumeric.py:3464: RuntimeWarning: Mean of empty slice.\n",
      "  return _methods._mean(a, axis=axis, dtype=dtype,\n",
      "c:\\Users\\timvd\\AppData\\Local\\Programs\\Python\\Python311\\Lib\\site-packages\\numpy\\core\\_methods.py:192: RuntimeWarning: invalid value encountered in scalar divide\n",
      "  ret = ret.dtype.type(ret / rcount)\n",
      "c:\\Users\\timvd\\AppData\\Local\\Programs\\Python\\Python311\\Lib\\site-packages\\numpy\\core\\fromnumeric.py:3464: RuntimeWarning: Mean of empty slice.\n",
      "  return _methods._mean(a, axis=axis, dtype=dtype,\n",
      "c:\\Users\\timvd\\AppData\\Local\\Programs\\Python\\Python311\\Lib\\site-packages\\numpy\\core\\_methods.py:192: RuntimeWarning: invalid value encountered in scalar divide\n",
      "  ret = ret.dtype.type(ret / rcount)\n",
      "c:\\Users\\timvd\\AppData\\Local\\Programs\\Python\\Python311\\Lib\\site-packages\\numpy\\core\\fromnumeric.py:3464: RuntimeWarning: Mean of empty slice.\n",
      "  return _methods._mean(a, axis=axis, dtype=dtype,\n",
      "c:\\Users\\timvd\\AppData\\Local\\Programs\\Python\\Python311\\Lib\\site-packages\\numpy\\core\\_methods.py:192: RuntimeWarning: invalid value encountered in scalar divide\n",
      "  ret = ret.dtype.type(ret / rcount)\n",
      "c:\\Users\\timvd\\AppData\\Local\\Programs\\Python\\Python311\\Lib\\site-packages\\numpy\\core\\fromnumeric.py:3464: RuntimeWarning: Mean of empty slice.\n",
      "  return _methods._mean(a, axis=axis, dtype=dtype,\n",
      "c:\\Users\\timvd\\AppData\\Local\\Programs\\Python\\Python311\\Lib\\site-packages\\numpy\\core\\_methods.py:192: RuntimeWarning: invalid value encountered in scalar divide\n",
      "  ret = ret.dtype.type(ret / rcount)\n",
      "c:\\Users\\timvd\\AppData\\Local\\Programs\\Python\\Python311\\Lib\\site-packages\\numpy\\core\\fromnumeric.py:3464: RuntimeWarning: Mean of empty slice.\n",
      "  return _methods._mean(a, axis=axis, dtype=dtype,\n",
      "c:\\Users\\timvd\\AppData\\Local\\Programs\\Python\\Python311\\Lib\\site-packages\\numpy\\core\\_methods.py:192: RuntimeWarning: invalid value encountered in scalar divide\n",
      "  ret = ret.dtype.type(ret / rcount)\n",
      "c:\\Users\\timvd\\AppData\\Local\\Programs\\Python\\Python311\\Lib\\site-packages\\numpy\\core\\fromnumeric.py:3464: RuntimeWarning: Mean of empty slice.\n",
      "  return _methods._mean(a, axis=axis, dtype=dtype,\n",
      "c:\\Users\\timvd\\AppData\\Local\\Programs\\Python\\Python311\\Lib\\site-packages\\numpy\\core\\_methods.py:192: RuntimeWarning: invalid value encountered in scalar divide\n",
      "  ret = ret.dtype.type(ret / rcount)\n",
      "c:\\Users\\timvd\\AppData\\Local\\Programs\\Python\\Python311\\Lib\\site-packages\\numpy\\core\\fromnumeric.py:3464: RuntimeWarning: Mean of empty slice.\n",
      "  return _methods._mean(a, axis=axis, dtype=dtype,\n",
      "c:\\Users\\timvd\\AppData\\Local\\Programs\\Python\\Python311\\Lib\\site-packages\\numpy\\core\\_methods.py:192: RuntimeWarning: invalid value encountered in scalar divide\n",
      "  ret = ret.dtype.type(ret / rcount)\n"
     ]
    },
    {
     "name": "stdout",
     "output_type": "stream",
     "text": [
      "No viable g or r data in ZTF22abmvmyh. Skipping this instance.\n"
     ]
    },
    {
     "name": "stderr",
     "output_type": "stream",
     "text": [
      "c:\\Users\\timvd\\AppData\\Local\\Programs\\Python\\Python311\\Lib\\site-packages\\numpy\\core\\fromnumeric.py:3464: RuntimeWarning: Mean of empty slice.\n",
      "  return _methods._mean(a, axis=axis, dtype=dtype,\n",
      "c:\\Users\\timvd\\AppData\\Local\\Programs\\Python\\Python311\\Lib\\site-packages\\numpy\\core\\_methods.py:192: RuntimeWarning: invalid value encountered in scalar divide\n",
      "  ret = ret.dtype.type(ret / rcount)\n",
      "c:\\Users\\timvd\\AppData\\Local\\Programs\\Python\\Python311\\Lib\\site-packages\\numpy\\core\\fromnumeric.py:3464: RuntimeWarning: Mean of empty slice.\n",
      "  return _methods._mean(a, axis=axis, dtype=dtype,\n",
      "c:\\Users\\timvd\\AppData\\Local\\Programs\\Python\\Python311\\Lib\\site-packages\\numpy\\core\\_methods.py:192: RuntimeWarning: invalid value encountered in scalar divide\n",
      "  ret = ret.dtype.type(ret / rcount)\n",
      "c:\\Users\\timvd\\AppData\\Local\\Programs\\Python\\Python311\\Lib\\site-packages\\numpy\\core\\fromnumeric.py:3464: RuntimeWarning: Mean of empty slice.\n",
      "  return _methods._mean(a, axis=axis, dtype=dtype,\n",
      "c:\\Users\\timvd\\AppData\\Local\\Programs\\Python\\Python311\\Lib\\site-packages\\numpy\\core\\_methods.py:192: RuntimeWarning: invalid value encountered in scalar divide\n",
      "  ret = ret.dtype.type(ret / rcount)\n",
      "c:\\Users\\timvd\\AppData\\Local\\Programs\\Python\\Python311\\Lib\\site-packages\\numpy\\core\\fromnumeric.py:3464: RuntimeWarning: Mean of empty slice.\n",
      "  return _methods._mean(a, axis=axis, dtype=dtype,\n",
      "c:\\Users\\timvd\\AppData\\Local\\Programs\\Python\\Python311\\Lib\\site-packages\\numpy\\core\\_methods.py:192: RuntimeWarning: invalid value encountered in scalar divide\n",
      "  ret = ret.dtype.type(ret / rcount)\n",
      "c:\\Users\\timvd\\AppData\\Local\\Programs\\Python\\Python311\\Lib\\site-packages\\numpy\\core\\fromnumeric.py:3464: RuntimeWarning: Mean of empty slice.\n",
      "  return _methods._mean(a, axis=axis, dtype=dtype,\n",
      "c:\\Users\\timvd\\AppData\\Local\\Programs\\Python\\Python311\\Lib\\site-packages\\numpy\\core\\_methods.py:192: RuntimeWarning: invalid value encountered in scalar divide\n",
      "  ret = ret.dtype.type(ret / rcount)\n",
      "c:\\Users\\timvd\\AppData\\Local\\Programs\\Python\\Python311\\Lib\\site-packages\\numpy\\core\\fromnumeric.py:3464: RuntimeWarning: Mean of empty slice.\n",
      "  return _methods._mean(a, axis=axis, dtype=dtype,\n",
      "c:\\Users\\timvd\\AppData\\Local\\Programs\\Python\\Python311\\Lib\\site-packages\\numpy\\core\\_methods.py:192: RuntimeWarning: invalid value encountered in scalar divide\n",
      "  ret = ret.dtype.type(ret / rcount)\n",
      "c:\\Users\\timvd\\AppData\\Local\\Programs\\Python\\Python311\\Lib\\site-packages\\numpy\\core\\fromnumeric.py:3464: RuntimeWarning: Mean of empty slice.\n",
      "  return _methods._mean(a, axis=axis, dtype=dtype,\n",
      "c:\\Users\\timvd\\AppData\\Local\\Programs\\Python\\Python311\\Lib\\site-packages\\numpy\\core\\_methods.py:192: RuntimeWarning: invalid value encountered in scalar divide\n",
      "  ret = ret.dtype.type(ret / rcount)\n",
      "c:\\Users\\timvd\\Documents\\Uni 2023-2024\\First Research Project\\Code\\FRP_TimvdVuurst\\forced_phot.py:556: RuntimeWarning: invalid value encountered in log10\n",
      "  i_guesses = [np.log10(np.max(i_flux)),np.median(f_guess_bounds)]\n",
      "c:\\Users\\timvd\\Documents\\Uni 2023-2024\\First Research Project\\Code\\FRP_TimvdVuurst\\forced_phot.py:557: RuntimeWarning: invalid value encountered in log10\n",
      "  i_bounds = ([np.log10(0.5*np.max(i_flux)),np.percentile(f_guess_bounds,5)],\n",
      "c:\\Users\\timvd\\Documents\\Uni 2023-2024\\First Research Project\\Code\\FRP_TimvdVuurst\\forced_phot.py:558: RuntimeWarning: invalid value encountered in log10\n",
      "  [np.log10(np.max(i_flux*2)),np.percentile(f_guess_bounds,95)])\n",
      "c:\\Users\\timvd\\AppData\\Local\\Programs\\Python\\Python311\\Lib\\site-packages\\numpy\\core\\fromnumeric.py:3464: RuntimeWarning: Mean of empty slice.\n",
      "  return _methods._mean(a, axis=axis, dtype=dtype,\n",
      "c:\\Users\\timvd\\AppData\\Local\\Programs\\Python\\Python311\\Lib\\site-packages\\numpy\\core\\_methods.py:192: RuntimeWarning: invalid value encountered in scalar divide\n",
      "  ret = ret.dtype.type(ret / rcount)\n",
      "c:\\Users\\timvd\\AppData\\Local\\Programs\\Python\\Python311\\Lib\\site-packages\\numpy\\core\\fromnumeric.py:3464: RuntimeWarning: Mean of empty slice.\n",
      "  return _methods._mean(a, axis=axis, dtype=dtype,\n",
      "c:\\Users\\timvd\\AppData\\Local\\Programs\\Python\\Python311\\Lib\\site-packages\\numpy\\core\\_methods.py:192: RuntimeWarning: invalid value encountered in scalar divide\n",
      "  ret = ret.dtype.type(ret / rcount)\n"
     ]
    },
    {
     "name": "stdout",
     "output_type": "stream",
     "text": [
      "775\n"
     ]
    }
   ],
   "source": [
    "def process_data():\n",
    "    n_err = 0\n",
    "    with open('process_log.txt') as logfile:\n",
    "        already_done = logfile.readlines()\n",
    "\n",
    "    already_done = [a.split('\\n')[0] for a in already_done]\n",
    "\n",
    "    logfile = open('process_log.txt','a')\n",
    "    errorlog = open('error_log.txt','a+')\n",
    "    params_file = open(params_path,'a+')\n",
    "\n",
    "    for i,dir in enumerate(dirs):\n",
    "        if dir in already_done:\n",
    "            continue\n",
    "        # if i > 0:\n",
    "        #     break\n",
    "        ztf = os.path.split(dir)[-1]\n",
    "        # print(ztf)\n",
    "        try:\n",
    "            ztf_obj = fp.ZTF_forced_phot(dir,ztf_name=ztf,onefilt_crosscor=False)\n",
    "            ztf_obj.fit(plot=False)\n",
    "            ztf_obj.save_params(save=True)\n",
    "            logfile.write(dir+'\\n')\n",
    "            params = read_json(os.path.join(dir,ztf+'_parameters'))\n",
    "            write_string = ztf + ',' + create_write_string(params)\n",
    "            params_file.write(write_string)\n",
    "        except Exception as e:\n",
    "            # print('got here')\n",
    "            errorlog.write(f\"{ztf},{e}\\n\")\n",
    "            n_err += 1\n",
    "\n",
    "    logfile.close()\n",
    "    errorlog.close()\n",
    "    params_file.close()\n",
    "    print(n_err)\n",
    "\n",
    "# process_data()"
   ]
  }
 ],
 "metadata": {
  "kernelspec": {
   "display_name": "Python 3",
   "language": "python",
   "name": "python3"
  },
  "language_info": {
   "codemirror_mode": {
    "name": "ipython",
    "version": 3
   },
   "file_extension": ".py",
   "mimetype": "text/x-python",
   "name": "python",
   "nbconvert_exporter": "python",
   "pygments_lexer": "ipython3",
   "version": "3.11.8"
  }
 },
 "nbformat": 4,
 "nbformat_minor": 2
}
