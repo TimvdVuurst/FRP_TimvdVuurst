{
 "cells": [
  {
   "cell_type": "code",
   "execution_count": 23,
   "metadata": {},
   "outputs": [
    {
     "data": {
      "text/html": [
       "<div><i>Table length=14258</i>\n",
       "<table id=\"table1890142085008\" class=\"table-striped table-bordered table-condensed\">\n",
       "<thead><tr><th>ztf_id</th><th>RA</th><th>Dec</th><th>redshift</th><th>MBH</th><th>MBH_ref</th><th>classification</th></tr></thead>\n",
       "<thead><tr><th>str12</th><th>float64</th><th>float64</th><th>float64</th><th>float64</th><th>str20</th><th>str17</th></tr></thead>\n",
       "<tr><td>ZTF17aaaacjo</td><td>88.12306625</td><td>14.44325405</td><td>0.0</td><td>0.0</td><td>--</td><td>Unknown</td></tr>\n",
       "<tr><td>ZTF17aaaazwi</td><td>73.2609679</td><td>11.9668683</td><td>0.0</td><td>0.0</td><td>--</td><td>Unknown</td></tr>\n",
       "<tr><td>ZTF17aaadkwx</td><td>32.5596005</td><td>-1.8135499</td><td>0.0</td><td>0.0</td><td>--</td><td>Unknown</td></tr>\n",
       "<tr><td>ZTF17aaaduqw</td><td>7.0192117</td><td>42.5484892</td><td>0.0</td><td>0.0</td><td>--</td><td>Unknown</td></tr>\n",
       "<tr><td>ZTF17aaaecja</td><td>311.10945065</td><td>51.1478584</td><td>0.0</td><td>0.0</td><td>--</td><td>Unknown</td></tr>\n",
       "<tr><td>ZTF17aaaephv</td><td>359.15167335</td><td>70.8050378</td><td>0.0</td><td>0.0</td><td>--</td><td>Unknown</td></tr>\n",
       "<tr><td>ZTF17aaaeqnq</td><td>19.84207925</td><td>32.0440752</td><td>0.0</td><td>0.0</td><td>--</td><td>Unknown</td></tr>\n",
       "<tr><td>ZTF17aaagpwv</td><td>54.04777105</td><td>46.18035165</td><td>0.0</td><td>0.0</td><td>--</td><td>Unknown</td></tr>\n",
       "<tr><td>ZTF17aaaheis</td><td>94.8376514</td><td>31.3210664</td><td>0.0</td><td>0.0</td><td>--</td><td>Unknown</td></tr>\n",
       "<tr><td>ZTF17aaahrni</td><td>80.4232919</td><td>-4.18624095</td><td>0.0</td><td>0.0</td><td>--</td><td>Unknown</td></tr>\n",
       "<tr><td>...</td><td>...</td><td>...</td><td>...</td><td>...</td><td>...</td><td>...</td></tr>\n",
       "<tr><td>ZTF21acfopps</td><td>356.0993272</td><td>-5.3464967</td><td>0.0</td><td>0.0</td><td>--</td><td>Unknown</td></tr>\n",
       "<tr><td>ZTF20abshfel</td><td>13.8474614</td><td>-2.75951655</td><td>0.0</td><td>0.0</td><td>--</td><td>Unknown</td></tr>\n",
       "<tr><td>ZTF20acodsyb</td><td>171.0363244</td><td>6.2148341</td><td>0.0</td><td>0.0</td><td>--</td><td>Unknown</td></tr>\n",
       "<tr><td>ZTF18abmjpsk</td><td>9.083469</td><td>29.7117092</td><td>0.0</td><td>0.0</td><td>--</td><td>Unknown</td></tr>\n",
       "<tr><td>ZTF18aarrqrn</td><td>226.1193175</td><td>65.294844</td><td>0.0</td><td>0.0</td><td>--</td><td>Unknown</td></tr>\n",
       "<tr><td>ZTF18aaspnuh</td><td>248.7938848</td><td>48.772316</td><td>0.0</td><td>0.0</td><td>--</td><td>Unknown</td></tr>\n",
       "<tr><td>ZTF18aatmoqh</td><td>--</td><td>--</td><td>0.0</td><td>0.0</td><td>--</td><td>Unknown</td></tr>\n",
       "<tr><td>ZTF18absloog</td><td>10.51400025</td><td>39.29617405</td><td>0.0</td><td>0.0</td><td>--</td><td>Unknown</td></tr>\n",
       "<tr><td>ZTF18abtvbzx</td><td>251.71843125</td><td>47.58660475</td><td>0.0</td><td>0.0</td><td>--</td><td>Unknown</td></tr>\n",
       "<tr><td>ZTF18abtjnci</td><td>322.7939495</td><td>-0.5936412</td><td>0.144585</td><td>8.02233720614</td><td>L19</td><td>AGN</td></tr>\n",
       "</table></div>"
      ],
      "text/plain": [
       "<Table length=14258>\n",
       "   ztf_id         RA          Dec     ...      MBH      MBH_ref classification\n",
       "   str12       float64      float64   ...    float64     str20      str17     \n",
       "------------ ------------ ----------- ... ------------- ------- --------------\n",
       "ZTF17aaaacjo  88.12306625 14.44325405 ...           0.0      --        Unknown\n",
       "ZTF17aaaazwi   73.2609679  11.9668683 ...           0.0      --        Unknown\n",
       "ZTF17aaadkwx   32.5596005  -1.8135499 ...           0.0      --        Unknown\n",
       "ZTF17aaaduqw    7.0192117  42.5484892 ...           0.0      --        Unknown\n",
       "ZTF17aaaecja 311.10945065  51.1478584 ...           0.0      --        Unknown\n",
       "ZTF17aaaephv 359.15167335  70.8050378 ...           0.0      --        Unknown\n",
       "ZTF17aaaeqnq  19.84207925  32.0440752 ...           0.0      --        Unknown\n",
       "ZTF17aaagpwv  54.04777105 46.18035165 ...           0.0      --        Unknown\n",
       "ZTF17aaaheis   94.8376514  31.3210664 ...           0.0      --        Unknown\n",
       "ZTF17aaahrni   80.4232919 -4.18624095 ...           0.0      --        Unknown\n",
       "         ...          ...         ... ...           ...     ...            ...\n",
       "ZTF21acfopps  356.0993272  -5.3464967 ...           0.0      --        Unknown\n",
       "ZTF20abshfel   13.8474614 -2.75951655 ...           0.0      --        Unknown\n",
       "ZTF20acodsyb  171.0363244   6.2148341 ...           0.0      --        Unknown\n",
       "ZTF18abmjpsk     9.083469  29.7117092 ...           0.0      --        Unknown\n",
       "ZTF18aarrqrn  226.1193175   65.294844 ...           0.0      --        Unknown\n",
       "ZTF18aaspnuh  248.7938848   48.772316 ...           0.0      --        Unknown\n",
       "ZTF18aatmoqh           --          -- ...           0.0      --        Unknown\n",
       "ZTF18absloog  10.51400025 39.29617405 ...           0.0      --        Unknown\n",
       "ZTF18abtvbzx 251.71843125 47.58660475 ...           0.0      --        Unknown\n",
       "ZTF18abtjnci  322.7939495  -0.5936412 ... 8.02233720614     L19            AGN"
      ]
     },
     "execution_count": 23,
     "metadata": {},
     "output_type": "execute_result"
    }
   ],
   "source": [
    "from astropy.io import ascii \n",
    "import numpy as np\n",
    "import pandas as pd\n",
    "import os\n",
    "dpath = r'C:\\Users\\timvd\\Documents\\Uni 2023-2024\\First Research Project\\Data'\n",
    "\n",
    "class_file_path =os.path.join(dpath,'class_info.dat')\n",
    "class_info = ascii.read(class_file_path)\n",
    "\n",
    "param_path = os.path.join(dpath,'params_good.txt')\n",
    "param_df = pd.read_csv(param_path, sep=\",\")\n",
    "\n",
    "class_info['classification'] = class_info['classification'].filled('Unknown')\n",
    "class_info['classification'][0] = 'Unknown'\n",
    "class_info"
   ]
  },
  {
   "cell_type": "code",
   "execution_count": 5,
   "metadata": {},
   "outputs": [
    {
     "data": {
      "text/plain": [
       "((13467, 27), (9594, 4), (13467,), 9594)"
      ]
     },
     "execution_count": 5,
     "metadata": {},
     "output_type": "execute_result"
    }
   ],
   "source": [
    "class_df = pd.DataFrame(np.array(class_info))\n",
    "\n",
    "#sort the class_info by ztf_id\n",
    "perm_indx = class_info['ztf_id'].argsort()\n",
    "class_info = class_info[perm_indx]\n",
    "\n",
    "#sort the parameters by ZTF_ID as well\n",
    "param_df.sort_values(by='ZTF_ID',inplace=True,ignore_index=True)\n",
    "#filter the ~10 ZTFs that don't have MBH and class information\n",
    "ztfmask2 = np.isin(np.array(param_df['ZTF_ID']),np.array(class_info['ztf_id']))\n",
    "# param_df = param_df[ztfmask2]\n",
    "param_df.shape,class_df.shape,ztfmask2.shape,ztfmask2.sum()"
   ]
  },
  {
   "cell_type": "code",
   "execution_count": 15,
   "metadata": {},
   "outputs": [
    {
     "data": {
      "text/html": [
       "<div>\n",
       "<style scoped>\n",
       "    .dataframe tbody tr th:only-of-type {\n",
       "        vertical-align: middle;\n",
       "    }\n",
       "\n",
       "    .dataframe tbody tr th {\n",
       "        vertical-align: top;\n",
       "    }\n",
       "\n",
       "    .dataframe thead th {\n",
       "        text-align: right;\n",
       "    }\n",
       "</style>\n",
       "<table border=\"1\" class=\"dataframe\">\n",
       "  <thead>\n",
       "    <tr style=\"text-align: right;\">\n",
       "      <th></th>\n",
       "      <th>MBH</th>\n",
       "      <th>MBH_ref</th>\n",
       "      <th>classification</th>\n",
       "    </tr>\n",
       "  </thead>\n",
       "  <tbody>\n",
       "    <tr>\n",
       "      <th>0</th>\n",
       "      <td>0.000000</td>\n",
       "      <td>0</td>\n",
       "      <td>Unknown</td>\n",
       "    </tr>\n",
       "    <tr>\n",
       "      <th>1</th>\n",
       "      <td>0.000000</td>\n",
       "      <td>0</td>\n",
       "      <td>Unknown</td>\n",
       "    </tr>\n",
       "    <tr>\n",
       "      <th>2</th>\n",
       "      <td>0.000000</td>\n",
       "      <td>0</td>\n",
       "      <td>Unknown</td>\n",
       "    </tr>\n",
       "    <tr>\n",
       "      <th>3</th>\n",
       "      <td>0.000000</td>\n",
       "      <td>0</td>\n",
       "      <td>Unknown</td>\n",
       "    </tr>\n",
       "    <tr>\n",
       "      <th>4</th>\n",
       "      <td>7.181945</td>\n",
       "      <td>T13</td>\n",
       "      <td>Unknown</td>\n",
       "    </tr>\n",
       "    <tr>\n",
       "      <th>...</th>\n",
       "      <td>...</td>\n",
       "      <td>...</td>\n",
       "      <td>...</td>\n",
       "    </tr>\n",
       "    <tr>\n",
       "      <th>9589</th>\n",
       "      <td>0.000000</td>\n",
       "      <td>0</td>\n",
       "      <td>Unknown</td>\n",
       "    </tr>\n",
       "    <tr>\n",
       "      <th>9590</th>\n",
       "      <td>0.000000</td>\n",
       "      <td>0</td>\n",
       "      <td>Unknown</td>\n",
       "    </tr>\n",
       "    <tr>\n",
       "      <th>9591</th>\n",
       "      <td>0.000000</td>\n",
       "      <td>0</td>\n",
       "      <td>Unknown</td>\n",
       "    </tr>\n",
       "    <tr>\n",
       "      <th>9592</th>\n",
       "      <td>0.000000</td>\n",
       "      <td>0</td>\n",
       "      <td>Unknown</td>\n",
       "    </tr>\n",
       "    <tr>\n",
       "      <th>9593</th>\n",
       "      <td>0.000000</td>\n",
       "      <td>0</td>\n",
       "      <td>Unknown</td>\n",
       "    </tr>\n",
       "  </tbody>\n",
       "</table>\n",
       "<p>9594 rows × 3 columns</p>\n",
       "</div>"
      ],
      "text/plain": [
       "           MBH MBH_ref classification\n",
       "0     0.000000       0        Unknown\n",
       "1     0.000000       0        Unknown\n",
       "2     0.000000       0        Unknown\n",
       "3     0.000000       0        Unknown\n",
       "4     7.181945     T13        Unknown\n",
       "...        ...     ...            ...\n",
       "9589  0.000000       0        Unknown\n",
       "9590  0.000000       0        Unknown\n",
       "9591  0.000000       0        Unknown\n",
       "9592  0.000000       0        Unknown\n",
       "9593  0.000000       0        Unknown\n",
       "\n",
       "[9594 rows x 3 columns]"
      ]
     },
     "execution_count": 15,
     "metadata": {},
     "output_type": "execute_result"
    }
   ],
   "source": [
    "class_df.iloc[:,1:]"
   ]
  },
  {
   "cell_type": "code",
   "execution_count": 16,
   "metadata": {},
   "outputs": [],
   "source": [
    "param_path = os.path.join(dpath,'params_good.txt')\n",
    "param_df = pd.read_csv(param_path, sep=\",\")\n",
    "\n",
    "refmag_path = os.path.join(dpath,'refmags_good.txt')\n",
    "refmag_df = pd.read_csv(refmag_path, sep=\",\")\n"
   ]
  }
 ],
 "metadata": {
  "kernelspec": {
   "display_name": "Python 3",
   "language": "python",
   "name": "python3"
  },
  "language_info": {
   "codemirror_mode": {
    "name": "ipython",
    "version": 3
   },
   "file_extension": ".py",
   "mimetype": "text/x-python",
   "name": "python",
   "nbconvert_exporter": "python",
   "pygments_lexer": "ipython3",
   "version": "3.11.8"
  }
 },
 "nbformat": 4,
 "nbformat_minor": 2
}
