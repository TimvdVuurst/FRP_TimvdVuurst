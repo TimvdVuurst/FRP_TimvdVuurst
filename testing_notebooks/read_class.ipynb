{
 "cells": [
  {
   "cell_type": "code",
   "execution_count": 89,
   "metadata": {},
   "outputs": [
    {
     "data": {
      "text/plain": [
       "Index(['ZTF_ID', 'F_p', 'F_p_err', 't_0', 't_0_err', 'sigma_rise',\n",
       "       'sigma_rise_err', 'tau_dec', 'tau_dec_err', 'T', 'T_err', 'F_0g',\n",
       "       'F_0g_err', 'F_0r', 'F_0r_err', 'log10_F_p', 'log10_F_p_err',\n",
       "       'log10_sigma_rise', 'log10_sigma_rise_err', 'log10_tau_dec',\n",
       "       'log10_tau_dec_err', 'log10_T', 'log10_T_err', 'nu_0', 't0_cc', 'Fp_cc',\n",
       "       'chi2_dof'],\n",
       "      dtype='object')"
      ]
     },
     "execution_count": 89,
     "metadata": {},
     "output_type": "execute_result"
    }
   ],
   "source": [
    "import numpy as np\n",
    "import matplotlib.pyplot as plt\n",
    "import sjoert.stellar\n",
    "import pandas as pd\n",
    "import os\n",
    "from tqdm import tqdm\n",
    "import forced_phot as fp #import flux_jy, chi2, gaussian, chi2_peak_finder\n",
    "import json\n",
    "from numpyencoder import NumpyEncoder #by Hunter M. Allen (https://pypi.org/project/numpyencoder/)\n",
    "from astropy.io import ascii\n",
    "\n",
    "param_path = r'C:\\Users\\timvd\\Documents\\Uni 2023-2024\\First Research Project\\Data\\params_good.txt'\n",
    "param_df = pd.read_csv(param_path, sep=\",\")\n",
    "\n",
    "refmag_path = r'C:\\Users\\timvd\\Documents\\Uni 2023-2024\\First Research Project\\Data\\refmags_good.txt'\n",
    "refmag_df = pd.read_csv(refmag_path, sep=\",\")\n",
    "\n",
    "param_df.columns"
   ]
  },
  {
   "cell_type": "markdown",
   "metadata": {},
   "source": [
    "Filtering bad fits"
   ]
  },
  {
   "cell_type": "code",
   "execution_count": 90,
   "metadata": {},
   "outputs": [],
   "source": [
    "sigma_rise = param_df['sigma_rise'].to_numpy()\n",
    "tau_dec = param_df['tau_dec'].to_numpy()\n",
    "\n",
    "sigma_rise_err = param_df['sigma_rise_err'].to_numpy()\n",
    "\n",
    "#rules for filtering out bad fits\n",
    "bad_log10sigma_error_mask = param_df['log10_sigma_rise_err'] < 0.2 \n",
    "bad_log10tau_error_mask = param_df['log10_tau_dec_err'] <  0.2\n",
    "\n",
    "param_df = param_df[bad_log10sigma_error_mask * bad_log10tau_error_mask]\n",
    "refmag_df = refmag_df[bad_log10sigma_error_mask * bad_log10tau_error_mask]\n",
    "\n",
    "flux2mag = lambda F: sjoert.stellar.flux2mag(F*1e-6) #bc F in uJy\n",
    "def flux2mag_err(F,sigma_F):\n",
    "    F = F*1e-6\n",
    "    sigma_F = sigma_F * 1e-6\n",
    "    return 2.5/(np.log(10) * (F)) * sigma_F\n",
    "\n",
    "Fp,Fp_err = param_df['F_p'].to_numpy(),param_df['F_p_err'].to_numpy()\n",
    "\n",
    "SNR_mask = param_df['log10_F_p_err'] < 0.3\n",
    "Fp,Fp_err = Fp[SNR_mask],Fp_err[SNR_mask]\n",
    "\n",
    "# print(pd.DataFrame({'mag_p':flux2mag(Fp),'mag_p_err':flux2mag_err(Fp,Fp_err),'mag_ref_g':refmag_df['refmag_g'].values[SNR_mask],'mag_ref_r':refmag_df['refmag_r'].values[SNR_mask]}).to_markdown())\n",
    "magp = flux2mag(Fp)\n",
    "diff_g = magp - refmag_df['refmag_g'].values[SNR_mask]\n",
    "diff_r = magp - refmag_df['refmag_r'].values[SNR_mask]\n",
    "\n",
    "param_df = param_df[SNR_mask]\n",
    "refmag_df = refmag_df[SNR_mask]"
   ]
  },
  {
   "cell_type": "code",
   "execution_count": 91,
   "metadata": {},
   "outputs": [
    {
     "data": {
      "text/plain": [
       "(9604,)"
      ]
     },
     "execution_count": 91,
     "metadata": {},
     "output_type": "execute_result"
    }
   ],
   "source": [
    "ztfs = param_df['ZTF_ID'].to_numpy()\n",
    "ztfs.shape"
   ]
  },
  {
   "cell_type": "code",
   "execution_count": 92,
   "metadata": {},
   "outputs": [],
   "source": [
    "class_file_path = r'C:\\Users\\timvd\\Documents\\Uni 2023-2024\\First Research Project\\Data\\class_info.dat'\n",
    "\n",
    "class_info = ascii.read(class_file_path)\n",
    "# class_ztfs = np.array(class_info['ztf_id'])\n",
    "# ztf_mask_small = np.isin(ztfs,class_ztfs)\n",
    "# ztf_mask_large = np.isin(class_ztfs,ztfs)\n",
    "# ztf_mask_small.sum()"
   ]
  },
  {
   "cell_type": "code",
   "execution_count": 93,
   "metadata": {},
   "outputs": [
    {
     "data": {
      "text/html": [
       "<div><i>Table length=14258</i>\n",
       "<table id=\"table1842267906320\" class=\"table-striped table-bordered table-condensed\">\n",
       "<thead><tr><th>ztf_id</th><th>RA</th><th>Dec</th><th>redshift</th><th>MBH</th><th>MBH_ref</th><th>classification</th></tr></thead>\n",
       "<thead><tr><th>str12</th><th>float64</th><th>float64</th><th>float64</th><th>float64</th><th>str20</th><th>str17</th></tr></thead>\n",
       "<tr><td>ZTF17aaaacjo</td><td>88.12306625</td><td>14.44325405</td><td>0.0</td><td>0.0</td><td>--</td><td>long dummy string</td></tr>\n",
       "<tr><td>ZTF17aaaazwi</td><td>73.2609679</td><td>11.9668683</td><td>0.0</td><td>0.0</td><td>--</td><td>--</td></tr>\n",
       "<tr><td>ZTF17aaadkwx</td><td>32.5596005</td><td>-1.8135499</td><td>0.0</td><td>0.0</td><td>--</td><td>--</td></tr>\n",
       "<tr><td>ZTF17aaaduqw</td><td>7.0192117</td><td>42.5484892</td><td>0.0</td><td>0.0</td><td>--</td><td>--</td></tr>\n",
       "<tr><td>ZTF17aaaecja</td><td>311.10945065</td><td>51.1478584</td><td>0.0</td><td>0.0</td><td>--</td><td>--</td></tr>\n",
       "<tr><td>ZTF17aaaephv</td><td>359.15167335</td><td>70.8050378</td><td>0.0</td><td>0.0</td><td>--</td><td>--</td></tr>\n",
       "<tr><td>ZTF17aaaeqnq</td><td>19.84207925</td><td>32.0440752</td><td>0.0</td><td>0.0</td><td>--</td><td>--</td></tr>\n",
       "<tr><td>ZTF17aaagpwv</td><td>54.04777105</td><td>46.18035165</td><td>0.0</td><td>0.0</td><td>--</td><td>--</td></tr>\n",
       "<tr><td>ZTF17aaaheis</td><td>94.8376514</td><td>31.3210664</td><td>0.0</td><td>0.0</td><td>--</td><td>--</td></tr>\n",
       "<tr><td>ZTF17aaahrni</td><td>80.4232919</td><td>-4.18624095</td><td>0.0</td><td>0.0</td><td>--</td><td>--</td></tr>\n",
       "<tr><td>...</td><td>...</td><td>...</td><td>...</td><td>...</td><td>...</td><td>...</td></tr>\n",
       "<tr><td>ZTF21acfopps</td><td>356.0993272</td><td>-5.3464967</td><td>0.0</td><td>0.0</td><td>--</td><td>--</td></tr>\n",
       "<tr><td>ZTF20abshfel</td><td>13.8474614</td><td>-2.75951655</td><td>0.0</td><td>0.0</td><td>--</td><td>--</td></tr>\n",
       "<tr><td>ZTF20acodsyb</td><td>171.0363244</td><td>6.2148341</td><td>0.0</td><td>0.0</td><td>--</td><td>--</td></tr>\n",
       "<tr><td>ZTF18abmjpsk</td><td>9.083469</td><td>29.7117092</td><td>0.0</td><td>0.0</td><td>--</td><td>--</td></tr>\n",
       "<tr><td>ZTF18aarrqrn</td><td>226.1193175</td><td>65.294844</td><td>0.0</td><td>0.0</td><td>--</td><td>--</td></tr>\n",
       "<tr><td>ZTF18aaspnuh</td><td>248.7938848</td><td>48.772316</td><td>0.0</td><td>0.0</td><td>--</td><td>--</td></tr>\n",
       "<tr><td>ZTF18aatmoqh</td><td>--</td><td>--</td><td>0.0</td><td>0.0</td><td>--</td><td>--</td></tr>\n",
       "<tr><td>ZTF18absloog</td><td>10.51400025</td><td>39.29617405</td><td>0.0</td><td>0.0</td><td>--</td><td>--</td></tr>\n",
       "<tr><td>ZTF18abtvbzx</td><td>251.71843125</td><td>47.58660475</td><td>0.0</td><td>0.0</td><td>--</td><td>--</td></tr>\n",
       "<tr><td>ZTF18abtjnci</td><td>322.7939495</td><td>-0.5936412</td><td>0.144585</td><td>8.02233720614</td><td>L19</td><td>AGN</td></tr>\n",
       "</table></div>"
      ],
      "text/plain": [
       "<Table length=14258>\n",
       "   ztf_id         RA          Dec     ... MBH_ref   classification \n",
       "   str12       float64      float64   ...  str20        str17      \n",
       "------------ ------------ ----------- ... ------- -----------------\n",
       "ZTF17aaaacjo  88.12306625 14.44325405 ...      -- long dummy string\n",
       "ZTF17aaaazwi   73.2609679  11.9668683 ...      --                --\n",
       "ZTF17aaadkwx   32.5596005  -1.8135499 ...      --                --\n",
       "ZTF17aaaduqw    7.0192117  42.5484892 ...      --                --\n",
       "ZTF17aaaecja 311.10945065  51.1478584 ...      --                --\n",
       "ZTF17aaaephv 359.15167335  70.8050378 ...      --                --\n",
       "ZTF17aaaeqnq  19.84207925  32.0440752 ...      --                --\n",
       "ZTF17aaagpwv  54.04777105 46.18035165 ...      --                --\n",
       "ZTF17aaaheis   94.8376514  31.3210664 ...      --                --\n",
       "ZTF17aaahrni   80.4232919 -4.18624095 ...      --                --\n",
       "         ...          ...         ... ...     ...               ...\n",
       "ZTF21acfopps  356.0993272  -5.3464967 ...      --                --\n",
       "ZTF20abshfel   13.8474614 -2.75951655 ...      --                --\n",
       "ZTF20acodsyb  171.0363244   6.2148341 ...      --                --\n",
       "ZTF18abmjpsk     9.083469  29.7117092 ...      --                --\n",
       "ZTF18aarrqrn  226.1193175   65.294844 ...      --                --\n",
       "ZTF18aaspnuh  248.7938848   48.772316 ...      --                --\n",
       "ZTF18aatmoqh           --          -- ...      --                --\n",
       "ZTF18absloog  10.51400025 39.29617405 ...      --                --\n",
       "ZTF18abtvbzx 251.71843125 47.58660475 ...      --                --\n",
       "ZTF18abtjnci  322.7939495  -0.5936412 ...     L19               AGN"
      ]
     },
     "execution_count": 93,
     "metadata": {},
     "output_type": "execute_result"
    }
   ],
   "source": [
    "class_info"
   ]
  },
  {
   "cell_type": "code",
   "execution_count": 94,
   "metadata": {},
   "outputs": [],
   "source": [
    "mask = class_info['classification'].data.mask\n",
    "classifications,class_indx = class_info['classification'][np.invert(mask)][1:], np.where(np.invert(mask)[1:]) #drop the first since it's just a dummy string\n",
    "classifications = np.array(classifications)\n",
    "\n",
    "#new array where instances of \n",
    "classifications_binary = classifications.copy()\n",
    "classifications_binary[classifications == 'AGN'] = 1\n",
    "classifications_binary[classifications != 'AGN'] = 0\n",
    "classifications_binary = classifications_binary.astype(np.int32)\n",
    "\n",
    "\n"
   ]
  },
  {
   "cell_type": "code",
   "execution_count": 95,
   "metadata": {},
   "outputs": [
    {
     "name": "stdout",
     "output_type": "stream",
     "text": [
      "(<Column name='classification' dtype='str17' length=4>\n",
      "    AGN\n",
      "     SN\n",
      "    TDE\n",
      "Unknown, array([ 1944,   173,    58, 12082], dtype=int64))\n"
     ]
    }
   ],
   "source": [
    "filled_classifications = class_info['classification'].copy()[1:].filled('Unknown')\n",
    "print(np.unique(filled_classifications,return_counts=True))"
   ]
  },
  {
   "cell_type": "code",
   "execution_count": 96,
   "metadata": {},
   "outputs": [
    {
     "data": {
      "text/html": [
       "<div><i>Table length=14258</i>\n",
       "<table id=\"table1842272374736\" class=\"table-striped table-bordered table-condensed\">\n",
       "<thead><tr><th>ztf_id</th><th>RA</th><th>Dec</th><th>redshift</th><th>MBH</th><th>MBH_ref</th><th>classification</th></tr></thead>\n",
       "<thead><tr><th>str12</th><th>float64</th><th>float64</th><th>float64</th><th>float64</th><th>str20</th><th>str17</th></tr></thead>\n",
       "<tr><td>ZTF17aaaacjo</td><td>88.12306625</td><td>14.44325405</td><td>0.0</td><td>0.0</td><td>--</td><td>Unknown</td></tr>\n",
       "<tr><td>ZTF17aaaazwi</td><td>73.2609679</td><td>11.9668683</td><td>0.0</td><td>0.0</td><td>--</td><td>Unknown</td></tr>\n",
       "<tr><td>ZTF17aaadkwx</td><td>32.5596005</td><td>-1.8135499</td><td>0.0</td><td>0.0</td><td>--</td><td>Unknown</td></tr>\n",
       "<tr><td>ZTF17aaaduqw</td><td>7.0192117</td><td>42.5484892</td><td>0.0</td><td>0.0</td><td>--</td><td>Unknown</td></tr>\n",
       "<tr><td>ZTF17aaaecja</td><td>311.10945065</td><td>51.1478584</td><td>0.0</td><td>0.0</td><td>--</td><td>Unknown</td></tr>\n",
       "<tr><td>ZTF17aaaephv</td><td>359.15167335</td><td>70.8050378</td><td>0.0</td><td>0.0</td><td>--</td><td>Unknown</td></tr>\n",
       "<tr><td>ZTF17aaaeqnq</td><td>19.84207925</td><td>32.0440752</td><td>0.0</td><td>0.0</td><td>--</td><td>Unknown</td></tr>\n",
       "<tr><td>ZTF17aaagpwv</td><td>54.04777105</td><td>46.18035165</td><td>0.0</td><td>0.0</td><td>--</td><td>Unknown</td></tr>\n",
       "<tr><td>ZTF17aaaheis</td><td>94.8376514</td><td>31.3210664</td><td>0.0</td><td>0.0</td><td>--</td><td>Unknown</td></tr>\n",
       "<tr><td>ZTF17aaahrni</td><td>80.4232919</td><td>-4.18624095</td><td>0.0</td><td>0.0</td><td>--</td><td>Unknown</td></tr>\n",
       "<tr><td>...</td><td>...</td><td>...</td><td>...</td><td>...</td><td>...</td><td>...</td></tr>\n",
       "<tr><td>ZTF21acfopps</td><td>356.0993272</td><td>-5.3464967</td><td>0.0</td><td>0.0</td><td>--</td><td>Unknown</td></tr>\n",
       "<tr><td>ZTF20abshfel</td><td>13.8474614</td><td>-2.75951655</td><td>0.0</td><td>0.0</td><td>--</td><td>Unknown</td></tr>\n",
       "<tr><td>ZTF20acodsyb</td><td>171.0363244</td><td>6.2148341</td><td>0.0</td><td>0.0</td><td>--</td><td>Unknown</td></tr>\n",
       "<tr><td>ZTF18abmjpsk</td><td>9.083469</td><td>29.7117092</td><td>0.0</td><td>0.0</td><td>--</td><td>Unknown</td></tr>\n",
       "<tr><td>ZTF18aarrqrn</td><td>226.1193175</td><td>65.294844</td><td>0.0</td><td>0.0</td><td>--</td><td>Unknown</td></tr>\n",
       "<tr><td>ZTF18aaspnuh</td><td>248.7938848</td><td>48.772316</td><td>0.0</td><td>0.0</td><td>--</td><td>Unknown</td></tr>\n",
       "<tr><td>ZTF18aatmoqh</td><td>--</td><td>--</td><td>0.0</td><td>0.0</td><td>--</td><td>Unknown</td></tr>\n",
       "<tr><td>ZTF18absloog</td><td>10.51400025</td><td>39.29617405</td><td>0.0</td><td>0.0</td><td>--</td><td>Unknown</td></tr>\n",
       "<tr><td>ZTF18abtvbzx</td><td>251.71843125</td><td>47.58660475</td><td>0.0</td><td>0.0</td><td>--</td><td>Unknown</td></tr>\n",
       "<tr><td>ZTF18abtjnci</td><td>322.7939495</td><td>-0.5936412</td><td>0.144585</td><td>8.02233720614</td><td>L19</td><td>AGN</td></tr>\n",
       "</table></div>"
      ],
      "text/plain": [
       "<Table length=14258>\n",
       "   ztf_id         RA          Dec     ...      MBH      MBH_ref classification\n",
       "   str12       float64      float64   ...    float64     str20      str17     \n",
       "------------ ------------ ----------- ... ------------- ------- --------------\n",
       "ZTF17aaaacjo  88.12306625 14.44325405 ...           0.0      --        Unknown\n",
       "ZTF17aaaazwi   73.2609679  11.9668683 ...           0.0      --        Unknown\n",
       "ZTF17aaadkwx   32.5596005  -1.8135499 ...           0.0      --        Unknown\n",
       "ZTF17aaaduqw    7.0192117  42.5484892 ...           0.0      --        Unknown\n",
       "ZTF17aaaecja 311.10945065  51.1478584 ...           0.0      --        Unknown\n",
       "ZTF17aaaephv 359.15167335  70.8050378 ...           0.0      --        Unknown\n",
       "ZTF17aaaeqnq  19.84207925  32.0440752 ...           0.0      --        Unknown\n",
       "ZTF17aaagpwv  54.04777105 46.18035165 ...           0.0      --        Unknown\n",
       "ZTF17aaaheis   94.8376514  31.3210664 ...           0.0      --        Unknown\n",
       "ZTF17aaahrni   80.4232919 -4.18624095 ...           0.0      --        Unknown\n",
       "         ...          ...         ... ...           ...     ...            ...\n",
       "ZTF21acfopps  356.0993272  -5.3464967 ...           0.0      --        Unknown\n",
       "ZTF20abshfel   13.8474614 -2.75951655 ...           0.0      --        Unknown\n",
       "ZTF20acodsyb  171.0363244   6.2148341 ...           0.0      --        Unknown\n",
       "ZTF18abmjpsk     9.083469  29.7117092 ...           0.0      --        Unknown\n",
       "ZTF18aarrqrn  226.1193175   65.294844 ...           0.0      --        Unknown\n",
       "ZTF18aaspnuh  248.7938848   48.772316 ...           0.0      --        Unknown\n",
       "ZTF18aatmoqh           --          -- ...           0.0      --        Unknown\n",
       "ZTF18absloog  10.51400025 39.29617405 ...           0.0      --        Unknown\n",
       "ZTF18abtvbzx 251.71843125 47.58660475 ...           0.0      --        Unknown\n",
       "ZTF18abtjnci  322.7939495  -0.5936412 ... 8.02233720614     L19            AGN"
      ]
     },
     "execution_count": 96,
     "metadata": {},
     "output_type": "execute_result"
    }
   ],
   "source": [
    "class_info_filled = class_info.copy()\n",
    "class_info_filled['classification'] = class_info_filled['classification'].filled('Unknown')\n",
    "class_info_filled['classification'][0] = 'Unknown'\n",
    "class_info_filled"
   ]
  },
  {
   "cell_type": "code",
   "execution_count": 102,
   "metadata": {},
   "outputs": [
    {
     "name": "stdout",
     "output_type": "stream",
     "text": [
      "(9727, 27)\n",
      "[False False False ...  True  True False]\n"
     ]
    }
   ],
   "source": [
    "relevant_class_info = class_info_filled[['ztf_id','MBH','MBH_ref','classification']]\n",
    "\n",
    "param_path = r'C:\\Users\\timvd\\Documents\\Uni 2023-2024\\First Research Project\\Data\\params_good.txt'\n",
    "param_df = pd.read_csv(param_path, sep=\",\")\n",
    "refmag_path = r'C:\\Users\\timvd\\Documents\\Uni 2023-2024\\First Research Project\\Data\\refmags_good.txt'\n",
    "refmag_df = pd.read_csv(refmag_path, sep=\",\")\n",
    "\n",
    "\n",
    "sigma_rise = param_df['sigma_rise'].to_numpy()\n",
    "tau_dec = param_df['tau_dec'].to_numpy()\n",
    "\n",
    "sigma_rise_err = param_df['sigma_rise_err'].to_numpy()\n",
    "\n",
    "#rules for filtering out bad fits\n",
    "bad_log10sigma_error_mask = param_df['log10_sigma_rise_err'] < 0.2 \n",
    "bad_log10tau_error_mask = param_df['log10_tau_dec_err'] <  0.2\n",
    "\n",
    "param_df = param_df[bad_log10sigma_error_mask * bad_log10tau_error_mask]\n",
    "refmag_df = refmag_df[bad_log10sigma_error_mask * bad_log10tau_error_mask]\n",
    "print(param_df.shape)\n",
    "Fp,Fp_err = param_df['F_p'].to_numpy(),param_df['F_p_err'].to_numpy()\n",
    "SNR_mask = param_df['log10_F_p_err'] < 0.2\n",
    "Fp,Fp_err = Fp[SNR_mask],Fp_err[SNR_mask]\n",
    "\n",
    "# print(pd.DataFrame({'mag_p':flux2mag(Fp),'mag_p_err':flux2mag_err(Fp,Fp_err),'mag_ref_g':refmag_df['refmag_g'].values[SNR_mask],'mag_ref_r':refmag_df['refmag_r'].values[SNR_mask]}).to_markdown())\n",
    "magp = flux2mag(Fp)\n",
    "diff_g = magp - refmag_df['refmag_g'].values[SNR_mask]\n",
    "diff_r = magp - refmag_df['refmag_r'].values[SNR_mask]\n",
    "\n",
    "param_df = param_df[SNR_mask]\n",
    "\n",
    "ztfmask = np.isin(np.array(relevant_class_info['ztf_id']),np.array(param_df['ZTF_ID']))\n",
    "print(sum(ztfmask))\n",
    "\n",
    "ascii.write(relevant_class_info[ztfmask],os.path.join(os.getcwd()[:62],'Data','relevant_class_info.dat'),overwrite=True)\n"
   ]
  }
 ],
 "metadata": {
  "kernelspec": {
   "display_name": "Python 3",
   "language": "python",
   "name": "python3"
  },
  "language_info": {
   "codemirror_mode": {
    "name": "ipython",
    "version": 3
   },
   "file_extension": ".py",
   "mimetype": "text/x-python",
   "name": "python",
   "nbconvert_exporter": "python",
   "pygments_lexer": "ipython3",
   "version": "3.11.8"
  }
 },
 "nbformat": 4,
 "nbformat_minor": 2
}
