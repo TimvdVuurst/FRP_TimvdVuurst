{
 "cells": [
  {
   "cell_type": "code",
   "execution_count": 2,
   "metadata": {},
   "outputs": [],
   "source": [
    "import numpy as np\n",
    "import matplotlib.pyplot as plt\n",
    "import sjoert.stellar\n",
    "import pandas as pd\n",
    "import os\n",
    "from tqdm import tqdm\n",
    "import forced_phot as fp #import flux_jy, chi2, gaussian, chi2_peak_finder\n",
    "from scipy.constants import h,c,k\n",
    "import json\n",
    "from numpyencoder import NumpyEncoder #by Hunter M. Allen (https://pypi.org/project/numpyencoder/)\n",
    "\n",
    "param_path = r'C:\\Users\\timvd\\Documents\\Uni 2023-2024\\First Research Project\\params.txt'\n"
   ]
  },
  {
   "cell_type": "markdown",
   "metadata": {},
   "source": [
    "We want: \\\n",
    "nearestrefmag\\\n",
    "nearestrefmagunc"
   ]
  },
  {
   "cell_type": "code",
   "execution_count": 3,
   "metadata": {},
   "outputs": [],
   "source": [
    "param_df = pd.read_csv(param_path, sep=\",\")\n",
    "columns_old = list(param_df.keys())\n",
    "columns_new = [c.strip() for c in columns_old]\n",
    "columns_new[0] = 'ZTF_ID'\n",
    "column_dict = dict(zip(columns_old,columns_new))\n",
    "param_df.rename(columns=column_dict,inplace=True)\n",
    "\n",
    "ztf_ids = param_df['ZTF_ID'].to_numpy()\n"
   ]
  },
  {
   "cell_type": "code",
   "execution_count": 43,
   "metadata": {},
   "outputs": [
    {
     "name": "stderr",
     "output_type": "stream",
     "text": [
      "0it [00:00, ?it/s]"
     ]
    },
    {
     "name": "stderr",
     "output_type": "stream",
     "text": [
      "13562it [10:45, 21.02it/s]\n"
     ]
    }
   ],
   "source": [
    "datapath = r'C:\\Users\\timvd\\Documents\\Uni 2023-2024\\First Research Project\\Data'\n",
    "columns = ['sindex', 'field', 'ccdid', 'qid', 'filter', 'pid', 'infobitssci', 'sciinpseeing', 'scibckgnd', 'scisigpix', 'zpmaginpsci', 'zpmaginpsciunc', 'zpmaginpscirms', 'clrcoeff', 'clrcoeffunc', 'ncalmatches', 'exptime', 'adpctdif1', 'adpctdif2', 'diffmaglim', 'zpdiff', 'programid', 'jd', 'rfid', 'forcediffimflux', 'forcediffimfluxunc', 'forcediffimsnr', 'forcediffimchisq', 'forcediffimfluxap', 'forcediffimfluxuncap', 'forcediffimsnrap', 'aperturecorr', 'dnearestrefsrc', 'nearestrefmag', 'nearestrefmagunc', 'nearestrefchi', 'nearestrefsharp', 'refjdstart', 'refjdend', 'procstatus']\n",
    "dtypes = [(columns[x],float) for x in range(len(columns))]\n",
    "dtypes[4] = ('filter',r'U8')\n",
    "refmag_g_column,refmag_g_unc_column = [],[]\n",
    "refmag_r_column,refmag_r_unc_column = [],[]\n",
    "\n",
    "def get_refmags():\n",
    "    for i,ztf in tqdm(enumerate(ztf_ids)):\n",
    "        # if i == 5:\n",
    "            # break\n",
    "        year = ztf[3:5]\n",
    "        ztfpath = os.path.join(datapath,year,ztf)\n",
    "        batchrq = os.listdir(ztfpath)[0]\n",
    "\n",
    "        unclean_data = pd.DataFrame(np.genfromtxt(os.path.join(ztfpath,batchrq),skip_header=53,dtype=dtypes))\n",
    "        unclean_data = unclean_data[unclean_data['forcediffimfluxunc'] > 0] #these need to be removed or plotting doesn't work, usually not a lot of datapoints.\n",
    "\n",
    "        filters = unclean_data['filter'].to_numpy()\n",
    "        #for now we skip IR data so we only check ztf_g and ztf_r\n",
    "\n",
    "        greenmask = filters == ['ZTF_g']\n",
    "        redmask = filters == ['ZTF_r']\n",
    "\n",
    "        #first for green\n",
    "        if np.sum(greenmask) != 0: #if there is any g_data at all, otherwise set the refmag to 0 so we know it's missing here\n",
    "            filterdata = unclean_data[greenmask]\n",
    "            fields_g, ffreq_g = np.unique(filterdata['field'],return_counts=True)\n",
    "            primary_field_g = fields_g[np.argmax(ffreq_g)]\n",
    "            prim_field_mask_g = filterdata['field'] == primary_field_g\n",
    "            # prim_field_mask = np.ones(prim_field_mask.shape).astype(bool)\n",
    "            refmag = filterdata['nearestrefmag'][prim_field_mask_g].to_numpy()\n",
    "            refmagunc = filterdata['nearestrefmagunc'][prim_field_mask_g].to_numpy()\n",
    "                              \n",
    "            nanmask = ~np.isnan(refmag)\n",
    "            if np.sum(nanmask) == 0:\n",
    "                refmag_green,refmag_unc_green = 0,0\n",
    "            else:\n",
    "                refmag_green = np.nanmean(refmag)\n",
    "                refmag_unc_green = np.nanmean(refmagunc)\n",
    "\n",
    "        else:\n",
    "            refmag_green = 0\n",
    "            refmag_unc_green = 0\n",
    "\n",
    "        if np.sum(redmask) != 0: #same for red\n",
    "            filterdata = unclean_data[redmask]\n",
    "            fields_r, ffreq_r = np.unique(filterdata['field'],return_counts=True)\n",
    "            primary_field_r = fields_r[np.argmax(ffreq_r)]\n",
    "            prim_field_mask_r = filterdata['field'] == primary_field_r\n",
    "            # prim_field_mask = np.ones(prim_field_mask.shape).astype(bool)\n",
    "            refmag = filterdata['nearestrefmag'][prim_field_mask_r].to_numpy()\n",
    "            refmagunc = filterdata['nearestrefmagunc'][prim_field_mask_r].to_numpy()\n",
    "            \n",
    "            nanmask = ~np.isnan(refmag)\n",
    "            if np.sum(nanmask) == 0:\n",
    "                refmag_red,refmag_unc_red = 0,0\n",
    "            else:\n",
    "                refmag_red = np.nanmean(refmag)\n",
    "                refmag_unc_red = np.nanmean(refmagunc)\n",
    "\n",
    "        else:\n",
    "            refmag_red = 0\n",
    "            refmag_unc_red = 0\n",
    "\n",
    "\n",
    "        refmag_g_column.append(refmag_green)\n",
    "        refmag_g_unc_column.append(refmag_unc_green)\n",
    "        refmag_r_column.append(refmag_red)\n",
    "        refmag_r_unc_column.append(refmag_unc_red)\n",
    "\n",
    "# get_refmags()"
   ]
  },
  {
   "cell_type": "code",
   "execution_count": 58,
   "metadata": {},
   "outputs": [
    {
     "data": {
      "text/plain": [
       "((13562,), 13467)"
      ]
     },
     "execution_count": 58,
     "metadata": {},
     "output_type": "execute_result"
    }
   ],
   "source": [
    "param_df['ZTF_ID'].shape,len(np.unique(param_df['ZTF_ID']))"
   ]
  },
  {
   "cell_type": "code",
   "execution_count": 48,
   "metadata": {},
   "outputs": [
    {
     "name": "stdout",
     "output_type": "stream",
     "text": [
      "green: ['ZTF18aashiai' 'ZTF18aazembj' 'ZTF18abvyvlr' 'ZTF18abxfiec'\n",
      " 'ZTF18acsjdxo' 'ZTF19aacrmxw' 'ZTF19aamjsyl' 'ZTF19aaniqrr'\n",
      " 'ZTF19aatuepb' 'ZTF19aavoivd' 'ZTF19abiawvk' 'ZTF19abiptrq'\n",
      " 'ZTF19abpaskr' 'ZTF19abybstc' 'ZTF19acxoyqf' 'ZTF19adbsqgc'\n",
      " 'ZTF20aaawmia' 'ZTF20aahzyep' 'ZTF20aaoqttr' 'ZTF20abgmacg'\n",
      " 'ZTF20abswlts' 'ZTF20abtfosn' 'ZTF20abzfcez' 'ZTF20achvmpk'\n",
      " 'ZTF20acoiehw' 'ZTF21aabgjcz' 'ZTF21aavumzc' 'ZTF21abbgkgc'\n",
      " 'ZTF21abcsxah' 'ZTF21abrfxum' 'ZTF21acfjpbo' 'ZTF22aaetkzi'\n",
      " 'ZTF22aaetsqd' 'ZTF22aallqgf' 'ZTF22aaomvhd' 'ZTF22abmzdej'], red: ['ZTF17aaburzk' 'ZTF17aaburzk' 'ZTF17aaburzk' 'ZTF18acbxphq'\n",
      " 'ZTF18achbdoq' 'ZTF18acrvlud' 'ZTF19aaozuhj' 'ZTF20acwnmhc'\n",
      " 'ZTF21aaqzsih' 'ZTF23aadrtji']\n",
      "green: 36, red: 10\n",
      "0\n"
     ]
    }
   ],
   "source": [
    "refmag_g_column,refmag_g_unc_column = np.array(refmag_g_column),np.array(refmag_g_unc_column)\n",
    "refmag_r_column,refmag_r_unc_column = np.array(refmag_r_column),np.array(refmag_r_unc_column)\n",
    "\n",
    "# refflux_g = sjoert.stellar.mag2flux(refmag_g_column)\n",
    "nandices_g = np.where(refmag_g_column == 0)[0]\n",
    "nandices_r = np.where(refmag_r_column == 0)[0]\n",
    "nan_greens = ztf_ids[nandices_g]\n",
    "nan_reds = ztf_ids[nandices_r]\n",
    "\n",
    "print(f'green: {nan_greens}, red: {nan_reds}')\n",
    "print(f'green: {nan_greens.shape[0]}, red: {nan_reds.shape[0]}')\n",
    "print(np.sum(np.isin(nan_greens,nan_reds)))\n",
    "\n",
    "# for ztf in nan_greens:\n",
    "#     print(ztf)\n",
    "#     year = ztf[3:5]\n",
    "#     ztfpath = os.path.join(datapath,year,ztf)\n",
    "#     batchrq = os.listdir(ztfpath)[0]\n",
    "\n",
    "#     unclean_data = pd.DataFrame(np.genfromtxt(os.path.join(ztfpath,batchrq),skip_header=53,dtype=dtypes))\n",
    "#     unclean_data = unclean_data[unclean_data['forcediffimfluxunc'] > 0] #these need to be removed or plotting doesn't work, usually not a lot of datapoints.\n",
    "\n",
    "#     fields, ffreq = np.unique(unclean_data['field'],return_counts=True)\n",
    "#     primary_field = fields[np.argmax(ffreq)]\n",
    "#     prim_field_mask = unclean_data['field'] == primary_field\n",
    "#     prim_field_mask = np.ones(prim_field_mask.shape).astype(bool)\n",
    "#     refmag = unclean_data['nearestrefmag'][prim_field_mask].to_numpy()\n",
    "#     refmagunc = unclean_data['nearestrefmagunc'][prim_field_mask].to_numpy()\n",
    "#     filters = unclean_data['filter'][prim_field_mask].to_numpy()\n",
    "#     #for now we skip IR data so we only check ztf_g and ztf_r\n",
    "\n",
    "#     greenmask = filters == ['ZTF_g']\n",
    "#     redmask = filters == ['ZTF_r']\n",
    "#     print(primary_field)\n",
    "#     print(unclean_data[~np.isnan(refmag)].to_markdown())\n",
    "    "
   ]
  },
  {
   "cell_type": "code",
   "execution_count": 61,
   "metadata": {},
   "outputs": [],
   "source": [
    "refmags_df = pd.DataFrame({'ZTF_ID':ztf_ids,\"refmag_g\":refmag_g_column,\"refmag_unc_g\":refmag_g_unc_column,\"refmag_r\":refmag_r_column,\"refmag_unc_r\":refmag_r_unc_column})\n",
    "refmags_df.to_csv(os.path.join(datapath,'refmags.txt'),index=False,sep='\\t')"
   ]
  }
 ],
 "metadata": {
  "kernelspec": {
   "display_name": "Python 3",
   "language": "python",
   "name": "python3"
  },
  "language_info": {
   "codemirror_mode": {
    "name": "ipython",
    "version": 3
   },
   "file_extension": ".py",
   "mimetype": "text/x-python",
   "name": "python",
   "nbconvert_exporter": "python",
   "pygments_lexer": "ipython3",
   "version": "3.11.8"
  }
 },
 "nbformat": 4,
 "nbformat_minor": 2
}
