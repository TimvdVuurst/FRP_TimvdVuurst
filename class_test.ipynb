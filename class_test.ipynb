{
 "cells": [
  {
   "cell_type": "code",
   "execution_count": 1,
   "metadata": {},
   "outputs": [],
   "source": [
    "import numpy as np\n",
    "import matplotlib.pyplot as plt\n",
    "import sjoert.stellar\n",
    "import pandas as pd\n",
    "import os\n",
    "from tqdm import tqdm\n",
    "from astropy import coordinates as coord\n",
    "from scipy.optimize import curve_fit\n",
    "import forced_phot as fp #import flux_jy, chi2, gaussian, chi2_peak_finder\n",
    "from scipy.constants import h,c,k\n",
    "import json\n",
    "\n",
    "sjoertpath = r'C:\\Users\\timvd\\Documents\\Uni 2023-2024\\First Research Project\\Data\\Sjoert_Flares'"
   ]
  },
  {
   "cell_type": "markdown",
   "metadata": {},
   "source": [
    "The below shouldn't be in the class but should be the loop in which the class is called."
   ]
  },
  {
   "cell_type": "code",
   "execution_count": 33,
   "metadata": {},
   "outputs": [
    {
     "data": {
      "text/plain": [
       "False"
      ]
     },
     "execution_count": 33,
     "metadata": {},
     "output_type": "execute_result"
    }
   ],
   "source": [
    "test_ztf = 'ZTF18abjjkeo'\n",
    "cwd = os.getcwd()\n",
    "dir = cwd\n",
    "while not dir.endswith('First Research Project\\\\Data'):\n",
    "    cwd = os.path.split(cwd)[0]\n",
    "    dir = cwd + \"\\\\Data\"\n",
    "banlist = set(['DOWNLOADED','EMPTY','dump'])\n",
    "iterlist = sorted(set(os.listdir(dir)) - banlist)\n",
    "\n",
    "for folder in iterlist:\n",
    "    folder_dir = os.path.join(dir,folder)\n",
    "    for ztf_name in os.listdir(folder_dir):\n",
    "        # call the class\n",
    "        pass\n",
    "\n"
   ]
  },
  {
   "cell_type": "code",
   "execution_count": 3,
   "metadata": {},
   "outputs": [],
   "source": [
    "class ZTF_forced_phot:\n",
    "    def __init__(self,ztf_name): #ztf_name may be simply the name or the path leading to where the relevant data is stored if available.\n",
    "        if \"\\\\\" in ztf_name: #ergo a directory was given instead of a name\n",
    "            ztf_dir = ztf_name #make self(?)\n",
    "            ztf_name = os.path.split(ztf_dir)[-1]\n",
    "            pass # don't do the part of finding where the data is stored\n",
    "        else:\n",
    "            cwd = os.getcwd()\n",
    "            dir = cwd\n",
    "            while not dir.endswith('First Research Project\\\\Data'):\n",
    "                cwd = os.path.split(cwd)[0]\n",
    "                dir = cwd + \"\\\\Data\"\n",
    "            banlist = set(['DOWNLOADED','EMPTY','dump'])\n",
    "            iterlist = sorted(set(os.listdir(dir)) - banlist)\n",
    "\n",
    "            for folder in iterlist:\n",
    "                folder_dir = os.path.join(dir,folder)\n",
    "                if ztf_name in os.listdir(folder_dir):\n",
    "                    ztf_dir = os.path.join(folder_dir,ztf_name) #make self (?)\n",
    "                    break\n",
    "        \n",
    "        clean_data = pd.read_json(os.path.join(ztf_dir,ztf_name,\"_clean_data.json\")) #make self\n",
    "        clean_data.sort_values('time',inplace=True) #sort the data by time for plotting reasons later on\n",
    "        no_i_mask = clean_data['filter'] != 'ZTF_i' #create the ZTf_i mask\n",
    "        flux,err = fp.flux_jy(clean_data) #convert the flux and its errors to uJY\n",
    "        clean_data['flux'] = flux.values\n",
    "        clean_data['flux_unc'] = err.values\n",
    "\n",
    "        time_zeropoint = np.min(clean_data['time'][no_i_mask]) #find the zeropoint for time to be used here\n",
    "        time_mjd = clean_data['time'] - time_zeropoint\n",
    "        clean_data['time'] = time_mjd.values #transform time column\n",
    "\n",
    "        with open(os.path.join(ztf_dir,ztf_name,\"_clean_log.json\")) as f:\n",
    "            logfile = json.read(f)\n",
    "\n",
    "        columns = ['sindex', 'field', 'ccdid', 'qid', 'filter', 'pid', 'infobitssci', 'sciinpseeing', 'scibckgnd', 'scisigpix', 'zpmaginpsci', 'zpmaginpsciunc', 'zpmaginpscirms', 'clrcoeff', 'clrcoeffunc', 'ncalmatches', 'exptime', 'adpctdif1', 'adpctdif2', 'diffmaglim', 'zpdiff', 'programid', 'jd', 'rfid', 'forcediffimflux', 'forcediffimfluxunc', 'forcediffimsnr', 'forcediffimchisq', 'forcediffimfluxap', 'forcediffimfluxuncap', 'forcediffimsnrap', 'aperturecorr', 'dnearestrefsrc', 'nearestrefmag', 'nearestrefmagunc', 'nearestrefchi', 'nearestrefsharp', 'refjdstart', 'refjdend', 'procstatus']\n",
    "        dtypes = [(columns[x],float) for x in range(len(columns))]\n",
    "        dtypes[4] = ('filter',r'U8')\n",
    "        for file in os.listdir(ztf_dir):\n",
    "            if 'batchfp' in file:\n",
    "                batchrq_string = file\n",
    "        raw_data = pd.DataFrame(np.genfromtxt(os.path.join(ztf_dir,batchrq_string),skip_header=53,dtype=dtypes))\n",
    "  \n",
    "        err = np.clip(err,0.01*flux,np.inf) # clip the errors to be at least 1% of the flux\n",
    "\n",
    "\n",
    "        self.ztf_name = ztf_name\n",
    "        self.no_i_mask = no_i_mask\n",
    "        self.time_zeropoint = time_zeropoint\n",
    "        self.clean_data = clean_data\n",
    "        self.logfile = logfile\n",
    "        self.raw_data = raw_data\n",
    "\n",
    "\n"
   ]
  }
 ],
 "metadata": {
  "kernelspec": {
   "display_name": "Python 3",
   "language": "python",
   "name": "python3"
  },
  "language_info": {
   "codemirror_mode": {
    "name": "ipython",
    "version": 3
   },
   "file_extension": ".py",
   "mimetype": "text/x-python",
   "name": "python",
   "nbconvert_exporter": "python",
   "pygments_lexer": "ipython3",
   "version": "3.9.2"
  }
 },
 "nbformat": 4,
 "nbformat_minor": 2
}
