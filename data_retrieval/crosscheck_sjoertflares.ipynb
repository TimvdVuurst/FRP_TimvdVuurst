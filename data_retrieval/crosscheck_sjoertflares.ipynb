{
 "cells": [
  {
   "cell_type": "code",
   "execution_count": 9,
   "metadata": {},
   "outputs": [],
   "source": [
    "import numpy as np\n",
    "import os\n",
    "import pandas as pd\n",
    "datapath = r'C:\\Users\\timvd\\Documents\\Uni 2023-2024\\First Research Project\\Data'"
   ]
  },
  {
   "cell_type": "code",
   "execution_count": 26,
   "metadata": {},
   "outputs": [
    {
     "name": "stdout",
     "output_type": "stream",
     "text": [
      "Year 17 has 61 sources.\n",
      "Year 18 has 4017 sources.\n",
      "Year 19 has 3718 sources.\n",
      "Year 20 has 2913 sources.\n",
      "Year 21 has 1947 sources.\n",
      "Year 22 has 1489 sources.\n",
      "Year 23 has 86 sources.\n",
      "ZTF18aanlzzf is not in the Simeon data.\n",
      "ZTF18aavummp is not in the Simeon data.\n",
      "ZTF18abshxig is not in the Simeon data.\n",
      "ZTF18abtizze is not in the Simeon data.\n",
      "ZTF18abvmqur is not in the Simeon data.\n",
      "ZTF18acefilj is not in the Simeon data.\n",
      "ZTF18acryhcb is not in the Simeon data.\n",
      "ZTF18acsvwfr is not in the Simeon data.\n",
      "ZTF19aaleqcx is not in the Simeon data.\n",
      "ZTF19aazdsch is not in the Simeon data.\n",
      "ZTF19adcddzk is not in the Simeon data.\n",
      "11\n"
     ]
    }
   ],
   "source": [
    "sjoertflares = os.listdir(os.path.join(datapath,'Sjoert_Flares'))[2:]\n",
    "\n",
    "ztfs = []\n",
    "for dir in os.listdir(datapath):\n",
    "    try: int(dir)\n",
    "    except ValueError:\n",
    "        continue\n",
    "    print(f\"Year {dir} has {len(os.listdir(os.path.join(datapath,dir)))} sources.\")\n",
    "    if int(dir) > 20:\n",
    "        continue\n",
    "    for l in os.listdir(os.path.join(datapath,dir)):\n",
    "        ztfs.append(l)\n",
    "\n",
    "for sjf in sjoertflares:    \n",
    "    if sjf in ztfs:\n",
    "        # print(f\"{sjf} is in the Simeon data.\")\n",
    "        continue\n",
    "    else:\n",
    "        print(f\"{sjf} is not in the Simeon data.\")\n",
    "\n",
    "print(np.sum(np.invert(np.isin(sjoertflares,ztfs))))"
   ]
  }
 ],
 "metadata": {
  "kernelspec": {
   "display_name": "Python 3",
   "language": "python",
   "name": "python3"
  },
  "language_info": {
   "codemirror_mode": {
    "name": "ipython",
    "version": 3
   },
   "file_extension": ".py",
   "mimetype": "text/x-python",
   "name": "python",
   "nbconvert_exporter": "python",
   "pygments_lexer": "ipython3",
   "version": "3.9.2"
  }
 },
 "nbformat": 4,
 "nbformat_minor": 2
}
