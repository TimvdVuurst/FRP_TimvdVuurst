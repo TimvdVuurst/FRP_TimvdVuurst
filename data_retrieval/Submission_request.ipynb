{
 "cells": [
  {
   "cell_type": "code",
   "execution_count": 105,
   "metadata": {},
   "outputs": [],
   "source": [
    "import numpy as np\n",
    "import os\n",
    "import pandas as pd "
   ]
  },
  {
   "cell_type": "code",
   "execution_count": 106,
   "metadata": {},
   "outputs": [
    {
     "name": "stdout",
     "output_type": "stream",
     "text": [
      "There are 13 instances without given coordinates. These are: ['ZTF22aaiwxwu', 'ZTF22aafxvkr', 'ZTF19adiilel', 'ZTF20adcfsjp', 'ZTF18adnpbdh', 'ZTF22abeeocq', 'ZTF18adokcmq', 'ZTF18adkfyoh', 'ZTF22abskbee', 'ZTF19adfotgk', 'ZTF22abzlkpg', 'ZTF19adgeyju', 'ZTF18aatmoqh']\n"
     ]
    },
    {
     "data": {
      "text/html": [
       "<div>\n",
       "<style scoped>\n",
       "    .dataframe tbody tr th:only-of-type {\n",
       "        vertical-align: middle;\n",
       "    }\n",
       "\n",
       "    .dataframe tbody tr th {\n",
       "        vertical-align: top;\n",
       "    }\n",
       "\n",
       "    .dataframe thead th {\n",
       "        text-align: right;\n",
       "    }\n",
       "</style>\n",
       "<table border=\"1\" class=\"dataframe\">\n",
       "  <thead>\n",
       "    <tr style=\"text-align: right;\">\n",
       "      <th></th>\n",
       "      <th>ztf_id</th>\n",
       "      <th>RA</th>\n",
       "      <th>Dec</th>\n",
       "    </tr>\n",
       "  </thead>\n",
       "  <tbody>\n",
       "    <tr>\n",
       "      <th>0</th>\n",
       "      <td>ZTF17aaaacjo</td>\n",
       "      <td>88.123066</td>\n",
       "      <td>14.443254</td>\n",
       "    </tr>\n",
       "    <tr>\n",
       "      <th>1</th>\n",
       "      <td>ZTF17aaaazwi</td>\n",
       "      <td>73.260968</td>\n",
       "      <td>11.966868</td>\n",
       "    </tr>\n",
       "    <tr>\n",
       "      <th>2</th>\n",
       "      <td>ZTF17aaadkwx</td>\n",
       "      <td>32.559601</td>\n",
       "      <td>-1.813550</td>\n",
       "    </tr>\n",
       "    <tr>\n",
       "      <th>3</th>\n",
       "      <td>ZTF17aaaduqw</td>\n",
       "      <td>7.019212</td>\n",
       "      <td>42.548489</td>\n",
       "    </tr>\n",
       "    <tr>\n",
       "      <th>4</th>\n",
       "      <td>ZTF17aaaecja</td>\n",
       "      <td>311.109451</td>\n",
       "      <td>51.147858</td>\n",
       "    </tr>\n",
       "    <tr>\n",
       "      <th>...</th>\n",
       "      <td>...</td>\n",
       "      <td>...</td>\n",
       "      <td>...</td>\n",
       "    </tr>\n",
       "    <tr>\n",
       "      <th>14252</th>\n",
       "      <td>ZTF18aarrqrn</td>\n",
       "      <td>226.119317</td>\n",
       "      <td>65.294844</td>\n",
       "    </tr>\n",
       "    <tr>\n",
       "      <th>14253</th>\n",
       "      <td>ZTF18aaspnuh</td>\n",
       "      <td>248.793885</td>\n",
       "      <td>48.772316</td>\n",
       "    </tr>\n",
       "    <tr>\n",
       "      <th>14255</th>\n",
       "      <td>ZTF18absloog</td>\n",
       "      <td>10.514000</td>\n",
       "      <td>39.296174</td>\n",
       "    </tr>\n",
       "    <tr>\n",
       "      <th>14256</th>\n",
       "      <td>ZTF18abtvbzx</td>\n",
       "      <td>251.718431</td>\n",
       "      <td>47.586605</td>\n",
       "    </tr>\n",
       "    <tr>\n",
       "      <th>14257</th>\n",
       "      <td>ZTF18abtjnci</td>\n",
       "      <td>322.793949</td>\n",
       "      <td>-0.593641</td>\n",
       "    </tr>\n",
       "  </tbody>\n",
       "</table>\n",
       "<p>14245 rows × 3 columns</p>\n",
       "</div>"
      ],
      "text/plain": [
       "             ztf_id          RA        Dec\n",
       "0      ZTF17aaaacjo   88.123066  14.443254\n",
       "1      ZTF17aaaazwi   73.260968  11.966868\n",
       "2      ZTF17aaadkwx   32.559601  -1.813550\n",
       "3      ZTF17aaaduqw    7.019212  42.548489\n",
       "4      ZTF17aaaecja  311.109451  51.147858\n",
       "...             ...         ...        ...\n",
       "14252  ZTF18aarrqrn  226.119317  65.294844\n",
       "14253  ZTF18aaspnuh  248.793885  48.772316\n",
       "14255  ZTF18absloog   10.514000  39.296174\n",
       "14256  ZTF18abtvbzx  251.718431  47.586605\n",
       "14257  ZTF18abtjnci  322.793949  -0.593641\n",
       "\n",
       "[14245 rows x 3 columns]"
      ]
     },
     "execution_count": 106,
     "metadata": {},
     "output_type": "execute_result"
    }
   ],
   "source": [
    "PATH = os.getcwd()\n",
    "data = pd.read_csv(os.path.join(PATH,\"all_nuclear_transients.csv\"))\n",
    "test = data['ztf_id'] [0][3:]\n",
    "reduced_names = [x[3:] for x in data['ztf_id']]\n",
    "# \"19abclykm\" in reduced_names\n",
    "\n",
    "clean = data.dropna()\n",
    "na_ids = data['ztf_id'].loc[data['RA'].isna()]\n",
    "print(f\"There are {data.shape[0] - clean.shape[0]} instances without given coordinates. These are: {list(na_ids)}\") \n",
    "clean"
   ]
  },
  {
   "cell_type": "code",
   "execution_count": 107,
   "metadata": {},
   "outputs": [],
   "source": [
    "# np.random.seed(42)\n",
    "# random_indices = np.random.randint(0,len(reduced_names)+1,100)\n",
    "\n",
    "# coords = data.iloc[random_indices].drop(\"ztf_id\",axis=1)\n",
    "# np.savetxt(os.path.join(PATH,'List_of_RA_Dec.txt'), coords.values,fmt='%f',delimiter=' ')#,fmt='%15.f')#, fmt='%d')\n",
    "# coords\n",
    "\n",
    "# df = pd.DataFrame({\"Index\":random_indices,\"ztf_id\":data['ztf_id'][random_indices]})\n",
    "\n",
    "# np.savetxt(os.path.join(PATH,'100random_IDs.txt'),df,fmt='%s',header='index,ztf_id')"
   ]
  },
  {
   "cell_type": "code",
   "execution_count": 108,
   "metadata": {},
   "outputs": [],
   "source": [
    "# lcspath = os.path.join(PATH,'Sjoert_Flares')\n",
    "# files = [f for f in os.listdir(lcspath)]\n",
    "# print(files)"
   ]
  },
  {
   "cell_type": "markdown",
   "metadata": {},
   "source": [
    "**Getting the 63 flares from Sjoert's paper**"
   ]
  },
  {
   "cell_type": "code",
   "execution_count": 109,
   "metadata": {},
   "outputs": [],
   "source": [
    "# sjoertflares = pd.read_csv(os.path.join(lcspath,\"ZTF_neoWISE_flares_acflares.dat\"),delimiter=' ')\n",
    "# df = sjoertflares[['ra','dec']]\n",
    "# # np.savetxt(os.path.join(PATH,'Sjoert_Flares','List_of_RA_Dec.txt'), df.values,fmt='%f',delimiter=' ')#,fmt='%15.f')#, fmt='%d')\n",
    "# print(sjoertflares.to_markdown())"
   ]
  },
  {
   "cell_type": "markdown",
   "metadata": {},
   "source": [
    "### Making other txt files without the 100 random flares"
   ]
  },
  {
   "cell_type": "code",
   "execution_count": 141,
   "metadata": {},
   "outputs": [],
   "source": [
    "to_drop = list(pd.read_csv('100random_IDs.txt',skiprows=1,names=['index','id'],delimiter=' ')['index'])\n",
    "clean_2 = clean.drop(to_drop).reset_index(drop=True)\n",
    "clean_2 = clean_2.drop('ztf_id',axis=1)\n",
    "idxs = [1500*i for i in range(11)]\n",
    "idxs[-1] = clean_2.shape[0]-1\n",
    "\n",
    "for i in range(0,len(idxs)-1):\n",
    "    part = clean_2.iloc[idxs[i]:idxs[i+1]]\n",
    "    np.savetxt(os.path.join(PATH,f'BATCH_{i+1}','List_of_RA_Dec.txt'), part.values,fmt='%f',delimiter=' ')\n"
   ]
  }
 ],
 "metadata": {
  "kernelspec": {
   "display_name": "Python 3",
   "language": "python",
   "name": "python3"
  },
  "language_info": {
   "codemirror_mode": {
    "name": "ipython",
    "version": 3
   },
   "file_extension": ".py",
   "mimetype": "text/x-python",
   "name": "python",
   "nbconvert_exporter": "python",
   "pygments_lexer": "ipython3",
   "version": "3.9.2"
  }
 },
 "nbformat": 4,
 "nbformat_minor": 2
}
