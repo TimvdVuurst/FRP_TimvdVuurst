{
 "cells": [
  {
   "cell_type": "code",
   "execution_count": 1,
   "metadata": {},
   "outputs": [],
   "source": [
    "import os\n",
    "import numpy as np\n",
    "import pandas as pd\n",
    "\n",
    "sjoertpath = r'C:\\Users\\timvd\\Documents\\Uni 2023-2024\\First Research Project\\Data\\Sjoert_Flares'\n",
    "datapath = r'C:\\Users\\timvd\\Documents\\Uni 2023-2024\\First Research Project\\Data'"
   ]
  },
  {
   "cell_type": "code",
   "execution_count": 86,
   "metadata": {},
   "outputs": [],
   "source": [
    "lists_to_parse = [dir for dir in os.listdir(datapath) if len(dir) <3]\n",
    "sjoertflares = os.listdir(sjoertpath)[1:]\n",
    "biglist = [os.listdir(os.path.join(datapath,dir)) for dir in lists_to_parse]\n",
    "biglist = [\n",
    "    x\n",
    "    for xs in biglist\n",
    "    for x in xs\n",
    "]"
   ]
  },
  {
   "cell_type": "code",
   "execution_count": 87,
   "metadata": {},
   "outputs": [],
   "source": [
    "import shutil\n",
    "tocopy = np.array(sjoertflares)[np.invert(np.isin(sjoertflares,biglist))]\n",
    "tocopy_paths = [os.path.join(sjoertpath,t) for t in tocopy]\n",
    "years = [ID[3:5] for ID in tocopy]\n",
    "dirs_to_make = [os.path.join(datapath,years[i],tocopy[i]) for i in range(len(tocopy))]\n",
    "\n",
    "for i in range(len(tocopy)):\n",
    "    brq = os.listdir(tocopy_paths[i])[0]\n",
    "    temppath = r'C:\\Users\\timvd\\Documents\\Uni 2023-2024\\First Research Project\\Data\\temp'\n",
    "    # copystring = f'copy {} {}'\n",
    "    # shutil.copy(os.path.join(tocopy_paths[i],brq),os.path.join(datapath,years[i],tocopy[i],brq))\n",
    "    if len(os.listdir(os.path.join(datapath,years[i],tocopy[i]))) == 0:\n",
    "        shutil.copy(os.path.join(tocopy_paths[i],brq),os.path.join(datapath,years[i],tocopy[i],brq))\n",
    "    else:\n",
    "        print(os.listdir(os.path.join(datapath,years[i],tocopy[i])))\n"
   ]
  },
  {
   "cell_type": "code",
   "execution_count": 88,
   "metadata": {},
   "outputs": [
    {
     "name": "stdout",
     "output_type": "stream",
     "text": [
      "[]\n"
     ]
    }
   ],
   "source": [
    "print(tocopy)"
   ]
  }
 ],
 "metadata": {
  "kernelspec": {
   "display_name": "Python 3",
   "language": "python",
   "name": "python3"
  },
  "language_info": {
   "codemirror_mode": {
    "name": "ipython",
    "version": 3
   },
   "file_extension": ".py",
   "mimetype": "text/x-python",
   "name": "python",
   "nbconvert_exporter": "python",
   "pygments_lexer": "ipython3",
   "version": "3.9.2"
  }
 },
 "nbformat": 4,
 "nbformat_minor": 2
}
