{
 "cells": [
  {
   "cell_type": "code",
   "execution_count": 1,
   "metadata": {},
   "outputs": [],
   "source": [
    "import numpy as np\n",
    "import os\n",
    "import pandas as pd\n",
    "import astropy.coordinates as coord\n",
    "from tqdm import tqdm"
   ]
  },
  {
   "cell_type": "code",
   "execution_count": 2,
   "metadata": {},
   "outputs": [
    {
     "name": "stdout",
     "output_type": "stream",
     "text": [
      "c:\\Users\\timvd\\Documents\\Uni 2023-2024\\First Research Project\\Data\\Sjoert_Flares\n"
     ]
    }
   ],
   "source": [
    "PATH = os.path.normpath(os.getcwd() + os.sep + os.pardir)\n",
    "DATAPATHmaster = os.path.join(PATH,'Data')\n",
    "CODEPATH = os.path.join(PATH,'Code')\n",
    "DATAPATH = os.path.join(DATAPATHmaster,'Sjoert_Flares')\n",
    "print(DATAPATH)\n",
    "columns = ['sindex', 'field', 'ccdid', 'qid', 'filter', 'pid', 'infobitssci', 'sciinpseeing', 'scibckgnd', 'scisigpix', 'zpmaginpsci', 'zpmaginpsciunc', 'zpmaginpscirms', 'clrcoeff', 'clrcoeffunc', 'ncalmatches', 'exptime', 'adpctdif1', 'adpctdif2', 'diffmaglim', 'zpdiff', 'programid', 'jd', 'rfid', 'forcediffimflux', 'forcediffimfluxunc', 'forcediffimsnr', 'forcediffimchisq', 'forcediffimfluxap', 'forcediffimfluxuncap', 'forcediffimsnrap', 'aperturecorr', 'dnearestrefsrc', 'nearestrefmag', 'nearestrefmagunc', 'nearestrefchi', 'nearestrefsharp', 'refjdstart', 'refjdend', 'procstatus']\n",
    "dtypes = [(columns[x],float) for x in range(len(columns))]\n",
    "dtypes[4] = ('filter',r'U8')"
   ]
  },
  {
   "cell_type": "code",
   "execution_count": 3,
   "metadata": {},
   "outputs": [],
   "source": [
    "\n",
    "test = list(open(r'C:\\Users\\timvd\\Documents\\Uni 2023-2024\\First Research Project\\Data\\18\\ZTF18aasuray\\batchfp_req0000317597_lc.txt','r'))\n",
    "\n",
    "simeon_data = pd.read_csv(r'C:\\Users\\timvd\\Documents\\Uni 2023-2024\\First Research Project\\Data\\all_nuclear_transients.csv').dropna()\n",
    "simeon_data.reset_index(drop=True,inplace=True)"
   ]
  },
  {
   "cell_type": "markdown",
   "metadata": {},
   "source": [
    "#### Two cells below take the full ZTF queried wget command list and takes out the ones that are from Sjoert's paper - these are not in Simeon's list (I think)"
   ]
  },
  {
   "cell_type": "code",
   "execution_count": 4,
   "metadata": {},
   "outputs": [
    {
     "data": {
      "text/plain": [
       "[]"
      ]
     },
     "execution_count": 4,
     "metadata": {},
     "output_type": "execute_result"
    }
   ],
   "source": [
    "with open(r'C:\\Users\\timvd\\Documents\\Uni 2023-2024\\First Research Project\\Data\\wget.txt','r') as wget:\n",
    "    wget_commands = wget.readlines()\n",
    "\n",
    "wget_commands_files = [line[55:][:28] for line in wget_commands]\n",
    "\n",
    "lines_to_delete = []\n",
    "for file in os.listdir(DATAPATH):\n",
    "    if file in wget_commands_files:\n",
    "        i = np.where(np.array(wget_commands_files) == file)[0][0]\n",
    "        lines_to_delete.append(wget_commands[i].strip(\"\\n\"))\n",
    "\n",
    "lines_to_delete"
   ]
  },
  {
   "cell_type": "code",
   "execution_count": 5,
   "metadata": {},
   "outputs": [],
   "source": [
    "with open(r'C:\\Users\\timvd\\Documents\\Uni 2023-2024\\First Research Project\\Data\\wget.txt', \"r\") as f:\n",
    "    lines = f.readlines()\n",
    "with open(r'C:\\Users\\timvd\\Documents\\Uni 2023-2024\\First Research Project\\Data\\wget.txt', \"w\") as f:\n",
    "    for line in lines:\n",
    "        if line.strip(\"\\n\") not in lines_to_delete:\n",
    "            f.write(line)"
   ]
  },
  {
   "cell_type": "code",
   "execution_count": 6,
   "metadata": {},
   "outputs": [],
   "source": [
    "catalog_coords = coord.SkyCoord(np.array(simeon_data['RA']),np.array(simeon_data['Dec']),unit='deg')\n",
    "\n",
    "def get_year(file,catalog_coords=catalog_coords):\n",
    "    #get data from file into a list and close it again\n",
    "    with  open(file,'r') as data:\n",
    "        data_list = data.readlines()\n",
    "\n",
    "    #get the relevant lines from the list\n",
    "    ra_line = data_list[3]\n",
    "    dec_line = data_list[4]\n",
    "\n",
    "    ra = float(ra_line[25:][:-9])\n",
    "    dec = float(dec_line[25:][:-9]) #the first 26 and the last 10 characters can be deleted from the line to get only the numerical value for both RA en Dec in all files\n",
    "    matchcoord = coord.SkyCoord(ra,dec,frame='icrs',unit='deg')\n",
    "    idx,_,_ = coord.match_coordinates_sky(matchcoord,catalog_coords)\n",
    "    idx = int(idx)\n",
    "\n",
    "    ID = simeon_data._get_value(idx,'ztf_id') #get the ZTF id of the simeon data file entry with least angular separation\n",
    "    year = int(ID[3:5]) #distill the year from the ID\n",
    "    return year,ID\n"
   ]
  },
  {
   "cell_type": "code",
   "execution_count": 7,
   "metadata": {},
   "outputs": [
    {
     "name": "stderr",
     "output_type": "stream",
     "text": [
      "0it [00:00, ?it/s]"
     ]
    },
    {
     "name": "stderr",
     "output_type": "stream",
     "text": [
      "14244it [40:07,  5.92it/s] \n"
     ]
    }
   ],
   "source": [
    "#change this to wget.txt instead of wget_test.txt in order to run on ALL lightcurves except for Sjoert's.\n",
    "# wget = open(r'C:\\Users\\timvd\\Documents\\Uni 2023-2024\\First Research Project\\Data\\wget_test.txt','r')\n",
    "wget = open(r'C:\\Users\\timvd\\Documents\\Uni 2023-2024\\First Research Project\\Data\\wget.txt','r')\n",
    "downloaded = open(r\"C:\\Users\\timvd\\Documents\\Uni 2023-2024\\First Research Project\\Data\\downloaded_files.txt\",'a+')\n",
    "\n",
    "#maybe a truncated view? seperate into multiple functions (since the log writing code is repeated twice now for instance). This is just\n",
    "#to make it more pretty not any functionality\n",
    "\n",
    "down_path = os.path.join(DATAPATHmaster,\"DOWNLOADED\")\n",
    "\n",
    "def wget_move_lightcurve(wget_file,log_file,down_path,verbose=True):\n",
    "    \"\"\"Downloads lightcurves per wget commands that are in seperate lines in a .txt file to the \"down_path\" directory \n",
    "       and moves them to the correct directory for oversightful bookkeeping.\n",
    "       Is able to handle duplicates; if a downloaded file already exists at the right location the new download is deleted.\n",
    "       Logs the downloads and subsequent directories in the a log file (\"log_file\"). New downloads only logged only if the \n",
    "       file doesn't already exist in its right location.\n",
    "\n",
    "    Args:\n",
    "        wget_file (string): Full path to the .txt file that holds the wget commands to be executed.\n",
    "        log_file (string): Full path to the log_file (.txt) which holds the filename and correct path of all downloaded lightcurves. This file should never be manually touched.\n",
    "        down_path (string): Full path to the directory where the wget commands will be executed and thus the files be downloaded before being moved.\n",
    "        verbose (boolean): Boolen value that, for now, only silences the prompt when a file is already downloaded (since these may take up a lot of space) when set to False.\n",
    "                           Default is True.\n",
    "    \"\"\"\n",
    "    #proceed only if there's not already some files in DOWNLOADED, else there might be duplicates.\n",
    "    if len(os.listdir(down_path)) == 0:\n",
    "        for line in tqdm(wget_file):\n",
    "            #Boolean that tracks if the current wget is going to download a file that already exists according to the log file.\n",
    "            skip_iter = False\n",
    "\n",
    "            #extract the file name from the wget command and note its current path in the DOWNLOADED folder\n",
    "            filename = line[55:][:28]\n",
    "            filepath = os.path.join(down_path,filename)\n",
    "\n",
    "            #Place to store empty lightcurves (still stored for possible further inspection.)\n",
    "            emptypath = r'C:\\Users\\timvd\\Documents\\Uni 2023-2024\\First Research Project\\Data\\EMPTY'\n",
    "\n",
    "            #if the file to be downloaded (as extracted from the wget command) is already in the download log_file, skip the iteration after verifying the log file \n",
    "            # and continue to the next wget command before downloading.\n",
    "            log_file.seek(0)\n",
    "            for l in log_file.readlines():\n",
    "                if filename in l:\n",
    "                    already_downloaded_path = l[29:].strip(\"\\n\")\n",
    "                    if verbose:\n",
    "                        print(f'Download log shows {filename} is already downloaded at {already_downloaded_path}. Continuing to next command.')\n",
    "                    skip_iter = True\n",
    "                    break\n",
    "\n",
    "            if skip_iter:\n",
    "                #check if the log file is even correct; see if the file to be downloaded actually exists in the path specified by the log file.\n",
    "                #if it isn't continue the download and move it to the correct place. The log file will then be correct as well - it doesn't need manual correction.\n",
    "                if filename in os.listdir(already_downloaded_path):\n",
    "                    continue\n",
    "                else:\n",
    "                    print(f\"Log file was incorrect for file {filename}, suspected manual deletion of lightcurve. Continuing download.\")\n",
    "\n",
    "            #change to the download directory\n",
    "            os.chdir(down_path)\n",
    "            os.system(line)\n",
    "\n",
    "            #get year and transient (ZTF) ID from the lightcurve file\n",
    "            try:\n",
    "                year,ID = get_year(filepath)\n",
    "                yearpath = os.path.join(DATAPATHmaster,str(year))\n",
    "                savepath = os.path.join(yearpath,ID)\n",
    "            #This is triggered when the file is empty\n",
    "            except IndexError:\n",
    "                # if verbose:\n",
    "                log_string = f'{filename} {emptypath}\\n'\n",
    "                print(\"Downloaded lightcurve is empty. Moving to empty folder.\")\n",
    "\n",
    "                try:\n",
    "                    os.rename(filepath,os.path.join(emptypath,filename))\n",
    "                    #if skip_iter is set to True, then the log_file will already have an entry somewhere specifying the file in the current iteration which we can trust to be true. \n",
    "                    # Then the log file needn't be updated.\n",
    "                    if not skip_iter:\n",
    "                        #if the the exact log_string is not yet in the log file, write it to the log file.\n",
    "                        if log_string not in log_file.readlines():\n",
    "                            log_file.write(log_string)\n",
    "\n",
    "                except FileExistsError:\n",
    "                    print(f\"There already is a file with this exact name ({filename}) at the specified location. Deleting the new download and updating log file.\")\n",
    "                    os.remove(filepath)\n",
    "                    #if it so happens that a file is not logged but it is found now that it does in fact exist, update the log file.\n",
    "                    if not skip_iter:\n",
    "                        #if the the exact log_string is not yet in the log file, write it to the log file.\n",
    "                        if log_string not in log_file.readlines():\n",
    "                            log_file.write(log_string)\n",
    "                \n",
    "                #and continue to the next download\n",
    "                continue\n",
    "\n",
    "\n",
    "            #if a folder for the lightcurve does not already exist, make it.\n",
    "            if ID not in os.listdir(yearpath): \n",
    "                os.mkdir(savepath)\n",
    "\n",
    "            #move the file from the download folder to its rightful location\n",
    "            #if the file already exists in its right location, let the user know and delete the newly downloaded file \n",
    "            # this is because the lightcurves shouldn't be any different or better.\n",
    "            #Moreover, don't log the file in the log_file if the file already exists in its location - it should then already be in the log_file.\n",
    "            log_string = f'{filename} {savepath}\\n'\n",
    "            try:\n",
    "                os.rename(filepath,os.path.join(savepath,filename))\n",
    "                #if skip_iter is set to True, then the log_file will already have an entry somewhere specifying the file in the current iteration which we can trust to be true. \n",
    "                # Then the log file needn't be updated.\n",
    "                if not skip_iter:\n",
    "                    #if the the exact log_string is not yet in the log file, write it to the log file.\n",
    "                    if log_string not in log_file.readlines():\n",
    "                        log_file.write(log_string)\n",
    "\n",
    "            except FileExistsError:\n",
    "                print(f\"There already is a file with this exact name ({filename}) at the specified location. Deleting the new download and updating log file.\")\n",
    "                os.remove(filepath)\n",
    "                #if it so happens that a file is not logged but it is found now that it does in fact exist, update the log file.\n",
    "                if not skip_iter:\n",
    "                    #if the the exact log_string is not yet in the log file, write it to the log file.\n",
    "                    if log_string not in log_file.readlines():\n",
    "                        log_file.write(log_string)\n",
    "\n",
    "    else:\n",
    "        del_down = input(f'There are already {len(os.listdir(down_path))} files in the \"DOWNLOADED\" folder, would you like to delete these? y/n ')\n",
    "        if del_down.lower() == 'y':\n",
    "            for file in os.listdir(down_path):\n",
    "                os.remove(file)\n",
    "        else:\n",
    "            print(\"Please remove all files from the directory before proceeding.\")\n",
    "\n",
    "    #close files and return the working directory to the one at the start of the code.        \n",
    "    wget_file.close()\n",
    "    downloaded.close()\n",
    "    os.chdir(PATH)\n",
    "\n",
    "wget_move_lightcurve(wget,downloaded,down_path,verbose=False)"
   ]
  }
 ],
 "metadata": {
  "kernelspec": {
   "display_name": "Python 3",
   "language": "python",
   "name": "python3"
  },
  "language_info": {
   "codemirror_mode": {
    "name": "ipython",
    "version": 3
   },
   "file_extension": ".py",
   "mimetype": "text/x-python",
   "name": "python",
   "nbconvert_exporter": "python",
   "pygments_lexer": "ipython3",
   "version": "3.9.2"
  }
 },
 "nbformat": 4,
 "nbformat_minor": 2
}
