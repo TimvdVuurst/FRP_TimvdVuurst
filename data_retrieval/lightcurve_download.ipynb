{
 "cells": [
  {
   "cell_type": "code",
   "execution_count": 1,
   "metadata": {},
   "outputs": [],
   "source": [
    "import numpy as np\n",
    "import os\n",
    "import pandas as pd\n",
    "import astropy.coordinates as coord\n",
    "from tqdm import tqdm"
   ]
  },
  {
   "cell_type": "code",
   "execution_count": 7,
   "metadata": {},
   "outputs": [
    {
     "name": "stdout",
     "output_type": "stream",
     "text": [
      "C:\\Users\\timvd\\Documents\\Uni 2023-2024\\First Research Project\\Data\\Sjoert_Flares\n"
     ]
    }
   ],
   "source": [
    "PATH = os.path.normpath(os.getcwd() + os.sep + os.pardir)\n",
    "DATAPATHmaster = r'C:\\Users\\timvd\\Documents\\Uni 2023-2024\\First Research Project\\Data'\n",
    "CODEPATH = os.path.join(PATH,'Code')\n",
    "DATAPATH = os.path.join(DATAPATHmaster,'Sjoert_Flares')\n",
    "print(DATAPATH)\n",
    "columns = ['sindex', 'field', 'ccdid', 'qid', 'filter', 'pid', 'infobitssci', 'sciinpseeing', 'scibckgnd', 'scisigpix', 'zpmaginpsci', 'zpmaginpsciunc', 'zpmaginpscirms', 'clrcoeff', 'clrcoeffunc', 'ncalmatches', 'exptime', 'adpctdif1', 'adpctdif2', 'diffmaglim', 'zpdiff', 'programid', 'jd', 'rfid', 'forcediffimflux', 'forcediffimfluxunc', 'forcediffimsnr', 'forcediffimchisq', 'forcediffimfluxap', 'forcediffimfluxuncap', 'forcediffimsnrap', 'aperturecorr', 'dnearestrefsrc', 'nearestrefmag', 'nearestrefmagunc', 'nearestrefchi', 'nearestrefsharp', 'refjdstart', 'refjdend', 'procstatus']\n",
    "dtypes = [(columns[x],float) for x in range(len(columns))]\n",
    "dtypes[4] = ('filter',r'U8')"
   ]
  },
  {
   "cell_type": "code",
   "execution_count": 4,
   "metadata": {},
   "outputs": [
    {
     "data": {
      "text/plain": [
       "(14245, 3)"
      ]
     },
     "execution_count": 4,
     "metadata": {},
     "output_type": "execute_result"
    }
   ],
   "source": [
    "\n",
    "test = list(open(r'C:\\Users\\timvd\\Documents\\Uni 2023-2024\\First Research Project\\Data\\18\\ZTF18aasuray\\batchfp_req0000317597_lc.txt','r'))\n",
    "\n",
    "simeon_data = pd.read_csv(r'C:\\Users\\timvd\\Documents\\Uni 2023-2024\\First Research Project\\Data\\dump\\all_nuclear_transients.csv').dropna()\n",
    "simeon_data.reset_index(drop=True,inplace=True)\n",
    "simeon_data.shape"
   ]
  },
  {
   "cell_type": "markdown",
   "metadata": {},
   "source": [
    "#### Two cells below take the full ZTF queried wget command list and takes out the ones that are from Sjoert's paper - these are not in Simeon's list (I think)"
   ]
  },
  {
   "cell_type": "code",
   "execution_count": 4,
   "metadata": {},
   "outputs": [
    {
     "data": {
      "text/plain": [
       "[]"
      ]
     },
     "execution_count": 4,
     "metadata": {},
     "output_type": "execute_result"
    }
   ],
   "source": [
    "with open(r'C:\\Users\\timvd\\Documents\\Uni 2023-2024\\First Research Project\\Data\\wget.txt','r') as wget:\n",
    "    wget_commands = wget.readlines()\n",
    "\n",
    "wget_commands_files = [line[55:][:28] for line in wget_commands]\n",
    "\n",
    "lines_to_delete = []\n",
    "for file in os.listdir(DATAPATH):\n",
    "    if file in wget_commands_files:\n",
    "        i = np.where(np.array(wget_commands_files) == file)[0][0]\n",
    "        lines_to_delete.append(wget_commands[i].strip(\"\\n\"))\n",
    "\n",
    "lines_to_delete"
   ]
  },
  {
   "cell_type": "code",
   "execution_count": 5,
   "metadata": {},
   "outputs": [],
   "source": [
    "with open(r'C:\\Users\\timvd\\Documents\\Uni 2023-2024\\First Research Project\\Data\\wget.txt', \"r\") as f:\n",
    "    lines = f.readlines()\n",
    "with open(r'C:\\Users\\timvd\\Documents\\Uni 2023-2024\\First Research Project\\Data\\wget.txt', \"w\") as f:\n",
    "    for line in lines:\n",
    "        if line.strip(\"\\n\") not in lines_to_delete:\n",
    "            f.write(line)"
   ]
  },
  {
   "cell_type": "code",
   "execution_count": 5,
   "metadata": {},
   "outputs": [],
   "source": [
    "catalog_coords = coord.SkyCoord(np.array(simeon_data['RA']),np.array(simeon_data['Dec']),unit='deg')\n",
    "\n",
    "def get_year(file,catalog_coords=catalog_coords):\n",
    "    #get data from file into a list and close it again\n",
    "    with  open(file,'r') as data:\n",
    "        data_list = data.readlines()\n",
    "\n",
    "    #get the relevant lines from the list\n",
    "    ra_line = data_list[3]\n",
    "    dec_line = data_list[4]\n",
    "\n",
    "    ra = float(ra_line[25:][:-9])\n",
    "    dec = float(dec_line[25:][:-9]) #the first 26 and the last 10 characters can be deleted from the line to get only the numerical value for both RA en Dec in all files\n",
    "    matchcoord = coord.SkyCoord(ra,dec,frame='icrs',unit='deg')\n",
    "    idx,_,_ = coord.match_coordinates_sky(matchcoord,catalog_coords)\n",
    "    idx = int(idx)\n",
    "\n",
    "    ID = simeon_data._get_value(idx,'ztf_id') #get the ZTF id of the simeon data file entry with least angular separation\n",
    "    year = int(ID[3:5]) #distill the year from the ID\n",
    "    return year,ID\n"
   ]
  },
  {
   "cell_type": "code",
   "execution_count": null,
   "metadata": {},
   "outputs": [],
   "source": [
    "wget = open(r'C:\\Users\\timvd\\Documents\\Uni 2023-2024\\First Research Project\\Data\\wget.txt','r')\n",
    "\n",
    "for line in tqdm(wget):\n",
    "    #Boolean that tracks if the current wget is going to download a file that already exists according to the log file.\n",
    "    skip_iter = False\n",
    "\n",
    "    #extract the file name from the wget command and note its current path in the DOWNLOADED folder\n",
    "    filename = line[55:][:28]\n",
    "    filepath = os.path.join(down_path,filename)\n",
    "all_ids = []"
   ]
  },
  {
   "cell_type": "code",
   "execution_count": 10,
   "metadata": {},
   "outputs": [
    {
     "name": "stderr",
     "output_type": "stream",
     "text": [
      "5it [00:00, 47.91it/s]"
     ]
    },
    {
     "name": "stdout",
     "output_type": "stream",
     "text": [
      "batchfp_req0000317596_lc.txt\n",
      "batchfp_req0000317597_lc.txt\n",
      "batchfp_req0000317598_lc.txt\n",
      "batchfp_req0000317599_lc.txt\n",
      "batchfp_req0000317600_lc.txt\n",
      "batchfp_req0000317601_lc.txt\n",
      "batchfp_req0000317602_lc.txt\n",
      "batchfp_req0000317603_lc.txt\n",
      "batchfp_req0000317604_lc.txt\n",
      "batchfp_req0000317605_lc.txt\n"
     ]
    },
    {
     "name": "stderr",
     "output_type": "stream",
     "text": [
      "19it [00:00, 63.46it/s]"
     ]
    },
    {
     "name": "stdout",
     "output_type": "stream",
     "text": [
      "batchfp_req0000317606_lc.txt\n",
      "batchfp_req0000317607_lc.txt\n",
      "batchfp_req0000317608_lc.txt\n",
      "batchfp_req0000317609_lc.txt\n",
      "batchfp_req0000317610_lc.txt\n",
      "batchfp_req0000317611_lc.txt\n",
      "batchfp_req0000317612_lc.txt\n",
      "batchfp_req0000317613_lc.txt\n",
      "batchfp_req0000317614_lc.txt\n",
      "batchfp_req0000317615_lc.txt\n",
      "batchfp_req0000317616_lc.txt\n",
      "batchfp_req0000317617_lc.txt\n",
      "batchfp_req0000317618_lc.txt\n",
      "batchfp_req0000317619_lc.txt\n",
      "batchfp_req0000317620_lc.txt\n"
     ]
    },
    {
     "name": "stderr",
     "output_type": "stream",
     "text": [
      "40it [00:00, 63.87it/s]"
     ]
    },
    {
     "name": "stdout",
     "output_type": "stream",
     "text": [
      "batchfp_req0000317621_lc.txt\n",
      "batchfp_req0000317622_lc.txt\n",
      "batchfp_req0000317623_lc.txt\n",
      "batchfp_req0000317624_lc.txt\n",
      "batchfp_req0000317625_lc.txt\n",
      "batchfp_req0000317626_lc.txt\n",
      "batchfp_req0000317627_lc.txt\n",
      "batchfp_req0000317628_lc.txt\n",
      "batchfp_req0000317629_lc.txt\n",
      "batchfp_req0000317630_lc.txt\n",
      "batchfp_req0000317631_lc.txt\n",
      "batchfp_req0000317632_lc.txt\n",
      "batchfp_req0000317633_lc.txt\n",
      "batchfp_req0000317634_lc.txt\n",
      "batchfp_req0000317635_lc.txt\n"
     ]
    },
    {
     "name": "stderr",
     "output_type": "stream",
     "text": [
      "48it [00:00, 66.31it/s]"
     ]
    },
    {
     "name": "stdout",
     "output_type": "stream",
     "text": [
      "batchfp_req0000317636_lc.txt\n",
      "batchfp_req0000317637_lc.txt\n",
      "batchfp_req0000317638_lc.txt\n",
      "batchfp_req0000317639_lc.txt\n",
      "batchfp_req0000317640_lc.txt\n",
      "batchfp_req0000317641_lc.txt\n",
      "batchfp_req0000317642_lc.txt\n",
      "batchfp_req0000317643_lc.txt\n",
      "batchfp_req0000317644_lc.txt\n",
      "batchfp_req0000317645_lc.txt\n",
      "batchfp_req0000317646_lc.txt\n",
      "batchfp_req0000317647_lc.txt\n",
      "batchfp_req0000317648_lc.txt\n",
      "batchfp_req0000317649_lc.txt\n",
      "batchfp_req0000317650_lc.txt\n",
      "batchfp_req0000317651_lc.txt\n",
      "batchfp_req0000317652_lc.txt\n"
     ]
    },
    {
     "name": "stderr",
     "output_type": "stream",
     "text": [
      "65it [00:00, 71.95it/s]"
     ]
    },
    {
     "name": "stdout",
     "output_type": "stream",
     "text": [
      "batchfp_req0000317653_lc.txt\n",
      "batchfp_req0000317654_lc.txt\n",
      "batchfp_req0000317655_lc.txt\n",
      "batchfp_req0000317656_lc.txt\n",
      "batchfp_req0000317657_lc.txt\n",
      "batchfp_req0000317658_lc.txt\n",
      "batchfp_req0000317659_lc.txt\n",
      "batchfp_req0000317660_lc.txt\n",
      "batchfp_req0000317661_lc.txt\n",
      "batchfp_req0000317662_lc.txt\n",
      "batchfp_req0000317663_lc.txt\n",
      "batchfp_req0000317664_lc.txt\n",
      "batchfp_req0000317665_lc.txt\n",
      "batchfp_req0000317666_lc.txt\n",
      "batchfp_req0000317667_lc.txt\n"
     ]
    },
    {
     "name": "stderr",
     "output_type": "stream",
     "text": [
      "81it [00:01, 73.84it/s]"
     ]
    },
    {
     "name": "stdout",
     "output_type": "stream",
     "text": [
      "batchfp_req0000317668_lc.txt\n",
      "batchfp_req0000317669_lc.txt\n",
      "batchfp_req0000317670_lc.txt\n",
      "batchfp_req0000317671_lc.txt\n",
      "batchfp_req0000317672_lc.txt\n",
      "batchfp_req0000317673_lc.txt\n",
      "batchfp_req0000317674_lc.txt\n",
      "batchfp_req0000317675_lc.txt\n",
      "batchfp_req0000317676_lc.txt\n",
      "batchfp_req0000317677_lc.txt\n",
      "batchfp_req0000317678_lc.txt\n",
      "batchfp_req0000317679_lc.txt\n",
      "batchfp_req0000317680_lc.txt\n",
      "batchfp_req0000317681_lc.txt\n",
      "batchfp_req0000317682_lc.txt\n",
      "batchfp_req0000317683_lc.txt\n",
      "batchfp_req0000317684_lc.txt\n"
     ]
    },
    {
     "name": "stderr",
     "output_type": "stream",
     "text": [
      "98it [00:01, 75.61it/s]"
     ]
    },
    {
     "name": "stdout",
     "output_type": "stream",
     "text": [
      "batchfp_req0000317685_lc.txt\n",
      "batchfp_req0000317686_lc.txt\n",
      "batchfp_req0000317687_lc.txt\n",
      "batchfp_req0000317688_lc.txt\n",
      "batchfp_req0000317689_lc.txt\n",
      "batchfp_req0000317690_lc.txt\n",
      "batchfp_req0000317691_lc.txt\n",
      "batchfp_req0000317692_lc.txt\n",
      "batchfp_req0000317693_lc.txt\n",
      "batchfp_req0000317694_lc.txt\n",
      "batchfp_req0000317695_lc.txt\n",
      "batchfp_req0000358734_lc.txt\n",
      "batchfp_req0000358735_lc.txt\n",
      "batchfp_req0000358736_lc.txt\n",
      "batchfp_req0000358737_lc.txt\n",
      "batchfp_req0000358738_lc.txt\n",
      "batchfp_req0000358739_lc.txt\n",
      "batchfp_req0000358740_lc.txt\n"
     ]
    },
    {
     "name": "stderr",
     "output_type": "stream",
     "text": [
      "117it [00:01, 75.96it/s]"
     ]
    },
    {
     "name": "stdout",
     "output_type": "stream",
     "text": [
      "batchfp_req0000358741_lc.txt\n",
      "batchfp_req0000358742_lc.txt\n",
      "batchfp_req0000358743_lc.txt\n",
      "batchfp_req0000358744_lc.txt\n",
      "batchfp_req0000358745_lc.txt\n",
      "batchfp_req0000358746_lc.txt\n",
      "batchfp_req0000358747_lc.txt\n",
      "batchfp_req0000358748_lc.txt\n",
      "batchfp_req0000358749_lc.txt\n",
      "batchfp_req0000358750_lc.txt\n",
      "batchfp_req0000358751_lc.txt\n",
      "batchfp_req0000358752_lc.txt\n",
      "batchfp_req0000358753_lc.txt\n",
      "batchfp_req0000358754_lc.txt\n",
      "batchfp_req0000358755_lc.txt\n"
     ]
    },
    {
     "name": "stderr",
     "output_type": "stream",
     "text": [
      "134it [00:01, 77.66it/s]"
     ]
    },
    {
     "name": "stdout",
     "output_type": "stream",
     "text": [
      "batchfp_req0000358756_lc.txt\n",
      "batchfp_req0000358757_lc.txt\n",
      "batchfp_req0000358758_lc.txt\n",
      "batchfp_req0000358759_lc.txt\n",
      "batchfp_req0000358760_lc.txt\n",
      "batchfp_req0000358761_lc.txt\n",
      "batchfp_req0000358762_lc.txt\n",
      "batchfp_req0000358763_lc.txt\n",
      "batchfp_req0000358764_lc.txt\n",
      "batchfp_req0000358765_lc.txt\n",
      "batchfp_req0000358766_lc.txt\n",
      "batchfp_req0000358767_lc.txt\n",
      "batchfp_req0000358768_lc.txt\n",
      "batchfp_req0000358769_lc.txt\n",
      "batchfp_req0000358770_lc.txt\n",
      "batchfp_req0000358771_lc.txt\n",
      "batchfp_req0000358772_lc.txt\n"
     ]
    },
    {
     "name": "stderr",
     "output_type": "stream",
     "text": [
      "150it [00:02, 74.77it/s]"
     ]
    },
    {
     "name": "stdout",
     "output_type": "stream",
     "text": [
      "batchfp_req0000358773_lc.txt\n",
      "batchfp_req0000358774_lc.txt\n",
      "batchfp_req0000358775_lc.txt\n",
      "batchfp_req0000358776_lc.txt\n",
      "batchfp_req0000358777_lc.txt\n",
      "batchfp_req0000358778_lc.txt\n",
      "batchfp_req0000358779_lc.txt\n",
      "batchfp_req0000358780_lc.txt\n",
      "batchfp_req0000358781_lc.txt\n",
      "batchfp_req0000358782_lc.txt\n",
      "batchfp_req0000358783_lc.txt\n",
      "batchfp_req0000358784_lc.txt\n",
      "batchfp_req0000358785_lc.txt\n",
      "batchfp_req0000358786_lc.txt\n",
      "batchfp_req0000358787_lc.txt\n",
      "batchfp_req0000358788_lc.txt\n",
      "batchfp_req0000358789_lc.txt\n"
     ]
    },
    {
     "name": "stderr",
     "output_type": "stream",
     "text": [
      "168it [00:02, 80.46it/s]"
     ]
    },
    {
     "name": "stdout",
     "output_type": "stream",
     "text": [
      "batchfp_req0000358790_lc.txt\n",
      "batchfp_req0000358791_lc.txt\n",
      "batchfp_req0000358792_lc.txt\n",
      "batchfp_req0000358793_lc.txt\n",
      "batchfp_req0000358794_lc.txt\n",
      "batchfp_req0000358795_lc.txt\n",
      "batchfp_req0000358796_lc.txt\n",
      "batchfp_req0000358797_lc.txt\n",
      "batchfp_req0000358798_lc.txt\n",
      "batchfp_req0000358799_lc.txt\n",
      "batchfp_req0000358800_lc.txt\n",
      "batchfp_req0000358801_lc.txt\n",
      "batchfp_req0000358802_lc.txt\n",
      "batchfp_req0000358803_lc.txt\n",
      "batchfp_req0000358804_lc.txt\n",
      "batchfp_req0000358805_lc.txt\n",
      "batchfp_req0000358806_lc.txt\n",
      "batchfp_req0000358807_lc.txt\n",
      "batchfp_req0000358808_lc.txt\n"
     ]
    },
    {
     "name": "stderr",
     "output_type": "stream",
     "text": [
      "187it [00:02, 76.96it/s]"
     ]
    },
    {
     "name": "stdout",
     "output_type": "stream",
     "text": [
      "batchfp_req0000358809_lc.txt\n",
      "batchfp_req0000358810_lc.txt\n",
      "batchfp_req0000358811_lc.txt\n",
      "batchfp_req0000358812_lc.txt\n",
      "batchfp_req0000358813_lc.txt\n",
      "batchfp_req0000358814_lc.txt\n",
      "batchfp_req0000358815_lc.txt\n",
      "batchfp_req0000358816_lc.txt\n",
      "batchfp_req0000358817_lc.txt\n",
      "batchfp_req0000358818_lc.txt\n",
      "batchfp_req0000358819_lc.txt\n",
      "batchfp_req0000358820_lc.txt\n",
      "batchfp_req0000358821_lc.txt\n",
      "batchfp_req0000358822_lc.txt\n"
     ]
    },
    {
     "name": "stderr",
     "output_type": "stream",
     "text": [
      "204it [00:02, 77.49it/s]"
     ]
    },
    {
     "name": "stdout",
     "output_type": "stream",
     "text": [
      "batchfp_req0000358823_lc.txt\n",
      "batchfp_req0000358824_lc.txt\n",
      "batchfp_req0000358825_lc.txt\n",
      "batchfp_req0000358826_lc.txt\n",
      "batchfp_req0000358827_lc.txt\n",
      "batchfp_req0000358828_lc.txt\n",
      "batchfp_req0000358829_lc.txt\n",
      "batchfp_req0000358830_lc.txt\n",
      "batchfp_req0000358831_lc.txt\n",
      "batchfp_req0000358832_lc.txt\n",
      "batchfp_req0000358833_lc.txt\n",
      "batchfp_req0000358834_lc.txt\n",
      "batchfp_req0000358835_lc.txt\n",
      "batchfp_req0000358836_lc.txt\n",
      "batchfp_req0000358837_lc.txt\n"
     ]
    },
    {
     "name": "stderr",
     "output_type": "stream",
     "text": [
      "212it [00:02, 76.80it/s]"
     ]
    },
    {
     "name": "stdout",
     "output_type": "stream",
     "text": [
      "batchfp_req0000358838_lc.txt\n",
      "batchfp_req0000358839_lc.txt\n",
      "batchfp_req0000358840_lc.txt\n",
      "batchfp_req0000358841_lc.txt\n",
      "batchfp_req0000358842_lc.txt\n",
      "batchfp_req0000358843_lc.txt\n",
      "batchfp_req0000358844_lc.txt\n",
      "batchfp_req0000358845_lc.txt\n",
      "batchfp_req0000358846_lc.txt\n",
      "batchfp_req0000358847_lc.txt\n",
      "batchfp_req0000358848_lc.txt\n",
      "batchfp_req0000358849_lc.txt\n",
      "batchfp_req0000358850_lc.txt\n",
      "batchfp_req0000358851_lc.txt\n",
      "batchfp_req0000358852_lc.txt\n",
      "batchfp_req0000358853_lc.txt\n"
     ]
    },
    {
     "name": "stderr",
     "output_type": "stream",
     "text": [
      "231it [00:03, 82.26it/s]"
     ]
    },
    {
     "name": "stdout",
     "output_type": "stream",
     "text": [
      "batchfp_req0000358854_lc.txt\n",
      "batchfp_req0000358855_lc.txt\n",
      "batchfp_req0000358856_lc.txt\n",
      "batchfp_req0000358857_lc.txt\n",
      "batchfp_req0000358858_lc.txt\n",
      "batchfp_req0000358859_lc.txt\n",
      "batchfp_req0000358860_lc.txt\n",
      "batchfp_req0000358861_lc.txt\n",
      "batchfp_req0000358862_lc.txt\n",
      "batchfp_req0000358863_lc.txt\n",
      "batchfp_req0000358864_lc.txt\n",
      "batchfp_req0000358865_lc.txt\n",
      "batchfp_req0000358866_lc.txt\n",
      "batchfp_req0000358867_lc.txt\n",
      "batchfp_req0000358868_lc.txt\n",
      "batchfp_req0000358869_lc.txt\n",
      "batchfp_req0000358870_lc.txt\n",
      "batchfp_req0000358871_lc.txt\n",
      "batchfp_req0000358872_lc.txt\n",
      "batchfp_req0000358873_lc.txt\n"
     ]
    },
    {
     "name": "stderr",
     "output_type": "stream",
     "text": [
      "251it [00:03, 86.99it/s]"
     ]
    },
    {
     "name": "stdout",
     "output_type": "stream",
     "text": [
      "batchfp_req0000358874_lc.txt\n",
      "batchfp_req0000358875_lc.txt\n",
      "batchfp_req0000358876_lc.txt\n",
      "batchfp_req0000358877_lc.txt\n",
      "batchfp_req0000358878_lc.txt\n",
      "batchfp_req0000358879_lc.txt\n",
      "batchfp_req0000358880_lc.txt\n",
      "batchfp_req0000358881_lc.txt\n",
      "batchfp_req0000358882_lc.txt\n",
      "batchfp_req0000358883_lc.txt\n",
      "batchfp_req0000358884_lc.txt\n",
      "batchfp_req0000358885_lc.txt\n",
      "batchfp_req0000358886_lc.txt\n",
      "batchfp_req0000358887_lc.txt\n",
      "batchfp_req0000358888_lc.txt\n",
      "batchfp_req0000358889_lc.txt\n",
      "batchfp_req0000358890_lc.txt\n",
      "batchfp_req0000358891_lc.txt\n",
      "batchfp_req0000358892_lc.txt\n",
      "batchfp_req0000358893_lc.txt\n"
     ]
    },
    {
     "name": "stderr",
     "output_type": "stream",
     "text": [
      "279it [00:03, 90.33it/s]"
     ]
    },
    {
     "name": "stdout",
     "output_type": "stream",
     "text": [
      "batchfp_req0000358894_lc.txt\n",
      "batchfp_req0000358895_lc.txt\n",
      "batchfp_req0000358896_lc.txt\n",
      "batchfp_req0000358897_lc.txt\n",
      "batchfp_req0000358898_lc.txt\n",
      "batchfp_req0000358899_lc.txt\n",
      "batchfp_req0000358900_lc.txt\n",
      "batchfp_req0000358901_lc.txt\n",
      "batchfp_req0000358902_lc.txt\n",
      "batchfp_req0000358903_lc.txt\n",
      "batchfp_req0000358904_lc.txt\n",
      "batchfp_req0000358905_lc.txt\n",
      "batchfp_req0000358906_lc.txt\n",
      "batchfp_req0000358907_lc.txt\n",
      "batchfp_req0000358908_lc.txt\n",
      "batchfp_req0000358909_lc.txt\n",
      "batchfp_req0000358910_lc.txt\n",
      "batchfp_req0000358911_lc.txt\n",
      "batchfp_req0000358912_lc.txt\n"
     ]
    },
    {
     "name": "stderr",
     "output_type": "stream",
     "text": [
      "289it [00:03, 90.04it/s]"
     ]
    },
    {
     "name": "stdout",
     "output_type": "stream",
     "text": [
      "batchfp_req0000358913_lc.txt\n",
      "batchfp_req0000358914_lc.txt\n",
      "batchfp_req0000358915_lc.txt\n",
      "batchfp_req0000358916_lc.txt\n",
      "batchfp_req0000358917_lc.txt\n",
      "batchfp_req0000358918_lc.txt\n",
      "batchfp_req0000358919_lc.txt\n",
      "batchfp_req0000358920_lc.txt\n",
      "batchfp_req0000358921_lc.txt\n",
      "batchfp_req0000358922_lc.txt\n",
      "batchfp_req0000358923_lc.txt\n",
      "batchfp_req0000358924_lc.txt\n",
      "batchfp_req0000358925_lc.txt\n",
      "batchfp_req0000358926_lc.txt\n",
      "batchfp_req0000358927_lc.txt\n",
      "batchfp_req0000358928_lc.txt\n"
     ]
    },
    {
     "name": "stderr",
     "output_type": "stream",
     "text": [
      "308it [00:03, 84.59it/s]"
     ]
    },
    {
     "name": "stdout",
     "output_type": "stream",
     "text": [
      "batchfp_req0000358929_lc.txt\n",
      "batchfp_req0000358930_lc.txt\n",
      "batchfp_req0000358931_lc.txt\n",
      "batchfp_req0000358932_lc.txt\n",
      "batchfp_req0000358933_lc.txt\n",
      "batchfp_req0000358934_lc.txt\n",
      "batchfp_req0000358935_lc.txt\n",
      "batchfp_req0000358936_lc.txt\n",
      "batchfp_req0000358937_lc.txt\n",
      "batchfp_req0000358938_lc.txt\n",
      "batchfp_req0000358939_lc.txt\n",
      "batchfp_req0000358940_lc.txt\n",
      "batchfp_req0000358941_lc.txt\n",
      "batchfp_req0000358942_lc.txt\n",
      "batchfp_req0000358943_lc.txt\n",
      "batchfp_req0000358944_lc.txt\n",
      "batchfp_req0000358945_lc.txt\n",
      "batchfp_req0000358946_lc.txt\n"
     ]
    },
    {
     "name": "stderr",
     "output_type": "stream",
     "text": [
      "327it [00:04, 85.71it/s]"
     ]
    },
    {
     "name": "stdout",
     "output_type": "stream",
     "text": [
      "batchfp_req0000358947_lc.txt\n",
      "batchfp_req0000358948_lc.txt\n",
      "batchfp_req0000358949_lc.txt\n",
      "batchfp_req0000358950_lc.txt\n",
      "batchfp_req0000358951_lc.txt\n",
      "batchfp_req0000358952_lc.txt\n",
      "batchfp_req0000358953_lc.txt\n",
      "batchfp_req0000358954_lc.txt\n",
      "batchfp_req0000358955_lc.txt\n",
      "batchfp_req0000358956_lc.txt\n",
      "batchfp_req0000358957_lc.txt\n",
      "batchfp_req0000358958_lc.txt\n",
      "batchfp_req0000358959_lc.txt\n",
      "batchfp_req0000358960_lc.txt\n",
      "batchfp_req0000358961_lc.txt\n",
      "batchfp_req0000358962_lc.txt\n",
      "batchfp_req0000358963_lc.txt\n",
      "batchfp_req0000358964_lc.txt\n"
     ]
    },
    {
     "name": "stderr",
     "output_type": "stream",
     "text": [
      "345it [00:04, 82.90it/s]"
     ]
    },
    {
     "name": "stdout",
     "output_type": "stream",
     "text": [
      "batchfp_req0000358965_lc.txt\n",
      "batchfp_req0000358966_lc.txt\n",
      "batchfp_req0000358967_lc.txt\n",
      "batchfp_req0000358968_lc.txt\n",
      "batchfp_req0000358969_lc.txt\n",
      "batchfp_req0000358970_lc.txt\n",
      "batchfp_req0000358971_lc.txt\n",
      "batchfp_req0000358972_lc.txt\n",
      "batchfp_req0000358973_lc.txt\n",
      "batchfp_req0000358974_lc.txt\n",
      "batchfp_req0000358975_lc.txt\n",
      "batchfp_req0000358976_lc.txt\n",
      "batchfp_req0000358977_lc.txt\n",
      "batchfp_req0000358978_lc.txt\n",
      "batchfp_req0000358979_lc.txt\n",
      "batchfp_req0000358980_lc.txt\n",
      "batchfp_req0000358981_lc.txt\n",
      "batchfp_req0000358982_lc.txt\n"
     ]
    },
    {
     "name": "stderr",
     "output_type": "stream",
     "text": [
      "363it [00:04, 83.94it/s]"
     ]
    },
    {
     "name": "stdout",
     "output_type": "stream",
     "text": [
      "batchfp_req0000358983_lc.txt\n",
      "batchfp_req0000358984_lc.txt\n",
      "batchfp_req0000358985_lc.txt\n",
      "batchfp_req0000358986_lc.txt\n",
      "batchfp_req0000358987_lc.txt\n",
      "batchfp_req0000358988_lc.txt\n",
      "batchfp_req0000358989_lc.txt\n",
      "batchfp_req0000358990_lc.txt\n",
      "batchfp_req0000358991_lc.txt\n",
      "batchfp_req0000358992_lc.txt\n",
      "batchfp_req0000358993_lc.txt\n",
      "batchfp_req0000358994_lc.txt\n",
      "batchfp_req0000358995_lc.txt\n",
      "batchfp_req0000358996_lc.txt\n",
      "batchfp_req0000358997_lc.txt\n",
      "batchfp_req0000358998_lc.txt\n",
      "batchfp_req0000358999_lc.txt\n",
      "batchfp_req0000359000_lc.txt\n"
     ]
    },
    {
     "name": "stderr",
     "output_type": "stream",
     "text": [
      "372it [00:04, 81.39it/s]"
     ]
    },
    {
     "name": "stdout",
     "output_type": "stream",
     "text": [
      "batchfp_req0000359001_lc.txt\n",
      "batchfp_req0000359002_lc.txt\n",
      "batchfp_req0000359003_lc.txt\n",
      "batchfp_req0000359004_lc.txt\n",
      "batchfp_req0000359005_lc.txt\n",
      "batchfp_req0000359006_lc.txt\n",
      "batchfp_req0000359007_lc.txt\n",
      "batchfp_req0000359008_lc.txt\n",
      "batchfp_req0000359009_lc.txt\n",
      "batchfp_req0000359010_lc.txt\n",
      "batchfp_req0000359011_lc.txt\n",
      "batchfp_req0000359012_lc.txt\n",
      "batchfp_req0000359013_lc.txt\n"
     ]
    },
    {
     "name": "stderr",
     "output_type": "stream",
     "text": [
      "389it [00:05, 70.93it/s]"
     ]
    },
    {
     "name": "stdout",
     "output_type": "stream",
     "text": [
      "batchfp_req0000359014_lc.txt\n",
      "batchfp_req0000359015_lc.txt\n",
      "batchfp_req0000359016_lc.txt\n",
      "batchfp_req0000359017_lc.txt\n",
      "batchfp_req0000359018_lc.txt\n",
      "batchfp_req0000359019_lc.txt\n",
      "batchfp_req0000359020_lc.txt\n",
      "batchfp_req0000359021_lc.txt\n",
      "batchfp_req0000359022_lc.txt\n",
      "batchfp_req0000359023_lc.txt\n",
      "batchfp_req0000359024_lc.txt\n",
      "batchfp_req0000359025_lc.txt\n",
      "batchfp_req0000359026_lc.txt\n",
      "batchfp_req0000359027_lc.txt\n",
      "batchfp_req0000359028_lc.txt\n"
     ]
    },
    {
     "name": "stderr",
     "output_type": "stream",
     "text": [
      "405it [00:05, 71.03it/s]"
     ]
    },
    {
     "name": "stdout",
     "output_type": "stream",
     "text": [
      "batchfp_req0000359029_lc.txt\n",
      "batchfp_req0000359030_lc.txt\n",
      "batchfp_req0000359031_lc.txt\n",
      "batchfp_req0000359032_lc.txt\n",
      "batchfp_req0000359033_lc.txt\n",
      "batchfp_req0000359034_lc.txt\n",
      "batchfp_req0000359035_lc.txt\n",
      "batchfp_req0000359036_lc.txt\n",
      "batchfp_req0000359037_lc.txt\n",
      "batchfp_req0000359038_lc.txt\n",
      "batchfp_req0000359039_lc.txt\n",
      "batchfp_req0000359040_lc.txt\n",
      "batchfp_req0000359041_lc.txt\n",
      "batchfp_req0000359042_lc.txt\n",
      "batchfp_req0000359043_lc.txt\n"
     ]
    },
    {
     "name": "stderr",
     "output_type": "stream",
     "text": [
      "421it [00:05, 73.27it/s]"
     ]
    },
    {
     "name": "stdout",
     "output_type": "stream",
     "text": [
      "batchfp_req0000359044_lc.txt\n",
      "batchfp_req0000359045_lc.txt\n",
      "batchfp_req0000359046_lc.txt\n",
      "batchfp_req0000359047_lc.txt\n",
      "batchfp_req0000359048_lc.txt\n",
      "batchfp_req0000359049_lc.txt\n",
      "batchfp_req0000359050_lc.txt\n",
      "batchfp_req0000359051_lc.txt\n",
      "batchfp_req0000359052_lc.txt\n",
      "batchfp_req0000359053_lc.txt\n",
      "batchfp_req0000359054_lc.txt\n",
      "batchfp_req0000359055_lc.txt\n",
      "batchfp_req0000359056_lc.txt\n",
      "batchfp_req0000359057_lc.txt\n",
      "batchfp_req0000359058_lc.txt\n",
      "batchfp_req0000359059_lc.txt\n",
      "batchfp_req0000359060_lc.txt\n"
     ]
    },
    {
     "name": "stderr",
     "output_type": "stream",
     "text": [
      "438it [00:05, 72.67it/s]"
     ]
    },
    {
     "name": "stdout",
     "output_type": "stream",
     "text": [
      "batchfp_req0000359061_lc.txt\n",
      "batchfp_req0000359062_lc.txt\n",
      "batchfp_req0000359063_lc.txt\n",
      "batchfp_req0000359064_lc.txt\n",
      "batchfp_req0000359065_lc.txt\n",
      "batchfp_req0000359066_lc.txt\n",
      "batchfp_req0000359067_lc.txt\n",
      "batchfp_req0000359068_lc.txt\n",
      "batchfp_req0000359069_lc.txt\n",
      "batchfp_req0000359070_lc.txt\n",
      "batchfp_req0000359071_lc.txt\n",
      "batchfp_req0000359072_lc.txt\n",
      "batchfp_req0000359073_lc.txt\n",
      "batchfp_req0000359074_lc.txt\n",
      "batchfp_req0000359075_lc.txt\n"
     ]
    },
    {
     "name": "stderr",
     "output_type": "stream",
     "text": [
      "455it [00:05, 78.08it/s]"
     ]
    },
    {
     "name": "stdout",
     "output_type": "stream",
     "text": [
      "batchfp_req0000359076_lc.txt\n",
      "batchfp_req0000359077_lc.txt\n",
      "batchfp_req0000359078_lc.txt\n",
      "batchfp_req0000359079_lc.txt\n",
      "batchfp_req0000359080_lc.txt\n",
      "batchfp_req0000359081_lc.txt\n",
      "batchfp_req0000359082_lc.txt\n",
      "batchfp_req0000359083_lc.txt\n",
      "batchfp_req0000359084_lc.txt\n",
      "batchfp_req0000359085_lc.txt\n",
      "batchfp_req0000359086_lc.txt\n",
      "batchfp_req0000359087_lc.txt\n",
      "batchfp_req0000359088_lc.txt\n",
      "batchfp_req0000359089_lc.txt\n",
      "batchfp_req0000359090_lc.txt\n",
      "batchfp_req0000359091_lc.txt\n",
      "batchfp_req0000359092_lc.txt\n",
      "batchfp_req0000359093_lc.txt\n",
      "batchfp_req0000359094_lc.txt\n"
     ]
    },
    {
     "name": "stderr",
     "output_type": "stream",
     "text": [
      "473it [00:06, 80.55it/s]"
     ]
    },
    {
     "name": "stdout",
     "output_type": "stream",
     "text": [
      "batchfp_req0000359095_lc.txt\n",
      "batchfp_req0000359096_lc.txt\n",
      "batchfp_req0000359097_lc.txt\n",
      "batchfp_req0000359098_lc.txt\n",
      "batchfp_req0000359099_lc.txt\n",
      "batchfp_req0000359100_lc.txt\n",
      "batchfp_req0000359101_lc.txt\n",
      "batchfp_req0000359102_lc.txt\n",
      "batchfp_req0000359103_lc.txt\n",
      "batchfp_req0000359104_lc.txt\n",
      "batchfp_req0000359105_lc.txt\n",
      "batchfp_req0000359106_lc.txt\n",
      "batchfp_req0000359107_lc.txt\n",
      "batchfp_req0000359108_lc.txt\n",
      "batchfp_req0000359109_lc.txt\n",
      "batchfp_req0000359110_lc.txt\n"
     ]
    },
    {
     "name": "stderr",
     "output_type": "stream",
     "text": [
      "490it [00:06, 78.17it/s]"
     ]
    },
    {
     "name": "stdout",
     "output_type": "stream",
     "text": [
      "batchfp_req0000359111_lc.txt\n",
      "batchfp_req0000359112_lc.txt\n",
      "batchfp_req0000359113_lc.txt\n",
      "batchfp_req0000359114_lc.txt\n",
      "batchfp_req0000359115_lc.txt\n",
      "batchfp_req0000359116_lc.txt\n",
      "batchfp_req0000359117_lc.txt\n",
      "batchfp_req0000359118_lc.txt\n",
      "batchfp_req0000359119_lc.txt\n",
      "batchfp_req0000359120_lc.txt\n",
      "batchfp_req0000359121_lc.txt\n",
      "batchfp_req0000359122_lc.txt\n",
      "batchfp_req0000359123_lc.txt\n",
      "batchfp_req0000359124_lc.txt\n",
      "batchfp_req0000359125_lc.txt\n",
      "batchfp_req0000359126_lc.txt\n"
     ]
    },
    {
     "name": "stderr",
     "output_type": "stream",
     "text": [
      "506it [00:06, 75.49it/s]"
     ]
    },
    {
     "name": "stdout",
     "output_type": "stream",
     "text": [
      "batchfp_req0000359127_lc.txt\n",
      "batchfp_req0000359128_lc.txt\n",
      "batchfp_req0000359129_lc.txt\n",
      "batchfp_req0000359130_lc.txt\n",
      "batchfp_req0000359131_lc.txt\n",
      "batchfp_req0000359132_lc.txt\n",
      "batchfp_req0000359133_lc.txt\n",
      "batchfp_req0000359134_lc.txt\n",
      "batchfp_req0000359135_lc.txt\n",
      "batchfp_req0000359136_lc.txt\n",
      "batchfp_req0000359137_lc.txt\n",
      "batchfp_req0000359138_lc.txt\n",
      "batchfp_req0000359139_lc.txt\n",
      "batchfp_req0000359140_lc.txt\n",
      "batchfp_req0000359141_lc.txt\n"
     ]
    },
    {
     "name": "stderr",
     "output_type": "stream",
     "text": [
      "523it [00:06, 77.16it/s]"
     ]
    },
    {
     "name": "stdout",
     "output_type": "stream",
     "text": [
      "batchfp_req0000359142_lc.txt\n",
      "batchfp_req0000359143_lc.txt\n",
      "batchfp_req0000359144_lc.txt\n",
      "batchfp_req0000359145_lc.txt\n",
      "batchfp_req0000359146_lc.txt\n",
      "batchfp_req0000359147_lc.txt\n",
      "batchfp_req0000359148_lc.txt\n",
      "batchfp_req0000359149_lc.txt\n",
      "batchfp_req0000359150_lc.txt\n",
      "batchfp_req0000359151_lc.txt\n",
      "batchfp_req0000359152_lc.txt\n",
      "batchfp_req0000359153_lc.txt\n",
      "batchfp_req0000359154_lc.txt\n",
      "batchfp_req0000359155_lc.txt\n",
      "batchfp_req0000359156_lc.txt\n",
      "batchfp_req0000359157_lc.txt\n"
     ]
    },
    {
     "name": "stderr",
     "output_type": "stream",
     "text": [
      "540it [00:06, 79.75it/s]"
     ]
    },
    {
     "name": "stdout",
     "output_type": "stream",
     "text": [
      "batchfp_req0000359158_lc.txt\n",
      "batchfp_req0000359159_lc.txt\n",
      "batchfp_req0000359160_lc.txt\n",
      "batchfp_req0000359161_lc.txt\n",
      "batchfp_req0000359162_lc.txt\n",
      "batchfp_req0000359163_lc.txt\n",
      "batchfp_req0000359164_lc.txt\n",
      "batchfp_req0000359165_lc.txt\n",
      "batchfp_req0000359166_lc.txt\n",
      "batchfp_req0000359167_lc.txt\n",
      "batchfp_req0000359168_lc.txt\n",
      "batchfp_req0000359169_lc.txt\n",
      "batchfp_req0000359170_lc.txt\n",
      "batchfp_req0000359171_lc.txt\n",
      "batchfp_req0000359172_lc.txt\n",
      "batchfp_req0000359173_lc.txt\n"
     ]
    },
    {
     "name": "stderr",
     "output_type": "stream",
     "text": [
      "556it [00:07, 78.28it/s]"
     ]
    },
    {
     "name": "stdout",
     "output_type": "stream",
     "text": [
      "batchfp_req0000359174_lc.txt\n",
      "batchfp_req0000359175_lc.txt\n",
      "batchfp_req0000359176_lc.txt\n",
      "batchfp_req0000359177_lc.txt\n",
      "batchfp_req0000359178_lc.txt\n",
      "batchfp_req0000359179_lc.txt\n",
      "batchfp_req0000359180_lc.txt\n",
      "batchfp_req0000359181_lc.txt\n",
      "batchfp_req0000359182_lc.txt\n",
      "batchfp_req0000359183_lc.txt\n",
      "batchfp_req0000359184_lc.txt\n",
      "batchfp_req0000359185_lc.txt\n",
      "batchfp_req0000359186_lc.txt\n",
      "batchfp_req0000359187_lc.txt\n",
      "batchfp_req0000359188_lc.txt\n",
      "batchfp_req0000359189_lc.txt\n"
     ]
    },
    {
     "name": "stderr",
     "output_type": "stream",
     "text": [
      "564it [00:07, 71.52it/s]"
     ]
    },
    {
     "name": "stdout",
     "output_type": "stream",
     "text": [
      "batchfp_req0000359190_lc.txt\n",
      "batchfp_req0000359191_lc.txt\n",
      "batchfp_req0000359192_lc.txt\n",
      "batchfp_req0000359193_lc.txt\n",
      "batchfp_req0000359194_lc.txt\n",
      "batchfp_req0000359195_lc.txt\n",
      "batchfp_req0000359196_lc.txt\n",
      "batchfp_req0000359197_lc.txt\n",
      "batchfp_req0000359198_lc.txt\n",
      "batchfp_req0000359199_lc.txt\n",
      "batchfp_req0000359200_lc.txt\n",
      "batchfp_req0000359201_lc.txt\n",
      "batchfp_req0000359202_lc.txt\n"
     ]
    },
    {
     "name": "stderr",
     "output_type": "stream",
     "text": [
      "580it [00:07, 74.16it/s]"
     ]
    },
    {
     "name": "stdout",
     "output_type": "stream",
     "text": [
      "batchfp_req0000359203_lc.txt\n",
      "batchfp_req0000359204_lc.txt\n",
      "batchfp_req0000359205_lc.txt\n",
      "batchfp_req0000359206_lc.txt\n",
      "batchfp_req0000359207_lc.txt\n",
      "batchfp_req0000359208_lc.txt\n",
      "batchfp_req0000359209_lc.txt\n",
      "batchfp_req0000359210_lc.txt\n",
      "batchfp_req0000359211_lc.txt\n",
      "batchfp_req0000359212_lc.txt\n",
      "batchfp_req0000359213_lc.txt\n",
      "batchfp_req0000359214_lc.txt\n",
      "batchfp_req0000359215_lc.txt\n",
      "batchfp_req0000359216_lc.txt\n",
      "batchfp_req0000359217_lc.txt\n",
      "batchfp_req0000359218_lc.txt\n",
      "batchfp_req0000359219_lc.txt\n",
      "batchfp_req0000359220_lc.txt\n",
      "batchfp_req0000359221_lc.txt\n",
      "batchfp_req0000359222_lc.txt\n"
     ]
    },
    {
     "name": "stderr",
     "output_type": "stream",
     "text": [
      "600it [00:07, 82.12it/s]"
     ]
    },
    {
     "name": "stdout",
     "output_type": "stream",
     "text": [
      "batchfp_req0000359223_lc.txt\n",
      "batchfp_req0000359224_lc.txt\n",
      "batchfp_req0000359225_lc.txt\n",
      "batchfp_req0000359226_lc.txt\n",
      "batchfp_req0000359227_lc.txt\n",
      "batchfp_req0000359228_lc.txt\n",
      "batchfp_req0000359229_lc.txt\n",
      "batchfp_req0000359230_lc.txt\n",
      "batchfp_req0000359231_lc.txt\n",
      "batchfp_req0000359232_lc.txt\n",
      "batchfp_req0000359233_lc.txt\n",
      "batchfp_req0000359234_lc.txt\n",
      "batchfp_req0000359235_lc.txt\n",
      "batchfp_req0000359236_lc.txt\n",
      "batchfp_req0000359237_lc.txt\n",
      "batchfp_req0000359238_lc.txt\n",
      "batchfp_req0000359239_lc.txt\n",
      "batchfp_req0000359240_lc.txt\n"
     ]
    },
    {
     "name": "stderr",
     "output_type": "stream",
     "text": [
      "618it [00:07, 81.61it/s]"
     ]
    },
    {
     "name": "stdout",
     "output_type": "stream",
     "text": [
      "batchfp_req0000359241_lc.txt\n",
      "batchfp_req0000359242_lc.txt\n",
      "batchfp_req0000359243_lc.txt\n",
      "batchfp_req0000359244_lc.txt\n",
      "batchfp_req0000359245_lc.txt\n",
      "batchfp_req0000359246_lc.txt\n",
      "batchfp_req0000359247_lc.txt\n",
      "batchfp_req0000359248_lc.txt\n",
      "batchfp_req0000359249_lc.txt\n",
      "batchfp_req0000359250_lc.txt\n",
      "batchfp_req0000359251_lc.txt\n",
      "batchfp_req0000359252_lc.txt\n",
      "batchfp_req0000359253_lc.txt\n",
      "batchfp_req0000359254_lc.txt\n",
      "batchfp_req0000359255_lc.txt\n",
      "batchfp_req0000359256_lc.txt\n",
      "batchfp_req0000359257_lc.txt\n",
      "batchfp_req0000359258_lc.txt\n"
     ]
    },
    {
     "name": "stderr",
     "output_type": "stream",
     "text": [
      "636it [00:08, 81.52it/s]"
     ]
    },
    {
     "name": "stdout",
     "output_type": "stream",
     "text": [
      "batchfp_req0000359259_lc.txt\n",
      "batchfp_req0000359260_lc.txt\n",
      "batchfp_req0000359261_lc.txt\n",
      "batchfp_req0000359262_lc.txt\n",
      "batchfp_req0000359263_lc.txt\n",
      "batchfp_req0000359264_lc.txt\n",
      "batchfp_req0000359265_lc.txt\n",
      "batchfp_req0000359266_lc.txt\n",
      "batchfp_req0000359267_lc.txt\n",
      "batchfp_req0000359268_lc.txt\n",
      "batchfp_req0000359269_lc.txt\n",
      "batchfp_req0000359270_lc.txt\n",
      "batchfp_req0000359271_lc.txt\n",
      "batchfp_req0000359272_lc.txt\n",
      "batchfp_req0000359273_lc.txt\n",
      "batchfp_req0000359274_lc.txt\n",
      "batchfp_req0000359275_lc.txt\n",
      "batchfp_req0000359276_lc.txt\n",
      "batchfp_req0000359277_lc.txt\n"
     ]
    },
    {
     "name": "stderr",
     "output_type": "stream",
     "text": [
      "656it [00:08, 86.28it/s]"
     ]
    },
    {
     "name": "stdout",
     "output_type": "stream",
     "text": [
      "batchfp_req0000359278_lc.txt\n",
      "batchfp_req0000359279_lc.txt\n",
      "batchfp_req0000359280_lc.txt\n",
      "batchfp_req0000359281_lc.txt\n",
      "batchfp_req0000359282_lc.txt\n",
      "batchfp_req0000359283_lc.txt\n",
      "batchfp_req0000359284_lc.txt\n",
      "batchfp_req0000359285_lc.txt\n",
      "batchfp_req0000359286_lc.txt\n",
      "batchfp_req0000359287_lc.txt\n",
      "batchfp_req0000359288_lc.txt\n",
      "batchfp_req0000359289_lc.txt\n",
      "batchfp_req0000359290_lc.txt\n",
      "batchfp_req0000359291_lc.txt\n",
      "batchfp_req0000359292_lc.txt\n",
      "batchfp_req0000359293_lc.txt\n",
      "batchfp_req0000359294_lc.txt\n",
      "batchfp_req0000359295_lc.txt\n",
      "batchfp_req0000359296_lc.txt\n"
     ]
    },
    {
     "name": "stderr",
     "output_type": "stream",
     "text": [
      "674it [00:08, 80.15it/s]"
     ]
    },
    {
     "name": "stdout",
     "output_type": "stream",
     "text": [
      "batchfp_req0000359297_lc.txt\n",
      "batchfp_req0000359298_lc.txt\n",
      "batchfp_req0000359299_lc.txt\n",
      "batchfp_req0000359300_lc.txt\n",
      "batchfp_req0000359301_lc.txt\n",
      "batchfp_req0000359302_lc.txt\n",
      "batchfp_req0000359303_lc.txt\n",
      "batchfp_req0000359304_lc.txt\n",
      "batchfp_req0000359305_lc.txt\n",
      "batchfp_req0000359306_lc.txt\n",
      "batchfp_req0000359307_lc.txt\n",
      "batchfp_req0000359308_lc.txt\n",
      "batchfp_req0000359309_lc.txt\n",
      "batchfp_req0000359310_lc.txt\n",
      "batchfp_req0000359311_lc.txt\n",
      "batchfp_req0000359312_lc.txt\n"
     ]
    },
    {
     "name": "stderr",
     "output_type": "stream",
     "text": [
      "692it [00:08, 80.55it/s]"
     ]
    },
    {
     "name": "stdout",
     "output_type": "stream",
     "text": [
      "batchfp_req0000359313_lc.txt\n",
      "batchfp_req0000359314_lc.txt\n",
      "batchfp_req0000359315_lc.txt\n",
      "batchfp_req0000359316_lc.txt\n",
      "batchfp_req0000359317_lc.txt\n",
      "batchfp_req0000359318_lc.txt\n",
      "batchfp_req0000359319_lc.txt\n",
      "batchfp_req0000359320_lc.txt\n",
      "batchfp_req0000359321_lc.txt\n",
      "batchfp_req0000359322_lc.txt\n",
      "batchfp_req0000359323_lc.txt\n",
      "batchfp_req0000359324_lc.txt\n",
      "batchfp_req0000359325_lc.txt\n",
      "batchfp_req0000359326_lc.txt\n",
      "batchfp_req0000359327_lc.txt\n",
      "batchfp_req0000359328_lc.txt\n",
      "batchfp_req0000359329_lc.txt\n"
     ]
    },
    {
     "name": "stderr",
     "output_type": "stream",
     "text": [
      "701it [00:08, 78.05it/s]"
     ]
    },
    {
     "name": "stdout",
     "output_type": "stream",
     "text": [
      "batchfp_req0000359330_lc.txt\n",
      "batchfp_req0000359331_lc.txt\n",
      "batchfp_req0000359332_lc.txt\n",
      "batchfp_req0000359333_lc.txt\n",
      "batchfp_req0000359334_lc.txt\n"
     ]
    },
    {
     "name": "stderr",
     "output_type": "stream",
     "text": [
      "\n"
     ]
    },
    {
     "ename": "KeyboardInterrupt",
     "evalue": "",
     "output_type": "error",
     "traceback": [
      "\u001b[1;31m---------------------------------------------------------------------------\u001b[0m",
      "\u001b[1;31mKeyboardInterrupt\u001b[0m                         Traceback (most recent call last)",
      "Cell \u001b[1;32mIn[10], line 139\u001b[0m\n\u001b[0;32m    136\u001b[0m     downloaded\u001b[38;5;241m.\u001b[39mclose()\n\u001b[0;32m    137\u001b[0m     os\u001b[38;5;241m.\u001b[39mchdir(PATH)\n\u001b[1;32m--> 139\u001b[0m \u001b[43mwget_move_lightcurve\u001b[49m\u001b[43m(\u001b[49m\u001b[43mwget\u001b[49m\u001b[43m,\u001b[49m\u001b[43mdownloaded\u001b[49m\u001b[43m,\u001b[49m\u001b[43mdown_path\u001b[49m\u001b[43m,\u001b[49m\u001b[43mverbose\u001b[49m\u001b[38;5;241;43m=\u001b[39;49m\u001b[38;5;28;43;01mFalse\u001b[39;49;00m\u001b[43m)\u001b[49m\n",
      "Cell \u001b[1;32mIn[10], line 42\u001b[0m, in \u001b[0;36mwget_move_lightcurve\u001b[1;34m(wget_file, log_file, down_path, verbose)\u001b[0m\n\u001b[0;32m     40\u001b[0m log_file\u001b[38;5;241m.\u001b[39mseek(\u001b[38;5;241m0\u001b[39m)\n\u001b[0;32m     41\u001b[0m flag \u001b[38;5;241m=\u001b[39m \u001b[38;5;28;01mTrue\u001b[39;00m\n\u001b[1;32m---> 42\u001b[0m \u001b[38;5;28;01mfor\u001b[39;00m l \u001b[38;5;129;01min\u001b[39;00m \u001b[43mlog_file\u001b[49m\u001b[38;5;241;43m.\u001b[39;49m\u001b[43mreadlines\u001b[49m\u001b[43m(\u001b[49m\u001b[43m)\u001b[49m:\n\u001b[0;32m     43\u001b[0m     \u001b[38;5;28;01mif\u001b[39;00m filename \u001b[38;5;129;01min\u001b[39;00m l:\n\u001b[0;32m     44\u001b[0m         already_downloaded_path \u001b[38;5;241m=\u001b[39m l[\u001b[38;5;241m29\u001b[39m:]\u001b[38;5;241m.\u001b[39mstrip(\u001b[38;5;124m\"\u001b[39m\u001b[38;5;130;01m\\n\u001b[39;00m\u001b[38;5;124m\"\u001b[39m)\n",
      "File \u001b[1;32mc:\\Users\\timvd\\AppData\\Local\\Programs\\Python\\Python311\\Lib\\encodings\\cp1252.py:22\u001b[0m, in \u001b[0;36mIncrementalDecoder.decode\u001b[1;34m(self, input, final)\u001b[0m\n\u001b[0;32m     21\u001b[0m \u001b[38;5;28;01mclass\u001b[39;00m \u001b[38;5;21;01mIncrementalDecoder\u001b[39;00m(codecs\u001b[38;5;241m.\u001b[39mIncrementalDecoder):\n\u001b[1;32m---> 22\u001b[0m     \u001b[38;5;28;01mdef\u001b[39;00m \u001b[38;5;21mdecode\u001b[39m(\u001b[38;5;28mself\u001b[39m, \u001b[38;5;28minput\u001b[39m, final\u001b[38;5;241m=\u001b[39m\u001b[38;5;28;01mFalse\u001b[39;00m):\n\u001b[0;32m     23\u001b[0m         \u001b[38;5;28;01mreturn\u001b[39;00m codecs\u001b[38;5;241m.\u001b[39mcharmap_decode(\u001b[38;5;28minput\u001b[39m,\u001b[38;5;28mself\u001b[39m\u001b[38;5;241m.\u001b[39merrors,decoding_table)[\u001b[38;5;241m0\u001b[39m]\n",
      "\u001b[1;31mKeyboardInterrupt\u001b[0m: "
     ]
    }
   ],
   "source": [
    "#change this to wget.txt instead of wget_test.txt in order to run on ALL lightcurves except for Sjoert's.\n",
    "# wget = open(r'C:\\Users\\timvd\\Documents\\Uni 2023-2024\\First Research Project\\Data\\wget_test.txt','r')\n",
    "wget = open(r'C:\\Users\\timvd\\Documents\\Uni 2023-2024\\First Research Project\\Data\\dump\\wget.txt','r')\n",
    "downloaded = open(r\"C:\\Users\\timvd\\Documents\\Uni 2023-2024\\First Research Project\\Data\\dump\\downloaded_files.txt\",'a+')\n",
    "\n",
    "#maybe a truncated view? seperate into multiple functions (since the log writing code is repeated twice now for instance). This is just\n",
    "#to make it more pretty not any functionality\n",
    "\n",
    "down_path = os.path.join(DATAPATHmaster,\"DOWNLOADED\")\n",
    "\n",
    "def wget_move_lightcurve(wget_file,log_file,down_path,verbose=True):\n",
    "    \"\"\"Downloads lightcurves per wget commands that are in seperate lines in a .txt file to the \"down_path\" directory \n",
    "       and moves them to the correct directory for oversightful bookkeeping.\n",
    "       Is able to handle duplicates; if a downloaded file already exists at the right location the new download is deleted.\n",
    "       Logs the downloads and subsequent directories in the a log file (\"log_file\"). New downloads only logged only if the \n",
    "       file doesn't already exist in its right location.\n",
    "\n",
    "    Args:\n",
    "        wget_file (string): Full path to the .txt file that holds the wget commands to be executed.\n",
    "        log_file (string): Full path to the log_file (.txt) which holds the filename and correct path of all downloaded lightcurves. This file should never be manually touched.\n",
    "        down_path (string): Full path to the directory where the wget commands will be executed and thus the files be downloaded before being moved.\n",
    "        verbose (boolean): Boolen value that, for now, only silences the prompt when a file is already downloaded (since these may take up a lot of space) when set to False.\n",
    "                           Default is True.\n",
    "    \"\"\"\n",
    "    #proceed only if there's not already some files in DOWNLOADED, else there might be duplicates.\n",
    "    if len(os.listdir(down_path)) == 0:\n",
    "        for line in tqdm(wget_file):\n",
    "            #Boolean that tracks if the current wget is going to download a file that already exists according to the log file.\n",
    "            skip_iter = False\n",
    "\n",
    "            #extract the file name from the wget command and note its current path in the DOWNLOADED folder\n",
    "            filename = line[55:][:28]\n",
    "            filepath = os.path.join(down_path,filename)\n",
    "\n",
    "            #Place to store empty lightcurves (still stored for possible further inspection.)\n",
    "            emptypath = r'C:\\Users\\timvd\\Documents\\Uni 2023-2024\\First Research Project\\Data\\EMPTY'\n",
    "\n",
    "            #if the file to be downloaded (as extracted from the wget command) is already in the download log_file, skip the iteration after verifying the log file \n",
    "            # and continue to the next wget command before downloading.\n",
    "            log_file.seek(0)\n",
    "            flag = True\n",
    "            for l in log_file.readlines():\n",
    "                if filename in l:\n",
    "                    already_downloaded_path = l[29:].strip(\"\\n\")\n",
    "                    if verbose:\n",
    "                        print(f'Download log shows {filename} is already downloaded at {already_downloaded_path}. Continuing to next command.')\n",
    "                    skip_iter = True\n",
    "                    break\n",
    "                else:\n",
    "                    if flag:\n",
    "                        print(filename)\n",
    "                        flag = False\n",
    "\n",
    "            if skip_iter:\n",
    "                #check if the log file is even correct; see if the file to be downloaded actually exists in the path specified by the log file.\n",
    "                #if it isn't continue the download and move it to the correct place. The log file will then be correct as well - it doesn't need manual correction.\n",
    "                if filename in os.listdir(already_downloaded_path):\n",
    "                    continue\n",
    "                else:\n",
    "                    print(f\"Log file was incorrect for file {filename}, suspected manual deletion of lightcurve. Continuing download.\")\n",
    "\n",
    "            #change to the download directory\n",
    "            os.chdir(down_path)\n",
    "            os.system(line)\n",
    "\n",
    "            #get year and transient (ZTF) ID from the lightcurve file\n",
    "            try:\n",
    "                year,ID = get_year(filepath)\n",
    "                yearpath = os.path.join(DATAPATHmaster,str(year))\n",
    "                savepath = os.path.join(yearpath,ID)\n",
    "            #This is triggered when the file is empty\n",
    "            except IndexError:\n",
    "                # if verbose:\n",
    "                log_string = f'{filename} {emptypath}\\n'\n",
    "                print(\"Downloaded lightcurve is empty. Moving to empty folder.\")\n",
    "\n",
    "                try:\n",
    "                    os.rename(filepath,os.path.join(emptypath,filename))\n",
    "                    #if skip_iter is set to True, then the log_file will already have an entry somewhere specifying the file in the current iteration which we can trust to be true. \n",
    "                    # Then the log file needn't be updated.\n",
    "                    if not skip_iter:\n",
    "                        #if the the exact log_string is not yet in the log file, write it to the log file.\n",
    "                        if log_string not in log_file.readlines():\n",
    "                            log_file.write(log_string)\n",
    "\n",
    "                except FileExistsError:\n",
    "                    print(f\"There already is a file with this exact name ({filename}) at the specified location. Deleting the new download and updating log file.\")\n",
    "                    os.remove(filepath)\n",
    "                    #if it so happens that a file is not logged but it is found now that it does in fact exist, update the log file.\n",
    "                    if not skip_iter:\n",
    "                        #if the the exact log_string is not yet in the log file, write it to the log file.\n",
    "                        if log_string not in log_file.readlines():\n",
    "                            log_file.write(log_string)\n",
    "                \n",
    "                #and continue to the next download\n",
    "                continue\n",
    "\n",
    "\n",
    "            #if a folder for the lightcurve does not already exist, make it.\n",
    "            if ID not in os.listdir(yearpath): \n",
    "                os.mkdir(savepath)\n",
    "\n",
    "            #move the file from the download folder to its rightful location\n",
    "            #if the file already exists in its right location, let the user know and delete the newly downloaded file \n",
    "            # this is because the lightcurves shouldn't be any different or better.\n",
    "            #Moreover, don't log the file in the log_file if the file already exists in its location - it should then already be in the log_file.\n",
    "            log_string = f'{filename} {savepath}\\n'\n",
    "            try:\n",
    "                os.rename(filepath,os.path.join(savepath,filename))\n",
    "                #if skip_iter is set to True, then the log_file will already have an entry somewhere specifying the file in the current iteration which we can trust to be true. \n",
    "                # Then the log file needn't be updated.\n",
    "                if not skip_iter:\n",
    "                    #if the the exact log_string is not yet in the log file, write it to the log file.\n",
    "                    if log_string not in log_file.readlines():\n",
    "                        log_file.write(log_string)\n",
    "\n",
    "            except FileExistsError:\n",
    "                print(f\"There already is a file with this exact name ({filename}) at the specified location. Deleting the new download and updating log file.\")\n",
    "                os.remove(filepath)\n",
    "                #if it so happens that a file is not logged but it is found now that it does in fact exist, update the log file.\n",
    "                if not skip_iter:\n",
    "                    #if the the exact log_string is not yet in the log file, write it to the log file.\n",
    "                    if log_string not in log_file.readlines():\n",
    "                        log_file.write(log_string)\n",
    "\n",
    "    else:\n",
    "        del_down = input(f'There are already {len(os.listdir(down_path))} files in the \"DOWNLOADED\" folder, would you like to delete these? y/n ')\n",
    "        if del_down.lower() == 'y':\n",
    "            for file in os.listdir(down_path):\n",
    "                os.remove(file)\n",
    "        else:\n",
    "            print(\"Please remove all files from the directory before proceeding.\")\n",
    "\n",
    "    #close files and return the working directory to the one at the start of the code.        \n",
    "    wget_file.close()\n",
    "    downloaded.close()\n",
    "    os.chdir(PATH)\n",
    "\n",
    "wget_move_lightcurve(wget,downloaded,down_path,verbose=False)"
   ]
  }
 ],
 "metadata": {
  "kernelspec": {
   "display_name": "Python 3",
   "language": "python",
   "name": "python3"
  },
  "language_info": {
   "codemirror_mode": {
    "name": "ipython",
    "version": 3
   },
   "file_extension": ".py",
   "mimetype": "text/x-python",
   "name": "python",
   "nbconvert_exporter": "python",
   "pygments_lexer": "ipython3",
   "version": "3.11.8"
  }
 },
 "nbformat": 4,
 "nbformat_minor": 2
}
